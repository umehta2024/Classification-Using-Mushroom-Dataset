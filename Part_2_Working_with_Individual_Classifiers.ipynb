{
  "nbformat": 4,
  "nbformat_minor": 5,
  "metadata": {
    "kernelspec": {
      "display_name": "R",
      "language": "R",
      "name": "ir"
    },
    "language_info": {
      "codemirror_mode": "r",
      "file_extension": ".r",
      "mimetype": "text/x-r-source",
      "name": "R",
      "pygments_lexer": "r",
      "version": "3.6.1"
    },
    "colab": {
      "name": "Part - 2 Working with Individual Classifiers.ipynb",
      "provenance": [],
      "collapsed_sections": []
    }
  },
  "cells": [
    {
      "cell_type": "markdown",
      "metadata": {
        "id": "XhgB_NqJH-UI"
      },
      "source": [
        "## **Mushroom Classification**\n",
        "HW 02 -- Working with Individual Classifiers\n"
      ],
      "id": "XhgB_NqJH-UI"
    },
    {
      "cell_type": "markdown",
      "metadata": {
        "id": "E_xjry8roJs2"
      },
      "source": [
        "Upasana Mehta - um2024 - um2024@nyu.edu"
      ],
      "id": "E_xjry8roJs2"
    },
    {
      "cell_type": "markdown",
      "metadata": {
        "id": "gutXjFNSIuuR"
      },
      "source": [
        "This is a mushroom type classification deciphering if the mushroom is \"edible\" or \"poisonous\". I started with a total of 23 variables(22 independent and 1 dependent variable) and 8124 observations. But after EDA the datset is cleaned,  normalised and all the corelated variables have been removed for unbiased result. Now we are left with 18 dependent variables and 1 dependent.\n",
        "\n",
        "After doing the EDA, I took the dataframe and converted it to an excel file. Taking that input as an excel file for HW 02.\n",
        "\n",
        "File name - AfterEDA_dataset.csv"
      ],
      "id": "gutXjFNSIuuR"
    },
    {
      "cell_type": "code",
      "metadata": {
        "id": "7e503eff",
        "colab": {
          "base_uri": "https://localhost:8080/"
        },
        "outputId": "bd68cd1c-ec60-4e33-acaf-301fb928508b"
      },
      "source": [
        "install.packages(\"caret\")"
      ],
      "id": "7e503eff",
      "execution_count": 1,
      "outputs": [
        {
          "output_type": "stream",
          "name": "stderr",
          "text": [
            "Installing package into ‘/usr/local/lib/R/site-library’\n",
            "(as ‘lib’ is unspecified)\n",
            "\n",
            "also installing the dependencies ‘future.apply’, ‘lava’, ‘prodlim’, ‘ipred’, ‘plyr’, ‘pROC’, ‘recipes’, ‘reshape2’\n",
            "\n",
            "\n"
          ]
        }
      ]
    },
    {
      "cell_type": "markdown",
      "metadata": {
        "id": "4W5e44gpLgRK"
      },
      "source": [
        ""
      ],
      "id": "4W5e44gpLgRK"
    },
    {
      "cell_type": "code",
      "metadata": {
        "id": "HQ4ncuRHH4lv",
        "colab": {
          "base_uri": "https://localhost:8080/"
        },
        "outputId": "a62ba673-83e7-4001-fb6f-b1e8b5aae580"
      },
      "source": [
        "library(caret)\n",
        "library(rpart)\n",
        "library(dplyr)"
      ],
      "id": "HQ4ncuRHH4lv",
      "execution_count": 2,
      "outputs": [
        {
          "output_type": "stream",
          "name": "stderr",
          "text": [
            "Loading required package: ggplot2\n",
            "\n",
            "Loading required package: lattice\n",
            "\n",
            "Warning message in system(\"timedatectl\", intern = TRUE):\n",
            "“running command 'timedatectl' had status 1”\n",
            "\n",
            "Attaching package: ‘dplyr’\n",
            "\n",
            "\n",
            "The following objects are masked from ‘package:stats’:\n",
            "\n",
            "    filter, lag\n",
            "\n",
            "\n",
            "The following objects are masked from ‘package:base’:\n",
            "\n",
            "    intersect, setdiff, setequal, union\n",
            "\n",
            "\n"
          ]
        }
      ]
    },
    {
      "cell_type": "code",
      "metadata": {
        "id": "FZlD_Z7xH-ki"
      },
      "source": [
        "mushroomdata <- read.csv(\"AfterEDA_dataset.csv\")"
      ],
      "id": "FZlD_Z7xH-ki",
      "execution_count": 3,
      "outputs": []
    },
    {
      "cell_type": "code",
      "metadata": {
        "colab": {
          "base_uri": "https://localhost:8080/"
        },
        "id": "6ZWvsNbUIH34",
        "outputId": "ec072f85-e072-4e65-8259-84d361a282d8"
      },
      "source": [
        "glimpse(mushroomdata)"
      ],
      "id": "6ZWvsNbUIH34",
      "execution_count": 4,
      "outputs": [
        {
          "output_type": "stream",
          "name": "stdout",
          "text": [
            "Rows: 8,124\n",
            "Columns: 19\n",
            "$ class                    \u001b[3m\u001b[90m<int>\u001b[39m\u001b[23m 2, 1, 1, 2, 1, 1, 1, 1, 2, 1, 1, 1, 1, 2, 1, …\n",
            "$ cap.shape                \u001b[3m\u001b[90m<int>\u001b[39m\u001b[23m 6, 6, 1, 6, 6, 6, 1, 1, 6, 1, 6, 6, 1, 6, 6, …\n",
            "$ cap.surface              \u001b[3m\u001b[90m<int>\u001b[39m\u001b[23m 3, 3, 3, 4, 3, 4, 3, 4, 4, 3, 4, 4, 3, 4, 1, …\n",
            "$ cap.color                \u001b[3m\u001b[90m<int>\u001b[39m\u001b[23m 5, 10, 9, 9, 4, 10, 9, 9, 9, 10, 10, 10, 10, …\n",
            "$ bruises                  \u001b[3m\u001b[90m<int>\u001b[39m\u001b[23m 2, 2, 2, 2, 1, 2, 2, 2, 2, 2, 2, 2, 2, 2, 1, …\n",
            "$ odor                     \u001b[3m\u001b[90m<int>\u001b[39m\u001b[23m 7, 1, 4, 7, 6, 1, 1, 4, 7, 1, 4, 1, 1, 7, 6, …\n",
            "$ gill.size                \u001b[3m\u001b[90m<int>\u001b[39m\u001b[23m 2, 1, 1, 2, 1, 1, 1, 1, 2, 1, 1, 1, 1, 2, 1, …\n",
            "$ gill.color               \u001b[3m\u001b[90m<int>\u001b[39m\u001b[23m 5, 5, 6, 6, 5, 6, 3, 6, 8, 3, 3, 6, 11, 5, 6,…\n",
            "$ stalk.shape              \u001b[3m\u001b[90m<int>\u001b[39m\u001b[23m 1, 1, 1, 1, 2, 1, 1, 1, 1, 1, 1, 1, 1, 1, 2, …\n",
            "$ stalk.root               \u001b[3m\u001b[90m<int>\u001b[39m\u001b[23m 4, 3, 3, 4, 4, 3, 3, 3, 4, 3, 3, 3, 3, 4, 4, …\n",
            "$ stalk.surface.above.ring \u001b[3m\u001b[90m<int>\u001b[39m\u001b[23m 3, 3, 3, 3, 3, 3, 3, 3, 3, 3, 3, 3, 3, 3, 3, …\n",
            "$ stalk.surface.below.ring \u001b[3m\u001b[90m<int>\u001b[39m\u001b[23m 3, 3, 3, 3, 3, 3, 3, 3, 3, 3, 3, 3, 3, 3, 1, …\n",
            "$ stalk.color.above.ring   \u001b[3m\u001b[90m<int>\u001b[39m\u001b[23m 8, 8, 8, 8, 8, 8, 8, 8, 8, 8, 8, 8, 8, 8, 8, …\n",
            "$ stalk.color.below.ring   \u001b[3m\u001b[90m<int>\u001b[39m\u001b[23m 8, 8, 8, 8, 8, 8, 8, 8, 8, 8, 8, 8, 8, 8, 8, …\n",
            "$ ring.number              \u001b[3m\u001b[90m<int>\u001b[39m\u001b[23m 2, 2, 2, 2, 2, 2, 2, 2, 2, 2, 2, 2, 2, 2, 2, …\n",
            "$ ring.type                \u001b[3m\u001b[90m<int>\u001b[39m\u001b[23m 5, 5, 5, 5, 1, 5, 5, 5, 5, 5, 5, 5, 5, 5, 1, …\n",
            "$ spore.print.color        \u001b[3m\u001b[90m<int>\u001b[39m\u001b[23m 3, 4, 4, 3, 4, 3, 3, 4, 3, 3, 4, 3, 4, 4, 3, …\n",
            "$ population               \u001b[3m\u001b[90m<int>\u001b[39m\u001b[23m 4, 3, 3, 4, 1, 3, 3, 4, 5, 4, 3, 4, 4, 5, 1, …\n",
            "$ habitat                  \u001b[3m\u001b[90m<int>\u001b[39m\u001b[23m 6, 2, 4, 6, 2, 2, 4, 4, 2, 4, 2, 4, 2, 6, 2, …\n"
          ]
        }
      ]
    },
    {
      "cell_type": "code",
      "metadata": {
        "id": "fFXiW_GPI8A4"
      },
      "source": [
        "#As we can see we have 8124 observations and 19 columns which has 1 dependent variable called \"class\"\n",
        "# and 17 independent variables."
      ],
      "id": "fFXiW_GPI8A4",
      "execution_count": 5,
      "outputs": []
    },
    {
      "cell_type": "markdown",
      "metadata": {
        "id": "KJuoVpMIGzsn"
      },
      "source": [
        "Now we need to prepare the data before creating the first Classification Model. This is done by splitting the data into Testing Data and Training Data. 70% of the total data were randomly stored as training set and 30% as testing set."
      ],
      "id": "KJuoVpMIGzsn"
    },
    {
      "cell_type": "code",
      "metadata": {
        "id": "Ve7BRMJhIul8"
      },
      "source": [
        "set.seed(43)\n",
        "randomized=mushroomdata[sample(1:nrow(mushroomdata),nrow(mushroomdata)),] #Random sampling for creating test and train data\n",
        "tridx=sample(1:nrow(mushroomdata),0.7*nrow(mushroomdata),replace=F) \n",
        "trdf=randomized[tridx,] # Training data set\n",
        "tstdf=randomized[-tridx,] # Testing data set"
      ],
      "id": "Ve7BRMJhIul8",
      "execution_count": 6,
      "outputs": []
    },
    {
      "cell_type": "code",
      "metadata": {
        "id": "JwnwAyYmJxOs"
      },
      "source": [
        "#Now we will check if the distribution is similar in the actual data, training data and testing data"
      ],
      "id": "JwnwAyYmJxOs",
      "execution_count": 7,
      "outputs": []
    },
    {
      "cell_type": "code",
      "metadata": {
        "colab": {
          "base_uri": "https://localhost:8080/",
          "height": 68
        },
        "id": "3URd1UvqJ-eW",
        "outputId": "cd88bb33-dd16-42d1-c4ea-79c3841c2556"
      },
      "source": [
        "table(mushroomdata$class)/nrow(mushroomdata)\n"
      ],
      "id": "3URd1UvqJ-eW",
      "execution_count": 8,
      "outputs": [
        {
          "output_type": "display_data",
          "data": {
            "text/plain": [
              "\n",
              "        1         2 \n",
              "0.5179714 0.4820286 "
            ]
          },
          "metadata": {}
        }
      ]
    },
    {
      "cell_type": "code",
      "metadata": {
        "colab": {
          "base_uri": "https://localhost:8080/",
          "height": 68
        },
        "id": "ugBwhBSeK49J",
        "outputId": "fb8ef255-6f0c-4ca8-e93f-fcf86b89a0ca"
      },
      "source": [
        "table(trdf$class)/nrow(trdf)"
      ],
      "id": "ugBwhBSeK49J",
      "execution_count": 9,
      "outputs": [
        {
          "output_type": "display_data",
          "data": {
            "text/plain": [
              "\n",
              "        1         2 \n",
              "0.5172353 0.4827647 "
            ]
          },
          "metadata": {}
        }
      ]
    },
    {
      "cell_type": "code",
      "metadata": {
        "colab": {
          "base_uri": "https://localhost:8080/",
          "height": 68
        },
        "id": "THTFIDBAK_0O",
        "outputId": "9ad0e0f8-e215-47d1-d962-6aa400eccef6"
      },
      "source": [
        "table(tstdf$class)/nrow(tstdf)"
      ],
      "id": "THTFIDBAK_0O",
      "execution_count": 10,
      "outputs": [
        {
          "output_type": "display_data",
          "data": {
            "text/plain": [
              "\n",
              "        1         2 \n",
              "0.5196883 0.4803117 "
            ]
          },
          "metadata": {}
        }
      ]
    },
    {
      "cell_type": "code",
      "metadata": {
        "id": "NcxHDgBCLEyO"
      },
      "source": [
        "# As we can see the distribution is almost same. So the training dataset and testing dataset is a proper \n",
        "# representation of the actual data "
      ],
      "id": "NcxHDgBCLEyO",
      "execution_count": 11,
      "outputs": []
    },
    {
      "cell_type": "markdown",
      "metadata": {
        "id": "41Y0JqIJOmdE"
      },
      "source": [
        "**Variance Estimation**"
      ],
      "id": "41Y0JqIJOmdE"
    },
    {
      "cell_type": "markdown",
      "metadata": {
        "id": "sSkUnxMuOvdW"
      },
      "source": [
        "Variance measures how spread out the data in a sample is. If\n",
        "the variance is small, this means that all the measurements are close to the mean and there is not a lot of variability. If the variance is large, the data is very spread out and highly variable."
      ],
      "id": "sSkUnxMuOvdW"
    },
    {
      "cell_type": "code",
      "metadata": {
        "id": "u4gTkHwbPEmq"
      },
      "source": [
        "varEst_tridx=sample(1:nrow(trdf), 0.9*nrow(trdf), replace=F) # Taking 90% of the total number of samples\n",
        "varEst_trdf=trdf[varEst_tridx,] # Training data for variance estimation\n",
        "varEst_tstdf=trdf[-varEst_tridx,] # Testing data for variance estimation"
      ],
      "id": "u4gTkHwbPEmq",
      "execution_count": 12,
      "outputs": []
    },
    {
      "cell_type": "code",
      "metadata": {
        "id": "4B45vt6YPixu"
      },
      "source": [
        "varEst=function(trdf,tstdf,percent,type){\n",
        "    target_idx=which(names(trdf)==\"class\")\n",
        "    acc_varEstp=c(); # Initialize a variable to store the accuracies computed in the loop\n",
        "    for(i in 1:10){\n",
        "        varEstp_tridx=sample(1:nrow(trdf), percent/100*nrow(trdf), replace=F) # Take samples, percent% of the data\n",
        "        varEstp_trdf=trdf[varEstp_tridx,]\n",
        "        \n",
        "        # For logistic\n",
        "        if(type==\"glm\"){\n",
        "            mn_model_varEstp=glm(formstr, varEstp_trdf,family=gaussian()) #Train a Logistic model\n",
        "            pred_varEstp=predict(mn_model_varEstp, tstdf[,-target_idx], type=\"response\") # Predict with variance estimation partition\n",
        "        } \n",
        "        \n",
        "        # For SVM\n",
        "        else if(type==\"svm\"){\n",
        "            svm_model_varEstp = svm(class~., varEstp_trdf, scale = FALSE)\n",
        "            pred_varEstp1=predict(svm_model_varEstp, tstdf[,-target_idx])\n",
        "            pred_varEstp = ifelse(pred_varEstp1 > 0.5, \"1\", \"0\")\n",
        "        }\n",
        "            \n",
        "        # For Tree\n",
        "        else if(type==\"rpart\"){ \n",
        "            tree_model_varEstp=rpart(formstr, varEstp_trdf,method = 'class')\n",
        "            pred_varEstp=predict(tree_model_varEstp, tstdf[,-target_idx], type=\"class\")\n",
        "            \n",
        "        }\n",
        "            \n",
        "        # For KNN \n",
        "        else if(type==\"knn\"){\n",
        "            trclass=factor(varEstp_trdf[,target_idx])\n",
        "            tstclass=factor(tstdf[,target_idx])\n",
        "            pred_varEstp=knn(varEstp_trdf[,-target_idx], tstdf[,-target_idx], trclass, k = 15, prob=TRUE)\n",
        "        } \n",
        "        \n",
        "        else {\n",
        "            print(\"Type should be Logistic or tree or KNN or SVM\")\n",
        "            return()\n",
        "        }\n",
        "        u_varEstp=union(pred_varEstp, tstdf[,target_idx]) # Avoids issues when number of classes are not equal\n",
        "        t_varEstp=table(factor(pred_varEstp, u_varEstp), factor(tstdf[,target_idx],u_varEstp))\n",
        "        mn_cfm_varEstp=confusionMatrix(t_varEstp) # Confusion Matrix\n",
        "        mn_acc_varEstp=mn_cfm_varEstp$overall[[\"Accuracy\"]] # Accuracy of predictions\n",
        "        acc_varEstp=c(acc_varEstp,mn_acc_varEstp) # Store\n",
        "    }\n",
        "    mean_varEstp=signif(mean(acc_varEstp),4)\n",
        "    var_varEstp=signif(var(acc_varEstp),4)\n",
        "    varEstp=data.frame(mean_varEstp,var_varEstp)\n",
        "    names(varEstp)=c(\"Mean of Accuracies\",\"Variance of Accuracies\")\n",
        "    return(t(varEstp))\n",
        "}"
      ],
      "id": "4B45vt6YPixu",
      "execution_count": 13,
      "outputs": []
    },
    {
      "cell_type": "code",
      "metadata": {
        "id": "w5mJ5UK0P01W"
      },
      "source": [
        "# We will use this function to caluculate Variance Estimation for 4 algorithms we are going to work on"
      ],
      "id": "w5mJ5UK0P01W",
      "execution_count": 14,
      "outputs": []
    },
    {
      "cell_type": "markdown",
      "metadata": {
        "id": "fiKdle7Pgscu"
      },
      "source": [
        "I will be running 4 classification algorithms and my aim is to determine which among these 4 classification models - Logistic Regression, SVM, Decision Tree and KNN is a better performing model and is able to classify a mushroom more accurately if it is edible or poisonous."
      ],
      "id": "fiKdle7Pgscu"
    },
    {
      "cell_type": "markdown",
      "metadata": {
        "id": "T4tzLhRYQO2C"
      },
      "source": [
        "**Logistic Regression**"
      ],
      "id": "T4tzLhRYQO2C"
    },
    {
      "cell_type": "code",
      "metadata": {
        "id": "etheu7pHQOOH"
      },
      "source": [
        "# Create a logistic regression model \n",
        "formstr=\"class~.\" # Formula argument with all features\n",
        "glm_model1 = glm(formstr,trdf,family=gaussian()) # Train the model"
      ],
      "id": "etheu7pHQOOH",
      "execution_count": 15,
      "outputs": []
    },
    {
      "cell_type": "code",
      "metadata": {
        "colab": {
          "base_uri": "https://localhost:8080/",
          "height": 680
        },
        "id": "D7ON_GnhDfhH",
        "outputId": "7c57c0bd-40f8-49b8-8545-56ae951a43d4"
      },
      "source": [
        "summary(glm_model1)"
      ],
      "id": "D7ON_GnhDfhH",
      "execution_count": 16,
      "outputs": [
        {
          "output_type": "display_data",
          "data": {
            "text/plain": [
              "\n",
              "Call:\n",
              "glm(formula = formstr, family = gaussian(), data = trdf)\n",
              "\n",
              "Deviance Residuals: \n",
              "     Min        1Q    Median        3Q       Max  \n",
              "-1.35356  -0.12741  -0.00467   0.12791   1.12745  \n",
              "\n",
              "Coefficients:\n",
              "                          Estimate Std. Error t value Pr(>|t|)    \n",
              "(Intercept)               2.632216   0.067548  38.968  < 2e-16 ***\n",
              "cap.shape                 0.001173   0.002329   0.504    0.614    \n",
              "cap.surface               0.032514   0.003292   9.877  < 2e-16 ***\n",
              "cap.color                -0.009046   0.001760  -5.141 2.83e-07 ***\n",
              "bruises                  -0.030049   0.014407  -2.086    0.037 *  \n",
              "odor                     -0.023239   0.002257 -10.297  < 2e-16 ***\n",
              "gill.size                 0.576213   0.014852  38.798  < 2e-16 ***\n",
              "gill.color               -0.022028   0.001487 -14.812  < 2e-16 ***\n",
              "stalk.shape              -0.203986   0.013727 -14.861  < 2e-16 ***\n",
              "stalk.root               -0.113529   0.005585 -20.327  < 2e-16 ***\n",
              "stalk.surface.above.ring -0.165639   0.007403 -22.376  < 2e-16 ***\n",
              "stalk.surface.below.ring -0.047782   0.007257  -6.584 4.98e-11 ***\n",
              "stalk.color.above.ring   -0.019232   0.002483  -7.747 1.11e-14 ***\n",
              "stalk.color.below.ring   -0.010615   0.002510  -4.230 2.38e-05 ***\n",
              "ring.number              -0.157023   0.021622  -7.262 4.32e-13 ***\n",
              "ring.type                -0.023218   0.004438  -5.231 1.74e-07 ***\n",
              "spore.print.color        -0.052111   0.003379 -15.420  < 2e-16 ***\n",
              "population                0.048331   0.003856  12.535  < 2e-16 ***\n",
              "habitat                   0.028454   0.002576  11.045  < 2e-16 ***\n",
              "---\n",
              "Signif. codes:  0 ‘***’ 0.001 ‘**’ 0.01 ‘*’ 0.05 ‘.’ 0.1 ‘ ’ 1\n",
              "\n",
              "(Dispersion parameter for gaussian family taken to be 0.07637594)\n",
              "\n",
              "    Null deviance: 1419.81  on 5685  degrees of freedom\n",
              "Residual deviance:  432.82  on 5667  degrees of freedom\n",
              "AIC: 1532.2\n",
              "\n",
              "Number of Fisher Scoring iterations: 2\n"
            ]
          },
          "metadata": {}
        }
      ]
    },
    {
      "cell_type": "code",
      "metadata": {
        "id": "mxKFpgUMDlFB"
      },
      "source": [
        "# Predict using the train data (Learning Phase)\n",
        "glm_pred1_tr_=predict(glm_model1,trdf[, -which(names(trdf)==\"class\")], type = \"response\")\n",
        "# glm_pred1_tr_ will the predicted values from 1 to 2(can be any value, decimal also) as it is a binomial distribution. \n",
        "# To make the glm_pred1_tr_ in 1 and 2, using the below if loop. \n",
        "glm_pred1_tr = ifelse(glm_pred1_tr_ > 1, \"2\", \"1\")"
      ],
      "id": "mxKFpgUMDlFB",
      "execution_count": 17,
      "outputs": []
    },
    {
      "cell_type": "code",
      "metadata": {
        "colab": {
          "base_uri": "https://localhost:8080/"
        },
        "id": "bzBshsAeFR0L",
        "outputId": "5f9db67f-44de-44de-8de8-d8cfbd4617b5"
      },
      "source": [
        "print(glm_pred1_tr)"
      ],
      "id": "bzBshsAeFR0L",
      "execution_count": 18,
      "outputs": [
        {
          "output_type": "stream",
          "name": "stdout",
          "text": [
            "6746 6362 2719 7439 5215 7446 5760 1717 5630 3722 6061  192 2571 1760  890 6550 \n",
            " \"2\"  \"2\"  \"1\"  \"2\"  \"2\"  \"1\"  \"2\"  \"2\"  \"2\"  \"2\"  \"2\"  \"2\"  \"1\"  \"2\"  \"2\"  \"2\" \n",
            "7331   23 1651 2029 2458   78 4339  297 5920  143 2845  696 2004 5246 7772 3224 \n",
            " \"2\"  \"2\"  \"2\"  \"2\"  \"1\"  \"2\"  \"2\"  \"2\"  \"2\"  \"2\"  \"2\"  \"2\"  \"2\"  \"2\"  \"2\"  \"2\" \n",
            " 146 4744 4552  910 2519 5495 2688 7146 6780  132 3369 3411  319   68 4145  672 \n",
            " \"2\"  \"2\"  \"2\"  \"2\"  \"2\"  \"1\"  \"2\"  \"2\"  \"2\"  \"2\"  \"2\"  \"2\"  \"2\"  \"1\"  \"2\"  \"2\" \n",
            "5459  447 3906 6377 6897 6410 3163  363  643 6889 5806 6087 8067 1394 1361 7402 \n",
            " \"2\"  \"2\"  \"2\"  \"2\"  \"2\"  \"2\"  \"2\"  \"2\"  \"1\"  \"2\"  \"2\"  \"2\"  \"2\"  \"2\"  \"2\"  \"2\" \n",
            "6756 6367 7517 7241 6712 1350 1168 1920 5872 6484  815 4210 4442 6050  325 5256 \n",
            " \"2\"  \"2\"  \"2\"  \"2\"  \"2\"  \"2\"  \"2\"  \"2\"  \"2\"  \"2\"  \"2\"  \"2\"  \"2\"  \"2\"  \"1\"  \"2\" \n",
            "7984 3391 2531 5082 5321  127 5291 4370 3392 2078  748 7607 1542 1605  627 3389 \n",
            " \"2\"  \"2\"  \"2\"  \"2\"  \"2\"  \"2\"  \"2\"  \"2\"  \"2\"  \"2\"  \"2\"  \"2\"  \"1\"  \"1\"  \"2\"  \"2\" \n",
            "2600 1708 4072 1390 3360 7014  242  230 1177  915 7254   62 5123 3927 3790 3193 \n",
            " \"2\"  \"2\"  \"2\"  \"1\"  \"2\"  \"2\"  \"2\"  \"2\"  \"2\"  \"2\"  \"2\"  \"2\"  \"2\"  \"2\"  \"2\"  \"2\" \n",
            "2612 3963  976 2687 1330   47 2066 7746 2574 6008 5961 3922 2863 1471 3690 8009 \n",
            " \"2\"  \"2\"  \"2\"  \"2\"  \"2\"  \"2\"  \"2\"  \"2\"  \"2\"  \"2\"  \"2\"  \"2\"  \"2\"  \"2\"  \"2\"  \"2\" \n",
            " 358 8007  972 5675 7917   35  604 3188 4769 8084 4245 4104 4699 2056 5897 3657 \n",
            " \"2\"  \"2\"  \"2\"  \"2\"  \"1\"  \"2\"  \"2\"  \"2\"  \"2\"  \"2\"  \"2\"  \"2\"  \"2\"  \"2\"  \"2\"  \"2\" \n",
            "6678 2489 4294 2054 6517 1399 8058 3131 1644 2061 6874  754 4272 4965 7368 4526 \n",
            " \"2\"  \"2\"  \"2\"  \"1\"  \"2\"  \"1\"  \"2\"  \"2\"  \"2\"  \"2\"  \"2\"  \"2\"  \"2\"  \"2\"  \"2\"  \"2\" \n",
            "1246 2400 2682 4503  334 7562 1603 3955 4892 3234 3485 2101 2704 5574  506 7827 \n",
            " \"1\"  \"2\"  \"2\"  \"2\"  \"2\"  \"2\"  \"1\"  \"2\"  \"2\"  \"2\"  \"2\"  \"2\"  \"1\"  \"2\"  \"2\"  \"2\" \n",
            "2734 2318  112 1866 3498 1172 4856 6564 2717 5105 7314 2263 5849 4096  372 1079 \n",
            " \"2\"  \"2\"  \"2\"  \"2\"  \"2\"  \"2\"  \"2\"  \"2\"  \"2\"  \"2\"  \"2\"  \"2\"  \"2\"  \"1\"  \"2\"  \"2\" \n",
            "6620 7874 3761 1062 1479  104 5368 3543 7898 4071  650 5425 7679 3075 2888 3841 \n",
            " \"2\"  \"2\"  \"2\"  \"2\"  \"2\"  \"2\"  \"2\"  \"2\"  \"2\"  \"2\"  \"2\"  \"2\"  \"2\"  \"2\"  \"2\"  \"2\" \n",
            "6388 7149 2535 3439 6252 1527 5956 3621 1693 6329 7947 3061 2565 4759 1949 6490 \n",
            " \"2\"  \"2\"  \"1\"  \"2\"  \"2\"  \"2\"  \"2\"  \"2\"  \"2\"  \"2\"  \"1\"  \"2\"  \"2\"  \"2\"  \"2\"  \"2\" \n",
            " 577 4002 6336 4274 7058 7064 2539 4192 5475 2795  744 2657 5026 6879 3471 6074 \n",
            " \"2\"  \"2\"  \"2\"  \"2\"  \"2\"  \"1\"  \"2\"  \"2\"  \"2\"  \"1\"  \"2\"  \"2\"  \"2\"  \"2\"  \"2\"  \"2\" \n",
            "2984  331 1228 4471 7477 3627 2418 3208 2960 2520 5063 6795 1009 6175 6422 2653 \n",
            " \"1\"  \"2\"  \"1\"  \"2\"  \"2\"  \"1\"  \"2\"  \"2\"  \"2\"  \"2\"  \"2\"  \"2\"  \"1\"  \"2\"  \"2\"  \"2\" \n",
            "6643 4162 4034   31 2486 5624 7358  999 4528 3983 6551 6974  310 8099 7429 1163 \n",
            " \"2\"  \"1\"  \"1\"  \"2\"  \"2\"  \"2\"  \"2\"  \"2\"  \"2\"  \"2\"  \"2\"  \"2\"  \"1\"  \"2\"  \"2\"  \"1\" \n",
            "1675 3953 3337 2650 5059 6052 7563 6285 5972 7588 2463 3217 1311 5594  367   48 \n",
            " \"2\"  \"2\"  \"2\"  \"2\"  \"2\"  \"2\"  \"2\"  \"2\"  \"2\"  \"2\"  \"2\"  \"2\"  \"2\"  \"2\"  \"1\"  \"2\" \n",
            "2868 5788  840 6883 1338 7498 3973 7501 1703 4216 7155 1074 6523 3846 7169 6460 \n",
            " \"2\"  \"2\"  \"2\"  \"2\"  \"1\"  \"2\"  \"2\"  \"2\"  \"2\"  \"2\"  \"2\"  \"2\"  \"2\"  \"2\"  \"2\"  \"2\" \n",
            "1532 3458 5438 2800 7761 7482 2977 2595 3600 5310 3325  814 5647 7850 4850 6057 \n",
            " \"1\"  \"2\"  \"2\"  \"2\"  \"2\"  \"1\"  \"2\"  \"2\"  \"2\"  \"2\"  \"2\"  \"2\"  \"2\"  \"2\"  \"2\"  \"2\" \n",
            "4785 7244 2738 1114 5355 3669 2285 4171 7181 6657 7866 2445 4299 3461  525 7102 \n",
            " \"2\"  \"2\"  \"2\"  \"2\"  \"2\"  \"2\"  \"2\"  \"2\"  \"2\"  \"2\"  \"2\"  \"2\"  \"2\"  \"2\"  \"2\"  \"2\" \n",
            "1056 2757 3450 1294 2625 4191 3593 7163 2150  735 3684 4767 4231 2529 1404 7804 \n",
            " \"2\"  \"2\"  \"2\"  \"2\"  \"2\"  \"2\"  \"2\"  \"1\"  \"2\"  \"2\"  \"2\"  \"2\"  \"2\"  \"2\"  \"1\"  \"2\" \n",
            " 624 3802 5982  866 6937 3136 2121 2179 6085  844 7002  931 5367 7520 2108 6633 \n",
            " \"2\"  \"2\"  \"2\"  \"2\"  \"2\"  \"2\"  \"2\"  \"2\"  \"2\"  \"2\"  \"2\"  \"1\"  \"2\"  \"2\"  \"2\"  \"2\" \n",
            "5151 1550 1845 8077  452 3578 1970 3596 7193 4428 7834 3730 7176 6914 2797 2583 \n",
            " \"2\"  \"1\"  \"2\"  \"2\"  \"2\"  \"2\"  \"1\"  \"2\"  \"2\"  \"2\"  \"2\"  \"2\"  \"2\"  \"2\"  \"1\"  \"2\" \n",
            "2456 6779 6556 5981 2154  803  485 6742 1806 4450 8068 4301 6514 2911 6348 5230 \n",
            " \"2\"  \"2\"  \"2\"  \"2\"  \"2\"  \"2\"  \"2\"  \"2\"  \"2\"  \"2\"  \"2\"  \"2\"  \"2\"  \"2\"  \"2\"  \"2\" \n",
            "1112 3366 3845 7281 2484 5781 7524 6928 1042 1752 3014 2359 4820 3281 7519 5240 \n",
            " \"2\"  \"2\"  \"2\"  \"1\"  \"2\"  \"2\"  \"2\"  \"2\"  \"2\"  \"2\"  \"2\"  \"2\"  \"2\"  \"2\"  \"2\"  \"2\" \n",
            "5198  248 2392   40  825 5590 6540 5111 2763 5190 7755 1453 6931 6179  617 1544 \n",
            " \"2\"  \"2\"  \"2\"  \"2\"  \"2\"  \"2\"  \"2\"  \"2\"  \"2\"  \"2\"  \"2\"  \"2\"  \"2\"  \"2\"  \"1\"  \"2\" \n",
            "3506 1571 5634 6275 6029 3519 2617 7754 4332 6144 2901 2468 5260 6126 5518 2450 \n",
            " \"2\"  \"1\"  \"2\"  \"2\"  \"2\"  \"2\"  \"2\"  \"1\"  \"2\"  \"2\"  \"2\"  \"2\"  \"2\"  \"2\"  \"2\"  \"2\" \n",
            "1771 5619  887 1793 5633 3333 6783 4016 4794 2325 2074 1732 1138 4877 3883 2671 \n",
            " \"2\"  \"2\"  \"2\"  \"2\"  \"2\"  \"2\"  \"2\"  \"2\"  \"2\"  \"2\"  \"2\"  \"2\"  \"2\"  \"2\"  \"2\"  \"1\" \n",
            "4232 1178 5724 5034 4998 6750 6753 1775 7245 6006 1153 2138 6881 1798 3717 1878 \n",
            " \"2\"  \"2\"  \"2\"  \"2\"  \"2\"  \"2\"  \"1\"  \"2\"  \"2\"  \"2\"  \"2\"  \"1\"  \"2\"  \"2\"  \"2\"  \"2\" \n",
            "2403 5899 3685  178 5638 2954 4300 6586 1586 1659 3758  765 3311 5970 3787 5073 \n",
            " \"2\"  \"2\"  \"2\"  \"2\"  \"2\"  \"2\"  \"2\"  \"2\"  \"2\"  \"1\"  \"2\"  \"1\"  \"2\"  \"2\"  \"2\"  \"2\" \n",
            "3913 7590 2319 5512 7831  683  957 2315 7976 4111  842    4 4944 3345 7346 7882 \n",
            " \"2\"  \"2\"  \"2\"  \"2\"  \"2\"  \"2\"  \"2\"  \"2\"  \"1\"  \"2\"  \"2\"  \"2\"  \"2\"  \"2\"  \"2\"  \"2\" \n",
            "1457 7132 2613 1078 5373 6078 7635 5889 2349 5206 5158 5839 1092 5691 3759 3329 \n",
            " \"1\"  \"2\"  \"1\"  \"2\"  \"2\"  \"2\"  \"2\"  \"2\"  \"2\"  \"2\"  \"2\"  \"2\"  \"2\"  \"2\"  \"2\"  \"2\" \n",
            "3097  439 4350 7013 2444 4487 1243 7299 6254 7473 4328  570 7509 6675 2035 5496 \n",
            " \"2\"  \"2\"  \"2\"  \"2\"  \"2\"  \"2\"  \"2\"  \"2\"  \"2\"  \"2\"  \"2\"  \"2\"  \"2\"  \"2\"  \"2\"  \"2\" \n",
            "2590 6395 3379 1540 1449  250 3615 2497 7656 2919 4091 1007 7276 5875 3057 1966 \n",
            " \"2\"  \"2\"  \"2\"  \"1\"  \"2\"  \"2\"  \"2\"  \"1\"  \"2\"  \"1\"  \"2\"  \"2\"  \"2\"  \"2\"  \"2\"  \"1\" \n",
            "1322 3424 7551 1883 4804  832 5341 6291 1996 1974 5214 6104 5745  228 7165 6936 \n",
            " \"2\"  \"2\"  \"2\"  \"2\"  \"2\"  \"2\"  \"2\"  \"2\"  \"1\"  \"2\"  \"2\"  \"2\"  \"2\"  \"2\"  \"2\"  \"2\" \n",
            "3750 2935 5375 1902 4033  480 5271  562 3586 4612 5927 4307 1820 3227 6820 6873 \n",
            " \"2\"  \"2\"  \"2\"  \"2\"  \"2\"  \"2\"  \"2\"  \"2\"  \"2\"  \"2\"  \"2\"  \"2\"  \"2\"  \"2\"  \"2\"  \"2\" \n",
            "3441 3173 5320 3305 3353 1715 8093 6696  912 6739    8 4439 4257 6166 1233 1538 \n",
            " \"2\"  \"2\"  \"2\"  \"2\"  \"2\"  \"1\"  \"2\"  \"2\"  \"2\"  \"2\"  \"2\"  \"2\"  \"2\"  \"2\"  \"2\"  \"2\" \n",
            " 465 3849 6574 7558  637 5678 4951 3482 2306 6769 7723 4375 7065 4136 3704 2933 \n",
            " \"2\"  \"2\"  \"2\"  \"2\"  \"1\"  \"2\"  \"2\"  \"2\"  \"2\"  \"2\"  \"2\"  \"2\"  \"2\"  \"2\"  \"2\"  \"2\" \n",
            "7543 5704 2279 5483 7004 7622 6951 3422 1260 6536 3795 3021 7197  176 5541 7970 \n",
            " \"2\"  \"1\"  \"1\"  \"2\"  \"2\"  \"2\"  \"2\"  \"2\"  \"2\"  \"2\"  \"2\"  \"1\"  \"2\"  \"2\"  \"2\"  \"2\" \n",
            "2718 4604 6473 5595 6635 5476 7675 4561 7972 2415 2249 7782 7397 7267 2538 2802 \n",
            " \"1\"  \"2\"  \"2\"  \"2\"  \"2\"  \"2\"  \"2\"  \"2\"  \"2\"  \"1\"  \"2\"  \"2\"  \"2\"  \"1\"  \"2\"  \"1\" \n",
            "4042 3134  277 6957 6941 7100  545 5571 3768 3279 3192 6842 4141 1384  481 4926 \n",
            " \"2\"  \"2\"  \"1\"  \"2\"  \"2\"  \"2\"  \"1\"  \"2\"  \"2\"  \"2\"  \"2\"  \"2\"  \"2\"  \"2\"  \"2\"  \"2\" \n",
            "5181  700 2323 4457 3059 4766 2603 2232 3306 2322 2386 4843 3301 7868 3629 2011 \n",
            " \"2\"  \"2\"  \"2\"  \"2\"  \"2\"  \"2\"  \"2\"  \"1\"  \"2\"  \"2\"  \"2\"  \"2\"  \"2\"  \"2\"  \"2\"  \"2\" \n",
            "3524  352 7661   57 1938 1815 3202 6708 2495 8029 2494 1209 5867  396 5728 6351 \n",
            " \"1\"  \"2\"  \"2\"  \"1\"  \"1\"  \"1\"  \"2\"  \"2\"  \"2\"  \"2\"  \"1\"  \"2\"  \"2\"  \"2\"  \"2\"  \"2\" \n",
            "2969 3537 4248 5353 7375 5098 2853 1863 3043 6568  344 1145 7087 8092 3423 5965 \n",
            " \"2\"  \"2\"  \"2\"  \"2\"  \"2\"  \"1\"  \"1\"  \"2\"  \"2\"  \"2\"  \"2\"  \"2\"  \"2\"  \"2\"  \"2\"  \"2\" \n",
            " 180 6747 3859 1430 4672 2111 2709 3597 6971 3371 3818 4395 2627 3125 4106  356 \n",
            " \"2\"  \"2\"  \"2\"  \"2\"  \"2\"  \"2\"  \"2\"  \"2\"  \"1\"  \"2\"  \"1\"  \"2\"  \"2\"  \"2\"  \"2\"  \"2\" \n",
            "2299 4791  335 5866  298 5906 2643 2965 4873 2601  682 6917   79  829 5546 1255 \n",
            " \"2\"  \"2\"  \"2\"  \"2\"  \"2\"  \"2\"  \"2\"  \"2\"  \"2\"  \"1\"  \"2\"  \"2\"  \"2\"  \"2\"  \"2\"  \"2\" \n",
            "   1 1452 3775 5988 5284  551 8045  948  136 3820 3108 2569 2685 3251 1461 5666 \n",
            " \"2\"  \"2\"  \"2\"  \"2\"  \"2\"  \"2\"  \"2\"  \"2\"  \"2\"  \"2\"  \"2\"  \"2\"  \"2\"  \"2\"  \"1\"  \"2\" \n",
            "3250 7638 6916 7057 2086 5044 6192 7005 1059 3286 1953 3434 4787 3007 4161 5242 \n",
            " \"2\"  \"2\"  \"2\"  \"2\"  \"1\"  \"2\"  \"2\"  \"2\"  \"2\"  \"2\"  \"2\"  \"2\"  \"2\"  \"2\"  \"2\"  \"2\" \n",
            "2608 6320 5471 7103  742  725 3363 3952 7160 2133  960 4579 4228 3140 5055 7992 \n",
            " \"2\"  \"2\"  \"2\"  \"2\"  \"2\"  \"2\"  \"2\"  \"2\"  \"2\"  \"2\"  \"2\"  \"2\"  \"2\"  \"2\"  \"2\"  \"2\" \n",
            "3002 5789 1504  210 2336 6235 2209 4451 7790 5325 1136 1436 4470 4293 4178 5698 \n",
            " \"2\"  \"1\"  \"1\"  \"2\"  \"2\"  \"2\"  \"2\"  \"2\"  \"2\"  \"2\"  \"1\"  \"2\"  \"2\"  \"2\"  \"2\"  \"2\" \n",
            "4524 5669 7350 7171 1032 6785 6745 7128 4683 6247  809 3656 3397 2328 4607 1135 \n",
            " \"2\"  \"2\"  \"2\"  \"1\"  \"2\"  \"2\"  \"2\"  \"2\"  \"2\"  \"2\"  \"2\"  \"1\"  \"2\"  \"2\"  \"2\"  \"2\" \n",
            " 767 5069 7712  155 6860 3340 5722 3904 7316 4708 6898 4719 4224 2196 1899 1192 \n",
            " \"2\"  \"2\"  \"2\"  \"2\"  \"2\"  \"2\"  \"2\"  \"2\"  \"2\"  \"2\"  \"2\"  \"2\"  \"2\"  \"2\"  \"2\"  \"2\" \n",
            "5527 1945 1368 6862 6025 2624 7465 2113 2412  852 7225 2478 1320 4223  106 2772 \n",
            " \"2\"  \"2\"  \"1\"  \"2\"  \"2\"  \"2\"  \"2\"  \"2\"  \"1\"  \"2\"  \"2\"  \"2\"  \"1\"  \"2\"  \"2\"  \"1\" \n",
            "1432 2136 1162 2903 6224 5211 5943 3798 1286 4544 5858 6020 6376 1441 7511  865 \n",
            " \"1\"  \"2\"  \"2\"  \"2\"  \"2\"  \"2\"  \"2\"  \"2\"  \"2\"  \"2\"  \"2\"  \"2\"  \"2\"  \"2\"  \"2\"  \"2\" \n",
            "7975 2818 7007  302 1983 5654 1405 4103 7990 1521 1841 3715 1687 4403 7890 3426 \n",
            " \"1\"  \"2\"  \"2\"  \"2\"  \"2\"  \"2\"  \"2\"  \"2\"  \"2\"  \"2\"  \"2\"  \"2\"  \"1\"  \"2\"  \"2\"  \"2\" \n",
            "1105  668 5975 1781  797 6405 7086 6401 2932 3609 3649 6379 5391  860 5976 4880 \n",
            " \"1\"  \"1\"  \"2\"  \"2\"  \"2\"  \"2\"  \"2\"  \"2\"  \"2\"  \"2\"  \"2\"  \"2\"  \"2\"  \"2\"  \"2\"  \"2\" \n",
            "3624 7523 7538 3020 7561 5733 2956 2928 7135 5743 7246 4077 7222 6555  269 4595 \n",
            " \"2\"  \"2\"  \"1\"  \"2\"  \"1\"  \"2\"  \"1\"  \"2\"  \"2\"  \"2\"  \"2\"  \"2\"  \"2\"  \"2\"  \"2\"  \"2\" \n",
            "1850 6662 1963 3006 4286 6392 4818 7421 4949 2028 4427 5293 8103 7911 7813 3407 \n",
            " \"2\"  \"2\"  \"2\"  \"1\"  \"2\"  \"2\"  \"2\"  \"2\"  \"2\"  \"1\"  \"2\"  \"2\"  \"2\"  \"2\"  \"2\"  \"2\" \n",
            "4437  760 3630 2068 3732 6778 3791 7351   71   75 6359 6537 6771 1440  665 1890 \n",
            " \"2\"  \"2\"  \"2\"  \"2\"  \"2\"  \"2\"  \"2\"  \"1\"  \"2\"  \"2\"  \"2\"  \"2\"  \"2\"  \"2\"  \"2\"  \"1\" \n",
            "1589 6497 3840 5945 5300  874 2428 2058 4098 1518  214 3724  566 1671 6598 5463 \n",
            " \"2\"  \"2\"  \"2\"  \"2\"  \"2\"  \"2\"  \"1\"  \"2\"  \"2\"  \"1\"  \"2\"  \"2\"  \"2\"  \"2\"  \"2\"  \"2\" \n",
            "7407 5364  333  952 5591 6404 7547 3264 7674 7659 2055 7418 7300 6340 5677 4515 \n",
            " \"2\"  \"2\"  \"2\"  \"2\"  \"2\"  \"2\"  \"2\"  \"2\"  \"1\"  \"2\"  \"1\"  \"2\"  \"2\"  \"2\"  \"2\"  \"2\" \n",
            "5261 2950 7500 8087 5022 5390 4746 6253 4421 3086  460  762 6250 2016 6226 7548 \n",
            " \"2\"  \"2\"  \"2\"  \"2\"  \"2\"  \"2\"  \"2\"  \"2\"  \"2\"  \"2\"  \"2\"  \"2\"  \"2\"  \"2\"  \"2\"  \"2\" \n",
            "6259 7106 4372 5407 6591 7569 1624 4733 1227 6171 1792 1347 4241 5686 6710  530 \n",
            " \"2\"  \"2\"  \"2\"  \"2\"  \"2\"  \"2\"  \"1\"  \"2\"  \"2\"  \"2\"  \"2\"  \"2\"  \"2\"  \"2\"  \"2\"  \"2\" \n",
            "3147 6685 6181 2213 7668 5498  357  286 7530 1256 1273 7505 4314 2267 5737  160 \n",
            " \"2\"  \"2\"  \"2\"  \"2\"  \"2\"  \"2\"  \"2\"  \"2\"  \"2\"  \"2\"  \"2\"  \"2\"  \"2\"  \"1\"  \"2\"  \"2\" \n",
            "1039 5812 6887 1960 2556    6 4061 7033 3094 2088 7605 6143 3583 7047 5174 6373 \n",
            " \"2\"  \"2\"  \"2\"  \"2\"  \"2\"  \"2\"  \"2\"  \"2\"  \"2\"  \"2\"  \"2\"  \"1\"  \"2\"  \"1\"  \"2\"  \"2\" \n",
            "1756 7502 6645  368 5542 1907 4295  409 7964 6789 5519 1956 1193 4549 3044 3365 \n",
            " \"2\"  \"2\"  \"2\"  \"2\"  \"2\"  \"2\"  \"2\"  \"2\"  \"2\"  \"2\"  \"2\"  \"2\"  \"2\"  \"2\"  \"2\"  \"2\" \n",
            " 330 1623 2099 5332 5895 4876 3476 2714 7852 2369  238 4611 5386 6047 3374 5003 \n",
            " \"2\"  \"1\"  \"2\"  \"2\"  \"2\"  \"2\"  \"2\"  \"2\"  \"2\"  \"2\"  \"2\"  \"2\"  \"2\"  \"2\"  \"1\"  \"1\" \n",
            "5241 7205 7617 5755 6201 5656 5037 3037 6391 2864 1343 4952 5285 4514 7112 1921 \n",
            " \"2\"  \"2\"  \"2\"  \"2\"  \"2\"  \"2\"  \"2\"  \"2\"  \"2\"  \"2\"  \"2\"  \"2\"  \"2\"  \"2\"  \"2\"  \"2\" \n",
            "2751 1759 4689 4392 2837 3177 2339 2692 1932 4840 6979 1650 2623  662 4963 4713 \n",
            " \"2\"  \"1\"  \"2\"  \"2\"  \"1\"  \"2\"  \"1\"  \"2\"  \"2\"  \"2\"  \"2\"  \"1\"  \"2\"  \"2\"  \"2\"  \"2\" \n",
            "7818 5553 3249  739 7641 1981 4575 4195 2930 5376 7879 5941 1252 3000 1089 4205 \n",
            " \"2\"  \"2\"  \"2\"  \"2\"  \"1\"  \"1\"  \"2\"  \"2\"  \"1\"  \"2\"  \"2\"  \"2\"  \"1\"  \"2\"  \"2\"  \"2\" \n",
            "6309  914 8085 7957 3168 6341 2652 2031 4771  576 4397 8097 3910 8071 1950 4623 \n",
            " \"2\"  \"1\"  \"2\"  \"2\"  \"2\"  \"2\"  \"2\"  \"2\"  \"2\"  \"2\"  \"2\"  \"1\"  \"2\"  \"2\"  \"1\"  \"2\" \n",
            "2771 7516 4321  240  569 7367 4069 6449 7851 7571 2171  181 5297 2281 7283 6823 \n",
            " \"2\"  \"2\"  \"2\"  \"2\"  \"2\"  \"2\"  \"2\"  \"2\"  \"2\"  \"1\"  \"2\"  \"2\"  \"2\"  \"2\"  \"2\"  \"2\" \n",
            "1818  107 2094  574 6922  468 7060 6652 6554 7532 4181  225 4114 3553  557 6670 \n",
            " \"2\"  \"1\"  \"2\"  \"2\"  \"2\"  \"2\"  \"2\"  \"2\"  \"2\"  \"2\"  \"2\"  \"2\"  \"1\"  \"2\"  \"2\"  \"2\" \n",
            "2783 1835 3681 6318 3278 1401 5605 5035 7268 4651 2516  714  484 4246 1727  779 \n",
            " \"2\"  \"2\"  \"2\"  \"2\"  \"2\"  \"2\"  \"2\"  \"2\"  \"2\"  \"2\"  \"1\"  \"1\"  \"2\"  \"2\"  \"1\"  \"2\" \n",
            "2480 1746 1369 5543 5184 4074 4148 5422 5329 7063 5565 1836  130 3079 3038  476 \n",
            " \"2\"  \"2\"  \"2\"  \"2\"  \"2\"  \"1\"  \"2\"  \"2\"  \"2\"  \"2\"  \"2\"  \"1\"  \"2\"  \"2\"  \"2\"  \"2\" \n",
            "3194 2475 5339 5810 6450 6826 7390 1637 5797 5378 1144 7535  150 5456  913 1919 \n",
            " \"2\"  \"2\"  \"1\"  \"2\"  \"2\"  \"2\"  \"2\"  \"2\"  \"2\"  \"2\"  \"1\"  \"2\"  \"2\"  \"2\"  \"2\"  \"2\" \n",
            "4556 4972 2874 1976 3843 5294 6829 1171 6001 2170  721 4606 1784 6682 6334 1363 \n",
            " \"2\"  \"2\"  \"2\"  \"2\"  \"2\"  \"2\"  \"2\"  \"2\"  \"2\"  \"2\"  \"1\"  \"2\"  \"2\"  \"2\"  \"2\"  \"1\" \n",
            "7008 7869 4472 6920 5683 4196 2740   11 1278 1096 6246 2663  961 2666 7666 3443 \n",
            " \"2\"  \"2\"  \"2\"  \"2\"  \"2\"  \"1\"  \"2\"  \"2\"  \"1\"  \"2\"  \"2\"  \"2\"  \"2\"  \"2\"  \"2\"  \"1\" \n",
            "4836 1630 7634 4724 1724 6525 5412 7769 4008 1101 6036 1801 3757 6522 4529 1720 \n",
            " \"2\"  \"2\"  \"2\"  \"2\"  \"2\"  \"2\"  \"2\"  \"2\"  \"2\"  \"2\"  \"2\"  \"2\"  \"2\"  \"2\"  \"2\"  \"1\" \n",
            "5303 3146 1585 1102 3880 1714 7871 6053 4783 2990 4978 3017  206 2925 1319 6463 \n",
            " \"2\"  \"2\"  \"2\"  \"2\"  \"2\"  \"1\"  \"2\"  \"2\"  \"2\"  \"1\"  \"2\"  \"2\"  \"2\"  \"2\"  \"2\"  \"2\" \n",
            "5429 1959 1827 2971 7829 2816 4506 4438 4737  834 1655 6648 2846 8030 3531  719 \n",
            " \"2\"  \"2\"  \"2\"  \"2\"  \"2\"  \"1\"  \"2\"  \"2\"  \"2\"  \"1\"  \"2\"  \"2\"  \"2\"  \"1\"  \"2\"  \"1\" \n",
            "2750 1356  746 2033 4306 7094 5901   58 7591 1381 4465 5966 5500 5052 5820 3918 \n",
            " \"2\"  \"2\"  \"2\"  \"2\"  \"2\"  \"2\"  \"2\"  \"2\"  \"1\"  \"2\"  \"2\"  \"2\"  \"2\"  \"2\"  \"2\"  \"2\" \n",
            "5598 7275 1840  826 3009 3769 7878 7455 5154 1280 4858 7083 6621 6925 4841  614 \n",
            " \"2\"  \"2\"  \"2\"  \"2\"  \"2\"  \"2\"  \"2\"  \"2\"  \"2\"  \"2\"  \"2\"  \"2\"  \"2\"  \"2\"  \"2\"  \"2\" \n",
            " 388 4357 7942 5710 4149 4087 3560 3412 7062  271 4983 5236 3387 4273 3573 3619 \n",
            " \"1\"  \"2\"  \"2\"  \"2\"  \"2\"  \"2\"  \"2\"  \"2\"  \"2\"  \"2\"  \"2\"  \"2\"  \"2\"  \"2\"  \"2\"  \"2\" \n",
            "3493 1303 5538 5466 5084 1221 4315 2976 1225 5175 1647 6260 6626 4361 6046 4173 \n",
            " \"2\"  \"2\"  \"2\"  \"2\"  \"2\"  \"2\"  \"2\"  \"2\"  \"2\"  \"2\"  \"2\"  \"2\"  \"2\"  \"2\"  \"2\"  \"2\" \n",
            "3562 2331  209 2262 3180 2943 8024 1790  453 7734 2876 6878 3160 7594 5521 3587 \n",
            " \"2\"  \"1\"  \"2\"  \"1\"  \"2\"  \"1\"  \"2\"  \"2\"  \"2\"  \"2\"  \"2\"  \"2\"  \"2\"  \"1\"  \"2\"  \"2\" \n",
            "1859 4406 2040 5692 5937 4904 1482 8027 3523 7376 5636 6531 2978  426  462 7256 \n",
            " \"2\"  \"2\"  \"2\"  \"2\"  \"2\"  \"2\"  \"2\"  \"2\"  \"2\"  \"2\"  \"2\"  \"1\"  \"2\"  \"2\"  \"1\"  \"1\" \n",
            "1407 7556 4866 7335 5148 1595 3753 1499 4870 4313 1636 6618 6054 1626 1653 5487 \n",
            " \"2\"  \"2\"  \"2\"  \"1\"  \"2\"  \"2\"  \"1\"  \"1\"  \"2\"  \"2\"  \"1\"  \"2\"  \"2\"  \"2\"  \"2\"  \"2\" \n",
            "  56  838  383 5862 5436 6755 6152 2205 5188 5930  264 6631 4773 5726 2869 3527 \n",
            " \"2\"  \"2\"  \"2\"  \"2\"  \"2\"  \"2\"  \"2\"  \"2\"  \"2\"  \"1\"  \"2\"  \"2\"  \"2\"  \"2\"  \"2\"  \"2\" \n",
            "2641 6319 5980 6295 3545 4832 3402 7495 7669 6440 3284 5133 6964 1971 5481 5676 \n",
            " \"2\"  \"2\"  \"2\"  \"2\"  \"2\"  \"2\"  \"2\"  \"2\"  \"2\"  \"2\"  \"2\"  \"2\"  \"2\"  \"2\"  \"2\"  \"2\" \n",
            "4394 4812 7454 5058 7932 6033 4592 8020 3588 4018 7469 7936 2236 1057 5371 3166 \n",
            " \"2\"  \"2\"  \"2\"  \"2\"  \"1\"  \"2\"  \"2\"  \"1\"  \"2\"  \"2\"  \"2\"  \"2\"  \"2\"  \"2\"  \"2\"  \"2\" \n",
            "7626 6508 7433 5017 3865 1026 1415 1901 1666  284 7998 6518 4120 4582  657 1871 \n",
            " \"2\"  \"2\"  \"2\"  \"2\"  \"2\"  \"2\"  \"2\"  \"2\"  \"2\"  \"2\"  \"2\"  \"1\"  \"2\"  \"2\"  \"1\"  \"2\" \n",
            "3139  138   83 7191  377 4056 7302 1943  706 3782 2947 7682 3868 1536 2305 3834 \n",
            " \"2\"  \"2\"  \"2\"  \"2\"  \"2\"  \"2\"  \"2\"  \"2\"  \"2\"  \"2\"  \"2\"  \"2\"  \"2\"  \"2\"  \"2\"  \"2\" \n",
            "3728 2782 4633 4774 2180 3978 4742 2216 5061 1612 7269 1662   32 2401 4548 7231 \n",
            " \"2\"  \"2\"  \"2\"  \"2\"  \"2\"  \"2\"  \"2\"  \"2\"  \"2\"  \"2\"  \"2\"  \"1\"  \"2\"  \"2\"  \"2\"  \"2\" \n",
            "5841  575 2979 5255 6416 8021 3742 3803  971 6690 4234 3228 5398  340  980 5182 \n",
            " \"1\"  \"1\"  \"2\"  \"2\"  \"2\"  \"2\"  \"2\"  \"2\"  \"2\"  \"2\"  \"2\"  \"2\"  \"2\"  \"2\"  \"2\"  \"2\" \n",
            "4147 3449 5805 2449 6454 2872 7735 4619 7081 4167 2347  223 5049 6838 7361 4881 \n",
            " \"2\"  \"1\"  \"2\"  \"2\"  \"2\"  \"2\"  \"2\"  \"2\"  \"2\"  \"2\"  \"1\"  \"1\"  \"2\"  \"2\"  \"1\"  \"2\" \n",
            "4653 6206 6234 2420 1434 5232 2804 3324 5420 6663 5092 7916 6032 7460 7909 2156 \n",
            " \"2\"  \"2\"  \"2\"  \"2\"  \"2\"  \"2\"  \"2\"  \"2\"  \"2\"  \"2\"  \"2\"  \"2\"  \"2\"  \"2\"  \"2\"  \"2\" \n",
            "2744 5283 3780 1526 7475 5876 1824 7355  964 2502 4522 3111 1053 3287 7929 4249 \n",
            " \"2\"  \"2\"  \"2\"  \"2\"  \"2\"  \"2\"  \"2\"  \"2\"  \"2\"  \"2\"  \"2\"  \"2\"  \"1\"  \"1\"  \"2\"  \"2\" \n",
            "2705 4151 1893  217 6073 3793 2923 7720 6945 1411  199  568 1426 3570 7178  491 \n",
            " \"2\"  \"2\"  \"1\"  \"2\"  \"2\"  \"2\"  \"2\"  \"2\"  \"2\"  \"2\"  \"2\"  \"2\"  \"1\"  \"2\"  \"2\"  \"2\" \n",
            " 249 7000 3446 1779 4905 4003 4907 4256 3658 4930 7179 6447 6888 5057 2036 4946 \n",
            " \"2\"  \"2\"  \"2\"  \"2\"  \"2\"  \"2\"  \"2\"  \"2\"  \"2\"  \"2\"  \"2\"  \"2\"  \"2\"  \"2\"  \"1\"  \"2\" \n",
            "3405 4401 6703 5566 6092 7939 4762 1299 3484 2438 5825  621 2125 3172 5099 5128 \n",
            " \"2\"  \"2\"  \"2\"  \"2\"  \"2\"  \"1\"  \"2\"  \"1\"  \"2\"  \"1\"  \"2\"  \"1\"  \"2\"  \"2\"  \"2\"  \"2\" \n",
            "7374 7097 3222  981 5731 5220 6400 3480 7107 4508 5002 6516 1658 7606 6935 6579 \n",
            " \"2\"  \"2\"  \"2\"  \"1\"  \"2\"  \"2\"  \"2\"  \"2\"  \"2\"  \"2\"  \"2\"  \"2\"  \"1\"  \"2\"  \"2\"  \"2\" \n",
            "6521 5631 4310  542 1992 5468 4460 6790 4760 2640 4322 1627 4236 4277 5714 2602 \n",
            " \"2\"  \"2\"  \"2\"  \"1\"  \"1\"  \"2\"  \"2\"  \"2\"  \"2\"  \"2\"  \"2\"  \"2\"  \"2\"  \"2\"  \"2\"  \"2\" \n",
            "5156 6684  237 7604   72  876 8063 2172 5963 6519 2354 7718  548  461 7968 3204 \n",
            " \"2\"  \"2\"  \"2\"  \"2\"  \"2\"  \"1\"  \"2\"  \"2\"  \"2\"  \"2\"  \"1\"  \"1\"  \"2\"  \"2\"  \"2\"  \"2\" \n",
            " 215 7595 5278 7934 5078 6791 5915 4358 3984 4182 2959 1046 5702   93 2777 3777 \n",
            " \"1\"  \"2\"  \"2\"  \"2\"  \"2\"  \"2\"  \"2\"  \"2\"  \"2\"  \"2\"  \"1\"  \"2\"  \"2\"  \"2\"  \"2\"  \"2\" \n",
            "1070 6279 1097 3582  991 4507 6958 1283 3260 4080 5748 4786  770 2609  265 1748 \n",
            " \"1\"  \"2\"  \"1\"  \"2\"  \"2\"  \"2\"  \"2\"  \"1\"  \"2\"  \"2\"  \"2\"  \"2\"  \"2\"  \"2\"  \"2\"  \"2\" \n",
            "1601 6269 6446 6212 4970 6167  921  611 6718 1594 4644 1837 2496 7396 3328 6198 \n",
            " \"2\"  \"2\"  \"2\"  \"2\"  \"2\"  \"2\"  \"2\"  \"2\"  \"2\"  \"1\"  \"2\"  \"2\"  \"2\"  \"2\"  \"2\"  \"2\" \n",
            "2805 7202 3487 7798 2278 4484 7262 4268 3589 1131 2678 1694  924 5579 6552 3115 \n",
            " \"1\"  \"2\"  \"2\"  \"1\"  \"1\"  \"2\"  \"2\"  \"2\"  \"1\"  \"2\"  \"1\"  \"2\"  \"2\"  \"2\"  \"2\"  \"1\" \n",
            " 891 6369 7931 5060 7296 2193 4800 4553 2482 1098 6237  404   76 6333 2073 3121 \n",
            " \"2\"  \"2\"  \"2\"  \"2\"  \"2\"  \"1\"  \"1\"  \"2\"  \"2\"  \"2\"  \"2\"  \"2\"  \"2\"  \"2\"  \"1\"  \"2\" \n",
            " 878 4494  436 6828 6293 4477 2683 6908 4116 5351  200 2577 5721 5097 1310 7330 \n",
            " \"2\"  \"2\"  \"2\"  \"2\"  \"2\"  \"2\"  \"2\"  \"2\"  \"2\"  \"2\"  \"2\"  \"2\"  \"2\"  \"2\"  \"1\"  \"1\" \n",
            "6096 6850 7631 2352 2298 6740  684 3127 4645 7468 2746 3238 5936 4939  389 4801 \n",
            " \"2\"  \"2\"  \"2\"  \"2\"  \"1\"  \"2\"  \"2\"  \"2\"  \"2\"  \"2\"  \"2\"  \"2\"  \"2\"  \"2\"  \"2\"  \"2\" \n",
            "5146 5699  419 5939 4359 1142  723 7336 7037  162 2219 1121 2500 7946 7130 3970 \n",
            " \"2\"  \"2\"  \"2\"  \"2\"  \"2\"  \"1\"  \"2\"  \"1\"  \"2\"  \"2\"  \"2\"  \"2\"  \"2\"  \"2\"  \"2\"  \"2\" \n",
            "8012 1151 7844 5189 6831 2747 6491 3502  479 3419 6505 4030 2385 3005 4043 7067 \n",
            " \"2\"  \"2\"  \"2\"  \"2\"  \"2\"  \"2\"  \"2\"  \"2\"  \"2\"  \"2\"  \"2\"  \"2\"  \"1\"  \"2\"  \"2\"  \"2\" \n",
            " 144  795 4854 5954  205 4155 2676 6628 7651  519 1113 3358  188 3380 2289 7777 \n",
            " \"2\"  \"2\"  \"2\"  \"2\"  \"2\"  \"1\"  \"1\"  \"2\"  \"2\"  \"2\"  \"1\"  \"2\"  \"2\"  \"2\"  \"2\"  \"1\" \n",
            "5701 1271 4368 3635 7217  673  547 4955 4201   63 4720 4260   98 6575 2109 6243 \n",
            " \"2\"  \"2\"  \"2\"  \"2\"  \"2\"  \"1\"  \"2\"  \"2\"  \"2\"  \"2\"  \"1\"  \"2\"  \"2\"  \"2\"  \"1\"  \"2\" \n",
            " 236  529 2566 3557 3894 6818 6109 6731 6847 3078 6407 6399  992 3604 3989 1220 \n",
            " \"2\"  \"2\"  \"2\"  \"2\"  \"2\"  \"2\"  \"2\"  \"2\"  \"2\"  \"1\"  \"1\"  \"2\"  \"1\"  \"2\"  \"2\"  \"2\" \n",
            "6082 7913 1197 3679 3829  508 1787 5744 3414 7922 6375 1566 4878 4047 2596 1625 \n",
            " \"2\"  \"1\"  \"2\"  \"2\"  \"2\"  \"2\"  \"2\"  \"2\"  \"1\"  \"1\"  \"2\"  \"2\"  \"2\"  \"2\"  \"2\"  \"2\" \n",
            "8054  430 4493 7510 2728 7887 5306 3550 6354 2726 6926 3822 1830 6135 7794 1191 \n",
            " \"2\"  \"2\"  \"2\"  \"2\"  \"2\"  \"2\"  \"2\"  \"2\"  \"2\"  \"2\"  \"2\"  \"2\"  \"2\"  \"2\"  \"2\"  \"2\" \n",
            "  50 4734 2481 4121  397 5560 4423  185 6977 6759  406 7950 3857 6437 6672 5147 \n",
            " \"1\"  \"2\"  \"2\"  \"2\"  \"2\"  \"2\"  \"2\"  \"2\"  \"2\"  \"2\"  \"2\"  \"2\"  \"2\"  \"2\"  \"2\"  \"2\" \n",
            "6886  563 2615 2365 2182 2614 1516 7767 6402 7721 2886 5753 4383 6461 3616 5801 \n",
            " \"2\"  \"2\"  \"2\"  \"1\"  \"2\"  \"2\"  \"2\"  \"2\"  \"2\"  \"2\"  \"2\"  \"1\"  \"2\"  \"2\"  \"2\"  \"2\" \n",
            "2851 5130 5424 5095 8079  755  422 7166 6901 1267 2940 1696 1257  792 7541  993 \n",
            " \"2\"  \"2\"  \"2\"  \"2\"  \"2\"  \"2\"  \"2\"  \"2\"  \"2\"  \"2\"  \"2\"  \"2\"  \"2\"  \"2\"  \"2\"  \"2\" \n",
            "6896   70 7725 2175 5077 7808 3733 5135   81 5948 2813 3510 1740 7410 1402 6468 \n",
            " \"2\"  \"2\"  \"1\"  \"2\"  \"2\"  \"2\"  \"2\"  \"2\"  \"2\"  \"1\"  \"2\"  \"2\"  \"2\"  \"2\"  \"2\"  \"2\" \n",
            "7925 7836 3175 4591 7019 3241  663 6855 3697 1936 1314 2742 1409 6728 3907  950 \n",
            " \"2\"  \"2\"  \"2\"  \"2\"  \"2\"  \"2\"  \"2\"  \"2\"  \"2\"  \"2\"  \"2\"  \"1\"  \"1\"  \"2\"  \"2\"  \"2\" \n",
            "5717 1276 5397 2507 7873 2141 2437 3496 6595 2586 4656  841 5681 5162 3567 3143 \n",
            " \"2\"  \"2\"  \"2\"  \"2\"  \"2\"  \"1\"  \"2\"  \"1\"  \"2\"  \"2\"  \"2\"  \"2\"  \"2\"  \"2\"  \"2\"  \"2\" \n",
            "7788 7832 1931 7637 1429 6161 2044 6274 4598 2510 3801 4380 5616 5602 8006 2675 \n",
            " \"2\"  \"1\"  \"2\"  \"1\"  \"2\"  \"2\"  \"2\"  \"2\"  \"2\"  \"1\"  \"2\"  \"2\"  \"2\"  \"2\"  \"2\"  \"2\" \n",
            "7420 7621 6520 6849 1359 7872 6292 5585 3646 5754  741 3774 1803 2690 5315 6534 \n",
            " \"2\"  \"2\"  \"2\"  \"2\"  \"2\"  \"2\"  \"2\"  \"2\"  \"2\"  \"2\"  \"2\"  \"2\"  \"1\"  \"2\"  \"2\"  \"2\" \n",
            "2288  941 5171 3650 2397 3949  927 1272 6028 2606 2879 3719 4159 6615 6383 1496 \n",
            " \"2\"  \"2\"  \"2\"  \"2\"  \"2\"  \"2\"  \"2\"  \"2\"  \"2\"  \"2\"  \"2\"  \"2\"  \"2\"  \"2\"  \"2\"  \"1\" \n",
            " 504 2022 3689 2065  276 5888  532 5442 1891 6797 5107 1501 4265 4750   69 3349 \n",
            " \"2\"  \"2\"  \"2\"  \"1\"  \"1\"  \"2\"  \"2\"  \"2\"  \"2\"  \"2\"  \"2\"  \"1\"  \"2\"  \"2\"  \"2\"  \"2\" \n",
            "6014 1813  239 1680  824 7024 5667  818 7118 5064 2195 1887 1226 2177 2436 2425 \n",
            " \"2\"  \"2\"  \"1\"  \"2\"  \"2\"  \"2\"  \"2\"  \"2\"  \"2\"  \"2\"  \"2\"  \"2\"  \"1\"  \"2\"  \"2\"  \"1\" \n",
            "1911 7413 2622 6423 1364 1184  870  375 1316 1930 3350 1660 2994  975 4491 1123 \n",
            " \"2\"  \"2\"  \"2\"  \"2\"  \"1\"  \"2\"  \"2\"  \"2\"  \"2\"  \"1\"  \"2\"  \"1\"  \"2\"  \"2\"  \"2\"  \"2\" \n",
            "2639 5865 1935 2443 6123 5418 4185 7448  553 6436 4916  315 4991 3636 6511 3156 \n",
            " \"2\"  \"2\"  \"2\"  \"2\"  \"2\"  \"2\"  \"2\"  \"2\"  \"1\"  \"2\"  \"2\"  \"2\"  \"2\"  \"2\"  \"2\"  \"2\" \n",
            "1856 6944 3477 6761 7292 3013  125 4373 6912 5114 6781 5871  440 6649 7974 7959 \n",
            " \"2\"  \"2\"  \"2\"  \"2\"  \"2\"  \"2\"  \"2\"  \"2\"  \"2\"  \"2\"  \"2\"  \"2\"  \"2\"  \"2\"  \"2\"  \"1\" \n",
            "1176 1663 5856 7059 7467 4059 8048 4122 6959  585 6264 7706  322 2542 3844 7564 \n",
            " \"2\"  \"2\"  \"2\"  \"2\"  \"2\"  \"2\"  \"2\"  \"2\"  \"1\"  \"1\"  \"2\"  \"1\"  \"2\"  \"1\"  \"2\"  \"2\" \n",
            "2416 4752   19 3154 2677 3874 2975 3899 1301 5640 1159  597  588 8091 5203  811 \n",
            " \"2\"  \"2\"  \"2\"  \"2\"  \"2\"  \"2\"  \"1\"  \"2\"  \"1\"  \"2\"  \"1\"  \"2\"  \"2\"  \"2\"  \"2\"  \"2\" \n",
            "4520 4062  152 6612 6236 1583  954 1683 8076 7697 4325  798 4362 1909 2384 3872 \n",
            " \"2\"  \"2\"  \"2\"  \"2\"  \"2\"  \"2\"  \"1\"  \"2\"  \"2\"  \"2\"  \"2\"  \"2\"  \"2\"  \"1\"  \"2\"  \"2\" \n",
            "7527 4885 1742 2203  137 7817 2492 5580 5794 3864 3905 7401 5891 7249 2155 1761 \n",
            " \"2\"  \"2\"  \"1\"  \"1\"  \"2\"  \"2\"  \"2\"  \"2\"  \"2\"  \"2\"  \"2\"  \"2\"  \"2\"  \"2\"  \"2\"  \"2\" \n",
            " 861 3206 3585 5990 4157 2824 3714 6816 1502 4259 7384 4419 5337 1512 4229 7991 \n",
            " \"1\"  \"2\"  \"2\"  \"2\"  \"2\"  \"1\"  \"2\"  \"2\"  \"2\"  \"2\"  \"2\"  \"2\"  \"2\"  \"2\"  \"2\"  \"2\" \n",
            " 969 5140 5708 7875 5343 2390 6660 6494 1149 5847 4911 1937  679   87 2363 2342 \n",
            " \"2\"  \"2\"  \"2\"  \"2\"  \"2\"  \"2\"  \"2\"  \"2\"  \"2\"  \"2\"  \"2\"  \"2\"  \"1\"  \"2\"  \"2\"  \"2\" \n",
            "2871 2312 5524  399 7095 4883 1494 6919 5853 5687 2357 3494 2721 4681 2761  309 \n",
            " \"2\"  \"2\"  \"2\"  \"2\"  \"2\"  \"1\"  \"2\"  \"2\"  \"2\"  \"2\"  \"2\"  \"2\"  \"1\"  \"2\"  \"2\"  \"2\" \n",
            "1615 4809 3491  669 6978 7490 5802 6841 3040 6007 7488  305  777 2847 7484 7503 \n",
            " \"2\"  \"2\"  \"2\"  \"2\"  \"2\"  \"2\"  \"2\"  \"2\"  \"2\"  \"2\"  \"2\"  \"2\"  \"2\"  \"2\"  \"2\"  \"2\" \n",
            "7031  190  509 3870 7394  507 7809 8096 1998 1433 6337 1448 3144 2396 1561 7506 \n",
            " \"2\"  \"2\"  \"2\"  \"2\"  \"2\"  \"1\"  \"2\"  \"2\"  \"1\"  \"2\"  \"2\"  \"2\"  \"2\"  \"2\"  \"2\"  \"2\" \n",
            "7419 7830 3503 7899 1580 3276 6321 3958 7139 1083 5695 3025 6448 5389 1702 1194 \n",
            " \"2\"  \"2\"  \"2\"  \"1\"  \"2\"  \"2\"  \"2\"  \"2\"  \"2\"  \"2\"  \"2\"  \"2\"  \"2\"  \"2\"  \"1\"  \"1\" \n",
            "5275 4902 5583 3464 6398 1021 3010  704 5145 6452 6058 4420 1948 2128 3912 1236 \n",
            " \"2\"  \"2\"  \"2\"  \"2\"  \"2\"  \"2\"  \"2\"  \"2\"  \"2\"  \"2\"  \"2\"  \"2\"  \"2\"  \"2\"  \"2\"  \"1\" \n",
            "6194 6642 7944  705 4137  926 2360 1867 6068 5846 3879 1217 1915 2850 3767 3430 \n",
            " \"2\"  \"2\"  \"2\"  \"1\"  \"2\"  \"2\"  \"2\"  \"2\"  \"2\"  \"2\"  \"2\"  \"2\"  \"2\"  \"1\"  \"2\"  \"2\" \n",
            "1004 2117 5312  400 6589 6067 5080 7391  599 1753 2159 2242 6527 5350 1705 2913 \n",
            " \"2\"  \"2\"  \"2\"  \"2\"  \"2\"  \"2\"  \"2\"  \"2\"  \"2\"  \"2\"  \"1\"  \"2\"  \"2\"  \"2\"  \"2\"  \"2\" \n",
            "1849 4498 6282 5916 6799 5201 2476 5581 7236 1749 4388 5178 4089  973 4925   65 \n",
            " \"2\"  \"2\"  \"2\"  \"2\"  \"2\"  \"2\"  \"2\"  \"2\"  \"2\"  \"2\"  \"2\"  \"1\"  \"2\"  \"2\"  \"2\"  \"2\" \n",
            "4261  307  536 7573  518 6830 4860 5131 4200 3700   94 1450 3539 2945 8056 1726 \n",
            " \"2\"  \"2\"  \"2\"  \"2\"  \"2\"  \"2\"  \"2\"  \"2\"  \"2\"  \"2\"  \"2\"  \"2\"  \"1\"  \"2\"  \"1\"  \"2\" \n",
            "6967 3908 5348 2921 5924 6469 7362  962 4817 4736 4066 2244  424 6503  311 1918 \n",
            " \"2\"  \"2\"  \"2\"  \"2\"  \"2\"  \"2\"  \"1\"  \"2\"  \"2\"  \"2\"  \"2\"  \"2\"  \"1\"  \"2\"  \"2\"  \"2\" \n",
            "2440 6861 2057 5599 7825 6792 7392 3299 7137 5736 2311  156 1348 6590 2370 2828 \n",
            " \"2\"  \"2\"  \"1\"  \"2\"  \"2\"  \"2\"  \"2\"  \"2\"  \"2\"  \"2\"  \"1\"  \"1\"  \"2\"  \"2\"  \"2\"  \"2\" \n",
            "1995 5507 7435  474 8044 6836 7884 4279 7557 1335 3457 1245 5474 5491 1554 6396 \n",
            " \"1\"  \"2\"  \"1\"  \"2\"  \"2\"  \"2\"  \"2\"  \"2\"  \"2\"  \"1\"  \"2\"  \"2\"  \"2\"  \"2\"  \"2\"  \"2\" \n",
            "5216  263 3948 6424 1205 3352 1052 3026  153 5185 4142 7722 7559 2316 3330 2731 \n",
            " \"1\"  \"2\"  \"2\"  \"2\"  \"2\"  \"2\"  \"2\"  \"2\"  \"2\"  \"2\"  \"2\"  \"1\"  \"2\"  \"2\"  \"2\"  \"2\" \n",
            "6394 3262 2246 2548 2310 4513 4481 2297 4534 4909 7282 6026 6719 8114 2321 4497 \n",
            " \"2\"  \"2\"  \"2\"  \"1\"  \"1\"  \"2\"  \"2\"  \"2\"  \"2\"  \"2\"  \"2\"  \"2\"  \"2\"  \"2\"  \"2\"  \"2\" \n",
            "5218 6003 5167 4621 2474 5004 4863 1063 6623 3659 7951 5808 6284 8002 6588 1340 \n",
            " \"2\"  \"2\"  \"2\"  \"2\"  \"2\"  \"2\"  \"1\"  \"2\"  \"2\"  \"2\"  \"2\"  \"2\"  \"2\"  \"1\"  \"2\"  \"2\" \n",
            "3847 5113 5798 2268 2286  947  293 6545 6546 5942 3625  511 5370 1248 7162 6205 \n",
            " \"2\"  \"2\"  \"2\"  \"2\"  \"2\"  \"2\"  \"2\"  \"2\"  \"2\"  \"2\"  \"1\"  \"2\"  \"1\"  \"1\"  \"2\"  \"2\" \n",
            "1556 2817 2144 3558  626 7512 6277 3981 7696 4693 2218 2722 4075 4407  402 1207 \n",
            " \"2\"  \"2\"  \"2\"  \"2\"  \"2\"  \"2\"  \"2\"  \"2\"  \"2\"  \"2\"  \"2\"  \"2\"  \"2\"  \"2\"  \"2\"  \"1\" \n",
            "8104 5040 1497 1785 2367 6035 5289  273 3499 2670  258 5096 1946 3805 6705 7681 \n",
            " \"2\"  \"2\"  \"2\"  \"2\"  \"2\"  \"2\"  \"2\"  \"2\"  \"2\"  \"2\"  \"2\"  \"2\"  \"2\"  \"2\"  \"2\"  \"2\" \n",
            " 535 3549 5529 5531 5292 2508 4690  117 3141  830 4377  644 2992 2313  817 4834 \n",
            " \"2\"  \"1\"  \"2\"  \"2\"  \"2\"  \"1\"  \"2\"  \"2\"  \"2\"  \"2\"  \"2\"  \"2\"  \"1\"  \"2\"  \"2\"  \"2\" \n",
            " 896 5356 8117  938 4099 1093 7333 4431 7581 5764   36 5833 6365 3130 5087 7552 \n",
            " \"1\"  \"2\"  \"2\"  \"1\"  \"2\"  \"1\"  \"2\"  \"2\"  \"2\"  \"2\"  \"2\"  \"2\"  \"2\"  \"2\"  \"2\"  \"2\" \n",
            "4271 6178 7474 4910 2082 3089 2745 8011 3372 7453 7357  784 5305 6707 4456 2789 \n",
            " \"2\"  \"2\"  \"2\"  \"2\"  \"2\"  \"2\"  \"2\"  \"2\"  \"2\"  \"2\"  \"2\"  \"2\"  \"2\"  \"2\"  \"2\"  \"2\" \n",
            "4233 2143 5878 6380  451  695 4254 3101 3167 3946 6090 8036 4615 7153 7363 3271 \n",
            " \"2\"  \"2\"  \"2\"  \"2\"  \"2\"  \"2\"  \"2\"  \"2\"  \"2\"  \"2\"  \"2\"  \"1\"  \"2\"  \"2\"  \"2\"  \"2\" \n",
            "1701 6720 2702 3237 7412 4906 5762 5248 8000 6526 5657 4190 6999 6825 3385 3084 \n",
            " \"2\"  \"2\"  \"2\"  \"2\"  \"1\"  \"2\"  \"2\"  \"2\"  \"2\"  \"2\"  \"2\"  \"2\"  \"1\"  \"2\"  \"1\"  \"1\" \n",
            "2140 1161 2857 2767 7673 1964  901 2724 4875  856 6727 1253  365 7322 4001 5522 \n",
            " \"2\"  \"2\"  \"2\"  \"2\"  \"2\"  \"2\"  \"2\"  \"2\"  \"2\"  \"2\"  \"2\"  \"1\"  \"2\"  \"2\"  \"2\"  \"2\" \n",
            "6356 3831 1331 5423   41 5707 3367  664 6891 4341 2633 5508 5884 3833 3808 2457 \n",
            " \"2\"  \"2\"  \"1\"  \"2\"  \"2\"  \"2\"  \"2\"  \"2\"  \"2\"  \"2\"  \"2\"  \"2\"  \"2\"  \"2\"  \"2\"  \"2\" \n",
            "4519 1741 4625 4492 5089 7555 4291 4152 6658  108 4028 7650 1858 6231 1336 4317 \n",
            " \"2\"  \"1\"  \"2\"  \"2\"  \"2\"  \"2\"  \"2\"  \"2\"  \"2\"  \"2\"  \"2\"  \"2\"  \"2\"  \"2\"  \"2\"  \"2\" \n",
            " 267 6204 3594 6030 5779 1568 3999 5712 2001 7695 2211 6547 3313 2326   29 5448 \n",
            " \"1\"  \"2\"  \"2\"  \"2\"  \"2\"  \"1\"  \"2\"  \"2\"  \"1\"  \"2\"  \"2\"  \"2\"  \"2\"  \"1\"  \"2\"  \"2\" \n",
            " 656 5555 6099 5287 6272 2859 3711 5470 8043 4500 4541 1480 6553 7009 5042 2647 \n",
            " \"2\"  \"2\"  \"2\"  \"2\"  \"2\"  \"2\"  \"2\"  \"2\"  \"2\"  \"2\"  \"2\"  \"2\"  \"2\"  \"1\"  \"2\"  \"2\" \n",
            "6210 4572 4342 1468 5932 3773 4583 2432 3581 5537 3161  477 4212  191 7404 1673 \n",
            " \"2\"  \"2\"  \"2\"  \"2\"  \"2\"  \"2\"  \"2\"  \"2\"  \"1\"  \"2\"  \"2\"  \"2\"  \"2\"  \"1\"  \"2\"  \"2\" \n",
            "2655 1345 5431 8015 1676 7489 3092 2791 6835 1677 3420 1488 5102 6834  756 6661 \n",
            " \"2\"  \"1\"  \"2\"  \"1\"  \"1\"  \"2\"  \"2\"  \"2\"  \"2\"  \"2\"  \"2\"  \"2\"  \"2\"  \"2\"  \"2\"  \"1\" \n",
            "5511  690  501 4073 6312  102 5153 5333  282 5155 5346 3965 8041  801 2049 6895 \n",
            " \"2\"  \"2\"  \"2\"  \"2\"  \"2\"  \"2\"  \"2\"  \"2\"  \"2\"  \"2\"  \"2\"  \"2\"  \"2\"  \"2\"  \"2\"  \"2\" \n",
            "5854 1777 7858 4842 4918 3486 1517 7409 2567 1755 7120 5610 7647 6370 4637 7324 \n",
            " \"1\"  \"2\"  \"2\"  \"2\"  \"2\"  \"1\"  \"1\"  \"2\"  \"2\"  \"2\"  \"1\"  \"2\"  \"2\"  \"2\"  \"2\"  \"2\" \n",
            "3889 3747  285 4404 1341 5273  321 5046 2808 1293 1412 7430 4409  639  622 1587 \n",
            " \"2\"  \"2\"  \"2\"  \"2\"  \"1\"  \"2\"  \"2\"  \"2\"  \"2\"  \"1\"  \"2\"  \"2\"  \"2\"  \"2\"  \"1\"  \"2\" \n",
            "4726 2080 2522 4021 5845 4684 6857  905 6923 7159 4816 3239 6787 4208  607 4345 \n",
            " \"2\"  \"2\"  \"2\"  \"2\"  \"2\"  \"2\"  \"2\"  \"2\"  \"2\"  \"2\"  \"2\"  \"2\"  \"2\"  \"2\"  \"2\"  \"2\" \n",
            "1118  165 7172  781 3663 1018  849 3848 4891 2723  974 3882 3003 2239  571 4675 \n",
            " \"2\"  \"2\"  \"2\"  \"2\"  \"2\"  \"2\"  \"2\"  \"2\"  \"2\"  \"2\"  \"2\"  \"2\"  \"2\"  \"2\"  \"2\"  \"2\" \n",
            "2997 2084 2307 7201 2543 5319  747 6853 1076 4303 4960 1875 1957 2915 4040  859 \n",
            " \"2\"  \"1\"  \"2\"  \"1\"  \"2\"  \"2\"  \"2\"  \"2\"  \"2\"  \"2\"  \"2\"  \"2\"  \"1\"  \"2\"  \"2\"  \"2\" \n",
            " 423 2575 6938 5212 6694 6982 4959 2873 3323 1084 2235 1033 1922 6145 2988 2887 \n",
            " \"2\"  \"2\"  \"1\"  \"2\"  \"2\"  \"2\"  \"2\"  \"2\"  \"2\"  \"2\"  \"2\"  \"1\"  \"1\"  \"2\"  \"2\"  \"2\" \n",
            "7896 1641 5510 6064 4630 1942 1805 5673 1829 3460 8060 6614 1306 3088 5299 1010 \n",
            " \"2\"  \"2\"  \"2\"  \"2\"  \"2\"  \"2\"  \"2\"  \"2\"  \"2\"  \"2\"  \"2\"  \"2\"  \"1\"  \"2\"  \"2\"  \"2\" \n",
            "4822 3247 6428 8053 1422 3394 4636 7732 1610 3961  867 7938 4128 2733 3497 3080 \n",
            " \"2\"  \"2\"  \"2\"  \"2\"  \"1\"  \"2\"  \"2\"  \"2\"  \"2\"  \"2\"  \"2\"  \"2\"  \"2\"  \"2\"  \"2\"  \"2\" \n",
            "7272 2116 5540 3104 7189 7417 4782 3475 6542 4183 3797 1577 1814 3466 1810 7786 \n",
            " \"1\"  \"2\"  \"2\"  \"2\"  \"2\"  \"2\"  \"2\"  \"2\"  \"2\"  \"2\"  \"2\"  \"2\"  \"2\"  \"2\"  \"2\"  \"2\" \n",
            "5914 1965 5144 7411 5257 5509 4872 4440 5164  923 4527 5684 2836 6892 5354 3819 \n",
            " \"2\"  \"2\"  \"2\"  \"2\"  \"2\"  \"2\"  \"2\"  \"2\"  \"2\"  \"2\"  \"2\"  \"2\"  \"1\"  \"2\"  \"2\"  \"2\" \n",
            "2015   24 1619 5413 8017 7583 1180  179 1366  836 7700 4813 1386 2153 5732 4641 \n",
            " \"1\"  \"2\"  \"1\"  \"2\"  \"2\"  \"2\"  \"2\"  \"2\"  \"2\"  \"2\"  \"2\"  \"2\"  \"1\"  \"2\"  \"2\"  \"2\" \n",
            "2185  159 3509 1031 1190 6934 7839 2407 3976 6016 4743 1455  438 3316  208 4117 \n",
            " \"2\"  \"2\"  \"2\"  \"2\"  \"1\"  \"2\"  \"2\"  \"2\"  \"2\"  \"2\"  \"2\"  \"2\"  \"2\"  \"2\"  \"2\"  \"2\" \n",
            "4081 4014 5453 5741 8069 6751 6566 4009 2266 6565 4113 3438 3837 2087  628 6802 \n",
            " \"2\"  \"2\"  \"2\"  \"2\"  \"2\"  \"2\"  \"2\"  \"2\"  \"2\"  \"2\"  \"2\"  \"2\"  \"2\"  \"2\"  \"2\"  \"2\" \n",
            "2754 3169 3226 3890 6105 2071 8118 8042 6529 5195 8119 2594 7589 2684 4679 1189 \n",
            " \"2\"  \"2\"  \"2\"  \"2\"  \"2\"  \"2\"  \"2\"  \"2\"  \"2\"  \"2\"  \"2\"  \"1\"  \"2\"  \"2\"  \"2\"  \"2\" \n",
            "3713 7924  300 5502 5688 5960 7449 5877 5614 1969  390 6811 5482 7151 4242  703 \n",
            " \"2\"  \"2\"  \"2\"  \"2\"  \"2\"  \"2\"  \"2\"  \"2\"  \"2\"  \"2\"  \"2\"  \"2\"  \"2\"  \"2\"  \"2\"  \"2\" \n",
            " 623 7729 7216 6358 3064  773 5141 6102 8034  549 1511 4510 4330 1251 1376 2770 \n",
            " \"2\"  \"2\"  \"2\"  \"2\"  \"2\"  \"2\"  \"1\"  \"2\"  \"2\"  \"2\"  \"2\"  \"2\"  \"2\"  \"2\"  \"2\"  \"2\" \n",
            "7156 5231 1158 7092 3744 7263 3825 2589 1473   66 4663 6306 2689 1486 6441 7885 \n",
            " \"2\"  \"2\"  \"1\"  \"2\"  \"2\"  \"2\"  \"2\"  \"1\"  \"2\"  \"1\"  \"2\"  \"2\"  \"2\"  \"2\"  \"2\"  \"2\" \n",
            "1371  939 4218 2021 8105  785 1817 4654 5359 1060 1831 4680 7497 7699 3416 7232 \n",
            " \"2\"  \"2\"  \"2\"  \"1\"  \"2\"  \"2\"  \"2\"  \"2\"  \"2\"  \"1\"  \"2\"  \"2\"  \"2\"  \"1\"  \"2\"  \"2\" \n",
            " 413 7763 5472 4581 4888 4839  486 5551 7955 3535 4266 4176 4848 7572 6137 7069 \n",
            " \"2\"  \"2\"  \"2\"  \"2\"  \"2\"  \"2\"  \"2\"  \"2\"  \"1\"  \"2\"  \"2\"  \"2\"  \"2\"  \"2\"  \"2\"  \"2\" \n",
            "5832  636 6846 4443 4433 1774 6594  620 6230 5137 4555 2525 6650 5021 4436 6215 \n",
            " \"2\"  \"2\"  \"2\"  \"2\"  \"2\"  \"2\"  \"2\"  \"2\"  \"2\"  \"2\"  \"2\"  \"2\"  \"2\"  \"2\"  \"2\"  \"2\" \n",
            "5462 2089 1424 3124 3178 3881 7320 4153 2635 5119 3114 7986 1439 3268 3132   60 \n",
            " \"2\"  \"2\"  \"1\"  \"2\"  \"2\"  \"2\"  \"2\"  \"2\"  \"1\"  \"2\"  \"2\"  \"1\"  \"1\"  \"2\"  \"2\"  \"2\" \n",
            "2540 6893 5345 3832 7708 6415 4932  502 3256 5440  642 6875 7792  167 2047 7883 \n",
            " \"2\"  \"2\"  \"2\"  \"2\"  \"2\"  \"2\"  \"2\"  \"2\"  \"2\"  \"2\"  \"2\"  \"2\"  \"2\"  \"2\"  \"1\"  \"1\" \n",
            "4763   14 3516 2934  318 6063 3507 7967 5187 4138 1546 2010 6095 4289 3258 2636 \n",
            " \"2\"  \"2\"  \"2\"  \"2\"  \"2\"  \"2\"  \"2\"  \"1\"  \"2\"  \"2\"  \"2\"  \"2\"  \"2\"  \"2\"  \"2\"  \"2\" \n",
            "5054 4275 3569 5439 4886 3929  602 1691 4915  373  709 7293 6202 6462 6501 7961 \n",
            " \"2\"  \"2\"  \"2\"  \"2\"  \"2\"  \"2\"  \"1\"  \"2\"  \"2\"  \"2\"  \"2\"  \"1\"  \"2\"  \"2\"  \"2\"  \"2\" \n",
            "3620 6502 4090 6530 6208 5662 5953  253 5075 7837 6599 5506 4408 2197 6654  241 \n",
            " \"2\"  \"2\"  \"2\"  \"2\"  \"2\"  \"2\"  \"2\"  \"2\"  \"2\"  \"2\"  \"2\"  \"2\"  \"2\"  \"2\"  \"2\"  \"2\" \n",
            "1289 7234 1263 5823 3375 5301 4928 6382 2698 5648 3541 6653 5272 4036 5641 5922 \n",
            " \"2\"  \"2\"  \"2\"  \"2\"  \"2\"  \"2\"  \"2\"  \"2\"  \"2\"  \"2\"  \"2\"  \"2\"  \"2\"  \"2\"  \"2\"  \"2\" \n",
            "4204 4588 2972   96 7072 2708 3917 3361 5828 5617 5974 2127 6723 4467 3266 3816 \n",
            " \"2\"  \"2\"  \"1\"  \"2\"  \"2\"  \"2\"  \"2\"  \"2\"  \"2\"  \"2\"  \"2\"  \"2\"  \"2\"  \"2\"  \"2\"  \"2\" \n",
            "5520 5620 4617 6005 3538 8026 5864 6980 7044 7643 7684 7692 3696 7001  694 5245 \n",
            " \"2\"  \"2\"  \"2\"  \"2\"  \"2\"  \"1\"  \"2\"  \"2\"  \"2\"  \"2\"  \"2\"  \"2\"  \"2\"  \"2\"  \"2\"  \"2\" \n",
            "5213 7937 6953 7824 3091  928 6019  395 3211 1066 5993 3004 4084 7625 4626 7077 \n",
            " \"2\"  \"2\"  \"1\"  \"2\"  \"2\"  \"2\"  \"2\"  \"1\"  \"1\"  \"2\"  \"2\"  \"2\"  \"2\"  \"2\"  \"2\"  \"2\" \n",
            "4833 2293 2905 5576 2464 3861 7678 5116 4738 7157 1780 5768 1125 5204 5180 1869 \n",
            " \"2\"  \"2\"  \"2\"  \"2\"  \"2\"  \"2\"  \"2\"  \"2\"  \"2\"  \"2\"  \"1\"  \"2\"  \"2\"  \"2\"  \"2\"  \"1\" \n",
            "4448 2841 4343 4895 1275 2936 3362 4174 5763 4239 3572 1839 2184 3806 3584 1525 \n",
            " \"2\"  \"2\"  \"2\"  \"2\"  \"1\"  \"2\"  \"2\"  \"2\"  \"2\"  \"2\"  \"2\"  \"2\"  \"2\"  \"2\"  \"2\"  \"1\" \n",
            "2375 4597 3858 3839 5015 3828 3095 5711 7845 2378 7933 7459 1498  734 1308 2129 \n",
            " \"2\"  \"2\"  \"2\"  \"2\"  \"2\"  \"2\"  \"1\"  \"2\"  \"2\"  \"1\"  \"2\"  \"2\"  \"1\"  \"2\"  \"2\"  \"2\" \n",
            "7859  778 2776 5372 6302 4986 5623 4417 4305 4815 4610  823 2252 1185 2280 3126 \n",
            " \"1\"  \"2\"  \"2\"  \"2\"  \"2\"  \"2\"  \"2\"  \"2\"  \"2\"  \"2\"  \"2\"  \"2\"  \"2\"  \"2\"  \"1\"  \"2\" \n",
            "5488 4646 1061 1116 7683 2986 3332 4565 5138  892 3804 3354 4799 3603 4961 7653 \n",
            " \"2\"  \"2\"  \"1\"  \"1\"  \"1\"  \"2\"  \"2\"  \"2\"  \"2\"  \"1\"  \"2\"  \"2\"  \"2\"  \"2\"  \"2\"  \"2\" \n",
            " 437 4652 7737 6255 7764 6848 5253 5016 7773 7055  625 2515 1721 1772 6241 7422 \n",
            " \"2\"  \"2\"  \"1\"  \"2\"  \"2\"  \"2\"  \"2\"  \"2\"  \"1\"  \"2\"  \"2\"  \"2\"  \"2\"  \"2\"  \"2\"  \"2\" \n",
            "2405 2665 1600 3566 7864 5210 4620 1794 6412 1305   90 3273 3304 6532 4078 3068 \n",
            " \"2\"  \"2\"  \"1\"  \"2\"  \"2\"  \"2\"  \"2\"  \"1\"  \"2\"  \"1\"  \"2\"  \"2\"  \"1\"  \"2\"  \"2\"  \"2\" \n",
            "5399 3740 2042 4004 1395 6961 6188 6647 8023 4635  312 5696 4203 8083 3429 4198 \n",
            " \"2\"  \"2\"  \"2\"  \"2\"  \"2\"  \"2\"  \"2\"  \"2\"  \"2\"  \"1\"  \"2\"  \"2\"  \"2\"  \"2\"  \"2\"  \"2\" \n",
            "4051 7750 1598 1908  933 4718 6604 3410 5730 5012 1563 7744 7539 2271 6975 1549 \n",
            " \"2\"  \"1\"  \"2\"  \"1\"  \"2\"  \"2\"  \"2\"  \"2\"  \"2\"  \"2\"  \"2\"  \"1\"  \"2\"  \"2\"  \"2\"  \"1\" \n",
            "4199 1508 1090 3909 1821 3137 5313 2207 4479 4217 2710 1230 2085 4903 4730 5247 \n",
            " \"2\"  \"2\"  \"2\"  \"2\"  \"2\"  \"2\"  \"2\"  \"2\"  \"2\"  \"2\"  \"2\"  \"2\"  \"2\"  \"2\"  \"2\"  \"2\" \n",
            "3022  580 4953 2981 5027 7623 7341 4475 6619 7252 4281 1107 1534 6702 5665 5608 \n",
            " \"1\"  \"2\"  \"2\"  \"2\"  \"2\"  \"1\"  \"2\"  \"2\"  \"2\"  \"2\"  \"2\"  \"2\"  \"2\"  \"2\"  \"2\"  \"2\" \n",
            " 434 5318 2550  195 6002 6668 1493 7826 3900 2780 1599 4765  113 2212 5484 3921 \n",
            " \"2\"  \"2\"  \"1\"  \"2\"  \"2\"  \"2\"  \"2\"  \"2\"  \"2\"  \"1\"  \"2\"  \"2\"  \"2\"  \"2\"  \"2\"  \"2\" \n",
            "1678 5568  963 2558 7752 3042  527 2038 2092 4304 3072 6009 7982 7529 7988 7905 \n",
            " \"2\"  \"2\"  \"2\"  \"1\"  \"2\"  \"2\"  \"1\"  \"2\"  \"1\"  \"2\"  \"2\"  \"2\"  \"2\"  \"2\"  \"2\"  \"2\" \n",
            "2241 6203  658 4678 4340  982 4055 2178 5302 5501 2896 5940 6339 8080 3317 7339 \n",
            " \"2\"  \"2\"  \"2\"  \"2\"  \"2\"  \"2\"  \"2\"  \"2\"  \"2\"  \"2\"  \"1\"  \"2\"  \"2\"  \"2\"  \"1\"  \"2\" \n",
            "4896 2598 3610 3712 6770 1025 4143 4348 1219 8016 1754 7462 2648 6240 3517 3431 \n",
            " \"2\"  \"2\"  \"1\"  \"1\"  \"2\"  \"2\"  \"2\"  \"2\"  \"2\"  \"2\"  \"2\"  \"2\"  \"2\"  \"2\"  \"2\"  \"2\" \n",
            "6736 6310 3867  364 6307 1999 2523 6735 6242 3334 3752   20 6981 7835 5587 1266 \n",
            " \"2\"  \"2\"  \"2\"  \"2\"  \"2\"  \"2\"  \"2\"  \"2\"  \"2\"  \"2\"  \"2\"  \"2\"  \"2\"  \"2\"  \"2\"  \"2\" \n",
            "1645 1684 3351 6015 7238 7003 1355 4146 2798  578 3934 1048 2815 6859 3967 6438 \n",
            " \"2\"  \"2\"  \"2\"  \"2\"  \"2\"  \"2\"  \"2\"  \"2\"  \"2\"  \"2\"  \"2\"  \"2\"  \"2\"  \"2\"  \"2\"  \"2\" \n",
            "3827 8074 2749 3887 2985 2168  346 6989 1870 7291 5208   30 3377 7799 6856 7286 \n",
            " \"2\"  \"2\"  \"2\"  \"2\"  \"2\"  \"2\"  \"1\"  \"2\"  \"1\"  \"2\"  \"2\"  \"2\"  \"1\"  \"2\"  \"2\"  \"2\" \n",
            "7731 5749  769 7093 3200 7771 1353 3776 6832 1894  449 1719 6632 4381 2238 1148 \n",
            " \"2\"  \"2\"  \"2\"  \"2\"  \"2\"  \"2\"  \"2\"  \"2\"  \"2\"  \"1\"  \"2\"  \"2\"  \"2\"  \"2\"  \"2\"  \"1\" \n",
            " 591 1000   27 7078 5554  201 6872 1385 1423 7147 4933 5298 6890 2301 2875 5108 \n",
            " \"2\"  \"2\"  \"2\"  \"2\"  \"2\"  \"2\"  \"2\"  \"2\"  \"2\"  \"2\"  \"2\"  \"2\"  \"2\"  \"2\"  \"2\"  \"2\" \n",
            "1947 7863  475  573 3388 7749 7393 2014 4999 2000 3034 1284 8033 6125 8095 1700 \n",
            " \"2\"  \"2\"  \"2\"  \"2\"  \"2\"  \"1\"  \"2\"  \"1\"  \"2\"  \"2\"  \"2\"  \"2\"  \"2\"  \"2\"  \"2\"  \"1\" \n",
            "8086 1769 3998 7127 2053 1686 5443 3842 4593 2810 6899 3647 3138 6313 2549 6485 \n",
            " \"2\"  \"2\"  \"2\"  \"2\"  \"1\"  \"2\"  \"2\"  \"1\"  \"2\"  \"2\"  \"2\"  \"2\"  \"2\"  \"2\"  \"2\"  \"2\" \n",
            "4165 6191 3674 3093 4309  336 3792 4853 3500 1103 5170 3312 7265 4323 7648 6800 \n",
            " \"2\"  \"2\"  \"1\"  \"2\"  \"2\"  \"2\"  \"2\"  \"2\"  \"2\"  \"1\"  \"2\"  \"2\"  \"2\"  \"2\"  \"2\"  \"2\" \n",
            "1642 3533 5835 3117 1745 3606  594 4459 2793 3182 1725 1733 3028 8090 4094 3877 \n",
            " \"1\"  \"2\"  \"2\"  \"2\"  \"1\"  \"2\"  \"2\"  \"2\"  \"1\"  \"2\"  \"2\"  \"2\"  \"2\"  \"2\"  \"2\"  \"2\" \n",
            "7090   44 3331 1328 7243 1428 5757 5646 4287 7345 7610 6186 1374 2661 7134 7966 \n",
            " \"1\"  \"2\"  \"2\"  \"2\"  \"2\"  \"2\"  \"2\"  \"2\"  \"2\"  \"1\"  \"2\"  \"2\"  \"2\"  \"2\"  \"2\"  \"1\" \n",
            "7138    7 3518 2060  732 6091 1579 1215 7483 4276 3703 3063 2736 1082 3257 1608 \n",
            " \"2\"  \"2\"  \"2\"  \"2\"  \"2\"  \"2\"  \"1\"  \"1\"  \"2\"  \"2\"  \"2\"  \"2\"  \"2\"  \"2\"  \"2\"  \"1\" \n",
            "1713 4486  317 5836 1476 4469 3396 7021 2920 6600 2433 3548 5168 1707  996 3673 \n",
            " \"1\"  \"2\"  \"2\"  \"2\"  \"1\"  \"2\"  \"2\"  \"2\"  \"2\"  \"1\"  \"1\"  \"2\"  \"2\"  \"1\"  \"2\"  \"2\" \n",
            "2748 5276 4821 3814 2276 6819 3347 2941 4792 6933 1165 4685 6037 8050 4761 5592 \n",
            " \"2\"  \"2\"  \"2\"  \"2\"  \"2\"  \"2\"  \"2\"  \"2\"  \"2\"  \"1\"  \"2\"  \"2\"  \"2\"  \"2\"  \"2\"  \"2\" \n",
            "6655 5030 7910  863 2233  651 4723  845 7167 5434 2948 5550 2006 7383 5840 3856 \n",
            " \"2\"  \"2\"  \"1\"  \"1\"  \"2\"  \"2\"  \"2\"  \"2\"  \"2\"  \"2\"  \"1\"  \"2\"  \"1\"  \"2\"  \"2\"  \"2\" \n",
            "4523 1809 1110 5913 7082 3878 7423 6187 3698 7041 6876  247 3632 7685 2827 5793 \n",
            " \"2\"  \"2\"  \"2\"  \"2\"  \"2\"  \"2\"  \"1\"  \"2\"  \"2\"  \"2\"  \"2\"  \"2\"  \"2\"  \"2\"  \"2\"  \"2\" \n",
            "5033 2706 7023 2371 6217 6962 1170 2314 7379  278 6296 2618  219 7066 4894 7240 \n",
            " \"2\"  \"2\"  \"1\"  \"1\"  \"2\"  \"2\"  \"2\"  \"2\"  \"2\"  \"2\"  \"2\"  \"2\"  \"2\"  \"2\"  \"2\"  \"2\" \n",
            "1570 2646 3726 7690 4569 7644 3784  360  231 4748 7487 7985 6794 7080 2512 8081 \n",
            " \"1\"  \"2\"  \"2\"  \"2\"  \"2\"  \"2\"  \"2\"  \"2\"  \"2\"  \"2\"  \"1\"  \"1\"  \"2\"  \"2\"  \"2\"  \"2\" \n",
            "4139 5090 1309 7629 4602 7164 6233 8120  256 5703 1421 2034 7618 6133 7612  872 \n",
            " \"2\"  \"2\"  \"1\"  \"2\"  \"2\"  \"2\"  \"2\"  \"2\"  \"2\"  \"2\"  \"2\"  \"2\"  \"2\"  \"2\"  \"2\"  \"1\" \n",
            "6946 7627 3214  354 3708 3359 4943 1596 6605 5985 2284 1917 7032 7034  837 3489 \n",
            " \"2\"  \"2\"  \"2\"  \"2\"  \"2\"  \"2\"  \"2\"  \"2\"  \"2\"  \"2\"  \"2\"  \"2\"  \"2\"  \"2\"  \"2\"  \"2\" \n",
            "6387 2330 1828  919 1259 5018  161 4924 4632  985 4129 6576 1218 4267 1555 2208 \n",
            " \"2\"  \"2\"  \"1\"  \"2\"  \"2\"  \"2\"  \"2\"  \"2\"  \"2\"  \"2\"  \"2\"  \"2\"  \"2\"  \"2\"  \"1\"  \"2\" \n",
            "7074 7926 5193 5593 7728 7432 1203 1196 3201 7546 4446 3444 1041 7312 4110 2324 \n",
            " \"1\"  \"2\"  \"2\"  \"2\"  \"2\"  \"2\"  \"2\"  \"2\"  \"2\"  \"2\"  \"2\"  \"2\"  \"2\"  \"1\"  \"2\"  \"1\" \n",
            "7038 7184 2630 5921 1914 5679  649  328 7338  478 4929 4887 8115  488 1905 2383 \n",
            " \"2\"  \"2\"  \"2\"  \"2\"  \"1\"  \"2\"  \"2\"  \"2\"  \"2\"  \"2\"  \"2\"  \"2\"  \"2\"  \"2\"  \"1\"  \"2\" \n",
            "5898 5879 5979 7608 2931 2668 7356 3459 4649  955 2018 4937 6115 3348 3062 2419 \n",
            " \"2\"  \"2\"  \"2\"  \"2\"  \"1\"  \"2\"  \"2\"  \"2\"  \"2\"  \"2\"  \"2\"  \"2\"  \"2\"  \"2\"  \"2\"  \"2\" \n",
            "5361 1816  341  871 2852 4563 5179 3176 3109 3644 1487 4296 6077 1445 6131 3926 \n",
            " \"2\"  \"2\"  \"2\"  \"2\"  \"2\"  \"2\"  \"2\"  \"2\"  \"2\"  \"2\"  \"1\"  \"2\"  \"2\"  \"2\"  \"2\"  \"2\" \n",
            "6539 4399 5896 7665 5650 4516  883 5693 1152 4917 1843 6346 4219 2983  425  736 \n",
            " \"2\"  \"2\"  \"2\"  \"2\"  \"2\"  \"2\"  \"2\"  \"2\"  \"2\"  \"2\"  \"2\"  \"2\"  \"2\"  \"1\"  \"2\"  \"2\" \n",
            "3764  846  493 7022 3107  537 2638 6258 2251 3605 7026 1939 1463 6788 6042 5626 \n",
            " \"1\"  \"1\"  \"2\"  \"2\"  \"2\"  \"2\"  \"2\"  \"2\"  \"2\"  \"2\"  \"2\"  \"2\"  \"2\"  \"2\"  \"2\"  \"2\" \n",
            "6548 6287 3591 5490 5850   22 2192 2794 5739 6903  213  729 1242  881 1108 6766 \n",
            " \"2\"  \"2\"  \"2\"  \"2\"  \"2\"  \"2\"  \"2\"  \"2\"  \"1\"  \"2\"  \"2\"  \"2\"  \"2\"  \"2\"  \"1\"  \"2\" \n",
            "5995 1980  280 5706  441 4725 4391 6084  965 3974 6265 2174 3319  380 2892 3723 \n",
            " \"2\"  \"2\"  \"2\"  \"2\"  \"2\"  \"2\"  \"2\"  \"2\"  \"2\"  \"1\"  \"2\"  \"2\"  \"2\"  \"2\"  \"2\"  \"2\" \n",
            "5738 1604 4079 4715 3008 6227 7229 3655 6681 1418 4851 4356 6700 7514 1822 8031 \n",
            " \"2\"  \"2\"  \"2\"  \"2\"  \"2\"  \"2\"  \"2\"  \"2\"  \"2\"  \"2\"  \"2\"  \"2\"  \"2\"  \"2\"  \"2\"  \"1\" \n",
            "4554 3862 5139 5944 4447 1903 4945  565 5419 7204 4564 1885 5933  956 2062 3221 \n",
            " \"2\"  \"2\"  \"2\"  \"2\"  \"2\"  \"1\"  \"2\"  \"2\"  \"2\"  \"2\"  \"2\"  \"2\"  \"2\"  \"2\"  \"2\"  \"2\" \n",
            "3628 5632 7183 1016  313 5405 2287 7658 7104 1629 2576 6910 4389 1050 2430 1557 \n",
            " \"2\"  \"2\"  \"2\"  \"2\"  \"2\"  \"2\"  \"2\"  \"2\"  \"1\"  \"2\"  \"2\"  \"2\"  \"2\"  \"2\"  \"2\"  \"1\" \n",
            " 708 3338 2656   49 1737 7549 4164 1906 2929 5804  780 7704 1530 6984 1634 8102 \n",
            " \"2\"  \"2\"  \"1\"  \"1\"  \"2\"  \"1\"  \"2\"  \"1\"  \"2\"  \"2\"  \"2\"  \"2\"  \"2\"  \"2\"  \"2\"  \"2\" \n",
            "1506 1067 1617  647 6467 5410 5352  203 4664 5957 2003 4367 4052 5742 3815 6034 \n",
            " \"2\"  \"2\"  \"2\"  \"2\"  \"2\"  \"2\"  \"2\"  \"2\"  \"2\"  \"2\"  \"2\"  \"2\"  \"2\"  \"2\"  \"2\"  \"2\" \n",
            "7997 2240 7226 5528 5417  221 6439 6987 3788  854 7504 4017 4530  494 7408 7768 \n",
            " \"2\"  \"2\"  \"2\"  \"2\"  \"2\"  \"2\"  \"2\"  \"2\"  \"2\"  \"1\"  \"2\"  \"2\"  \"2\"  \"1\"  \"2\"  \"2\" \n",
            "5621 6076 3417 2581 1250 1211  990 1478 1438 4538 3030 2499 2414 5067 1362 4701 \n",
            " \"2\"  \"2\"  \"2\"  \"2\"  \"2\"  \"1\"  \"2\"  \"2\"  \"2\"  \"2\"  \"2\"  \"2\"  \"2\"  \"2\"  \"2\"  \"2\" \n",
            "2912 1991  583 5411 3542 5235  211 6510 2361 5433 7170 5627 6169 7213 5713 4207 \n",
            " \"2\"  \"2\"  \"2\"  \"2\"  \"2\"  \"2\"  \"2\"  \"1\"  \"2\"  \"2\"  \"2\"  \"2\"  \"2\"  \"2\"  \"2\"  \"2\" \n",
            "1681 1800  499 4076 1234 5729 1739 2346  459 1073   25 5513 1383 6288 2300 3670 \n",
            " \"2\"  \"1\"  \"2\"  \"2\"  \"2\"  \"2\"  \"2\"  \"2\"  \"2\"  \"2\"  \"2\"  \"2\"  \"2\"  \"2\"  \"2\"  \"2\" \n",
            "4823 7152 2902 1973   84 3155 3725 1155 6474 1072 4673 3473 7599 6733 6434 6331 \n",
            " \"2\"  \"2\"  \"2\"  \"2\"  \"1\"  \"2\"  \"2\"  \"2\"  \"2\"  \"2\"  \"2\"  \"2\"  \"2\"  \"2\"  \"2\"  \"2\" \n",
            "2250 3047 1086  524 4039 3631 2555 3735 7227 7553 5415 2164 4824 3959 3052 5409 \n",
            " \"2\"  \"2\"  \"1\"  \"2\"  \"2\"  \"2\"  \"2\"  \"2\"  \"2\"  \"2\"  \"2\"  \"2\"  \"2\"  \"2\"  \"2\"  \"2\" \n",
            " 157 6466 6165 2720 1547 2674 5792 7927 5756 4540 4957 6495 3292 4109  288 4048 \n",
            " \"2\"  \"2\"  \"2\"  \"2\"  \"2\"  \"1\"  \"2\"  \"2\"  \"2\"  \"2\"  \"2\"  \"2\"  \"1\"  \"2\"  \"2\"  \"2\" \n",
            "6726  894 3785  398 3184 2191 6159 1876  712 7154 6674 1400 1382 1186 3343 5494 \n",
            " \"2\"  \"2\"  \"2\"  \"2\"  \"2\"  \"1\"  \"2\"  \"2\"  \"2\"  \"2\"  \"2\"  \"2\"  \"1\"  \"2\"  \"2\"  \"2\" \n",
            "2406 7493 4797 5288 5104 6129 3648 7841 2158 5263 6060 1569  105 2046 7386  244 \n",
            " \"1\"  \"2\"  \"2\"  \"2\"  \"2\"  \"2\"  \"2\"  \"2\"  \"1\"  \"2\"  \"2\"  \"2\"  \"2\"  \"1\"  \"1\"  \"2\" \n",
            "4862 1833  492 5573 4172 5479 5874 6691 3297 3671 3652 6335 3263 5578 5460 1352 \n",
            " \"2\"  \"2\"  \"2\"  \"2\"  \"2\"  \"2\"  \"2\"  \"2\"  \"2\"  \"2\"  \"2\"  \"2\"  \"2\"  \"2\"  \"2\"  \"2\" \n",
            "5857 2163 8004 4969 6570 5607 1533 4605 4220  812 6837 1064  378  158 1564 2368 \n",
            " \"2\"  \"2\"  \"2\"  \"2\"  \"2\"  \"2\"  \"2\"  \"2\"  \"2\"  \"2\"  \"2\"  \"2\"  \"2\"  \"2\"  \"2\"  \"1\" \n",
            "6748 3406 3551 4252 7061  212 2532 3950 4532 2137 1040 7458 7028  216 7251 3599 \n",
            " \"2\"  \"2\"  \"2\"  \"2\"  \"2\"  \"2\"  \"2\"  \"2\"  \"2\"  \"2\"  \"2\"  \"2\"  \"2\"  \"2\"  \"2\"  \"2\" \n",
            "6782 4753 5715 2343 2697 7958 4125 7101 7340 7471 5515 3102 2290 5020 2762 3928 \n",
            " \"2\"  \"2\"  \"2\"  \"1\"  \"2\"  \"2\"  \"1\"  \"2\"  \"2\"  \"2\"  \"2\"  \"2\"  \"2\"  \"2\"  \"2\"  \"2\" \n",
            "4867 8113 7301 6677 4601 2809 4981 2100 1826  989 4474 1558  850 5408 7915 2885 \n",
            " \"2\"  \"2\"  \"1\"  \"2\"  \"2\"  \"2\"  \"2\"  \"1\"  \"2\"  \"1\"  \"2\"  \"2\"  \"2\"  \"2\"  \"2\"  \"1\" \n",
            "7257 2424 7800 5382 1584 6332 7854 4101 1896 2806  294 1620 4160 5971 1489 2126 \n",
            " \"2\"  \"2\"  \"2\"  \"2\"  \"2\"  \"1\"  \"2\"  \"2\"  \"2\"  \"2\"  \"2\"  \"2\"  \"2\"  \"2\"  \"2\"  \"2\" \n",
            "2147 1704 1088  977 3409 4000 4585 1731 1132 7116 2245 2409 2785 3039 2469 3995 \n",
            " \"2\"  \"2\"  \"2\"  \"2\"  \"2\"  \"2\"  \"2\"  \"2\"  \"2\"  \"2\"  \"2\"  \"2\"  \"2\"  \"2\"  \"2\"  \"2\" \n",
            "4250 7381 3933 5851  495 4704 2849 6403 7259  564 7568 7440  731  906 2999 2732 \n",
            " \"2\"  \"2\"  \"2\"  \"2\"  \"1\"  \"2\"  \"2\"  \"2\"  \"2\"  \"2\"  \"2\"  \"1\"  \"1\"  \"2\"  \"2\"  \"2\" \n",
            "7820 3522 5282 4798 1375 1358 2148 6805 3203 6950 1011 2944 4353 7158 4576 3939 \n",
            " \"2\"  \"2\"  \"2\"  \"2\"  \"2\"  \"1\"  \"2\"  \"2\"  \"2\"  \"2\"  \"2\"  \"2\"  \"2\"  \"2\"  \"2\"  \"2\" \n",
            "3942 3452 4032 1609 7271 4590 6630 5000 3242 4938 5697 8107 7288  122 2095 1614 \n",
            " \"2\"  \"2\"  \"2\"  \"1\"  \"2\"  \"2\"  \"2\"  \"2\"  \"2\"  \"2\"  \"2\"  \"2\"  \"2\"  \"2\"  \"2\"  \"2\" \n",
            "1321 6101 1985 7431 4338 7329 4179 4546 3295 7672  750 1241 3393 2048 4037 5209 \n",
            " \"2\"  \"2\"  \"2\"  \"2\"  \"2\"  \"1\"  \"2\"  \"2\"  \"2\"  \"2\"  \"2\"  \"2\"  \"2\"  \"2\"  \"2\"  \"2\" \n",
            "3373 1955 3885 1811 5637  168 6943 3070  949 3240 5774 7185 4175 3771 6409 6311 \n",
            " \"2\"  \"2\"  \"2\"  \"2\"  \"2\"  \"2\"  \"2\"  \"2\"  \"2\"  \"2\"  \"2\"  \"2\"  \"2\"  \"2\"  \"2\"  \"2\" \n",
            "3985 4376 2895 2998 2862 2317 5663 2382 7995  110 1886 5308 5161 7395 5549 2957 \n",
            " \"2\"  \"2\"  \"2\"  \"2\"  \"2\"  \"2\"  \"2\"  \"2\"  \"2\"  \"2\"  \"2\"  \"2\"  \"2\"  \"2\"  \"2\"  \"2\" \n",
            " 268  342 6038  659 3608 6960 6196 3694 1277  246 5649 3272 6344 7578 4814 5393 \n",
            " \"2\"  \"2\"  \"2\"  \"2\"  \"2\"  \"2\"  \"2\"  \"1\"  \"1\"  \"2\"  \"2\"  \"2\"  \"2\"  \"2\"  \"2\"  \"2\" \n",
            "6687  601 5894 2255 2825 5009 7819 1860 5465 4405 6636 6134 6010 7218 3318  433 \n",
            " \"2\"  \"1\"  \"2\"  \"2\"  \"2\"  \"2\"  \"2\"  \"2\"  \"2\"  \"2\"  \"2\"  \"2\"  \"2\"  \"2\"  \"2\"  \"2\" \n",
            "7805 4026 3148  291 7311 3344 2358 4169  299 7466 5799 7046  862 3082  635 5615 \n",
            " \"2\"  \"2\"  \"2\"  \"2\"  \"2\"  \"2\"  \"2\"  \"2\"  \"2\"  \"2\"  \"2\"  \"2\"  \"2\"  \"2\"  \"1\"  \"2\" \n",
            " 416 4364 7096 2204 6965 7747 6155 1874 6444 4989 4100 1258 6170 1688 6764 3027 \n",
            " \"2\"  \"2\"  \"2\"  \"2\"  \"2\"  \"2\"  \"2\"  \"1\"  \"2\"  \"2\"  \"2\"  \"2\"  \"2\"  \"2\"  \"2\"  \"2\" \n",
            "3327 4974 4795 6596 5207 3979 5081 7486 3135 7111 6854 6768 5923  671 1682 1119 \n",
            " \"2\"  \"2\"  \"2\"  \"2\"  \"2\"  \"2\"  \"2\"  \"2\"  \"2\"  \"1\"  \"2\"  \"2\"  \"2\"  \"2\"  \"1\"  \"2\" \n",
            "7403 5336 5775 3821  935 2552 3547 3364 4133 6904 6724 6757 1472 6442  522 4686 \n",
            " \"2\"  \"2\"  \"2\"  \"2\"  \"2\"  \"2\"  \"2\"  \"2\"  \"2\"  \"2\"  \"2\"  \"2\"  \"2\"  \"2\"  \"2\"  \"2\" \n",
            "2091 4333 4700 2013 5776 2996 4919 1128 5045 6667 5401  528 7987 7821 2362 3860 \n",
            " \"2\"  \"2\"  \"2\"  \"2\"  \"2\"  \"2\"  \"2\"  \"2\"  \"2\"  \"2\"  \"2\"  \"2\"  \"1\"  \"2\"  \"2\"  \"2\" \n",
            "5266 5606  677 5365 4731  603 5977 4489 5366 5280 5918 3016 4445 5492 3479 6218 \n",
            " \"2\"  \"1\"  \"2\"  \"2\"  \"2\"  \"2\"  \"2\"  \"2\"  \"2\"  \"2\"  \"2\"  \"2\"  \"2\"  \"2\"  \"2\"  \"2\" \n",
            "  15 4365 8039 6045 7250 4781 4482 1515 2890 5751  987 3994 2528  691 7206   12 \n",
            " \"1\"  \"2\"  \"1\"  \"2\"  \"2\"  \"2\"  \"2\"  \"2\"  \"2\"  \"2\"  \"2\"  \"2\"  \"2\"  \"2\"  \"1\"  \"2\" \n",
            "7049 2045 7027 3267 6939 3571  355 4468 4351  584 7662 5843 5869 1895 6997 1735 \n",
            " \"2\"  \"1\"  \"2\"  \"2\"  \"1\"  \"2\"  \"1\"  \"2\"  \"2\"  \"2\"  \"2\"  \"2\"  \"2\"  \"1\"  \"2\"  \"2\" \n",
            "3772  454 3196 5274 4244 6013 4262 1638  183 6266 5217 2696 5032 2503 6610 4085 \n",
            " \"2\"  \"2\"  \"2\"  \"2\"  \"2\"  \"2\"  \"2\"  \"2\"  \"2\"  \"2\"  \"2\"  \"2\"  \"2\"  \"1\"  \"2\"  \"2\" \n",
            "1143 6701 2461 1444 6772 4083 4728 7073 2473 3852 5326 6571 6929 3019 7140  711 \n",
            " \"1\"  \"2\"  \"1\"  \"2\"  \"2\"  \"2\"  \"2\"  \"2\"  \"2\"  \"2\"  \"2\"  \"2\"  \"1\"  \"2\"  \"2\"  \"1\" \n",
            "4435 2063  332 6839 3893 3891 6786  261 1475 2946 4985 5334 1346  675 2380  586 \n",
            " \"2\"  \"2\"  \"2\"  \"2\"  \"2\"  \"2\"  \"2\"  \"1\"  \"1\"  \"2\"  \"2\"  \"2\"  \"1\"  \"1\"  \"2\"  \"2\" \n",
            "4934 6572 1997 3442 2223 5010 7815 5252 2335 5432 6113 5735  707 1551 1616 2908 \n",
            " \"2\"  \"2\"  \"2\"  \"2\"  \"2\"  \"2\"  \"1\"  \"2\"  \"2\"  \"2\"  \"2\"  \"2\"  \"2\"  \"2\"  \"1\"  \"2\" \n",
            "6453   21 5454 7382 7796 1588 8116 4948 6902 6338 1034 1373 4780 3071  224 6197 \n",
            " \"2\"  \"2\"  \"2\"  \"2\"  \"1\"  \"2\"  \"2\"  \"2\"  \"2\"  \"2\"  \"1\"  \"2\"  \"2\"  \"2\"  \"2\"  \"2\" \n",
            "2460 6956 1716 4754 6070 1718 3322 3916 8121 1879 8038 1254  259 7470 5834 3746 \n",
            " \"2\"  \"2\"  \"2\"  \"2\"  \"2\"  \"2\"  \"1\"  \"2\"  \"2\"  \"1\"  \"2\"  \"2\"  \"2\"  \"2\"  \"1\"  \"2\" \n",
            "3289 5890 3076 3680 7711  141 2333 2607 4837 8100  697 2904 7601 6289 4805 7297 \n",
            " \"2\"  \"2\"  \"2\"  \"2\"  \"2\"  \"2\"  \"2\"  \"1\"  \"2\"  \"2\"  \"2\"  \"2\"  \"2\"  \"2\"  \"2\"  \"2\" \n",
            "5949 5024 6022 5446 5973 3018 6471  169 7765 5221   39 8051 1295 2485 5062 4936 \n",
            " \"2\"  \"2\"  \"2\"  \"2\"  \"2\"  \"2\"  \"2\"  \"1\"  \"2\"  \"2\"  \"2\"  \"2\"  \"2\"  \"2\"  \"2\"  \"2\" \n",
            "5532 6995 6214 7405 2974  260 1443  427 6709 5734  858 4057 1365 2007 6154 3546 \n",
            " \"2\"  \"2\"  \"2\"  \"2\"  \"1\"  \"2\"  \"1\"  \"2\"  \"2\"  \"2\"  \"2\"  \"2\"  \"1\"  \"2\"  \"2\"  \"2\" \n",
            " 471 7663 2842 2275 4988 2716 4655 2229  904 5088 7194 6397 5903 1117 4284 5670 \n",
            " \"2\"  \"1\"  \"2\"  \"2\"  \"2\"  \"2\"  \"2\"  \"2\"  \"2\"  \"2\"  \"2\"  \"2\"  \"2\"  \"2\"  \"2\"  \"2\" \n",
            "7148 3291 1582 7810 3023 7119 2097 6183 5934 7694 1635  490  851 1120 7592 6998 \n",
            " \"2\"  \"2\"  \"2\"  \"2\"  \"2\"  \"2\"  \"1\"  \"2\"  \"2\"  \"2\"  \"1\"  \"2\"  \"2\"  \"1\"  \"2\"  \"2\" \n",
            "3376 3326 2513 6111 3190 8070 6738 6932 3090 6108 3526 2764  189 2893 5928 7760 \n",
            " \"2\"  \"2\"  \"2\"  \"2\"  \"2\"  \"2\"  \"2\"  \"2\"  \"2\"  \"2\"  \"2\"  \"2\"  \"2\"  \"2\"  \"2\"  \"2\" \n",
            "3505 6793 2308 4327 7935  473 3170 7710 2547 1888 4694 2927  753 6894 7025 4369 \n",
            " \"2\"  \"2\"  \"2\"  \"2\"  \"2\"  \"2\"  \"2\"  \"2\"  \"2\"  \"2\"  \"2\"  \"2\"  \"2\"  \"2\"  \"2\"  \"2\" \n",
            "2466 1160 7424 7045  497 2743 4751 2408 4393 7893 3219  702 2026 1173 3521 7016 \n",
            " \"2\"  \"2\"  \"2\"  \"2\"  \"2\"  \"2\"  \"2\"  \"1\"  \"2\"  \"2\"  \"2\"  \"1\"  \"2\"  \"2\"  \"2\"  \"2\" \n",
            "7803 1674 7645 5025 4186 4568 2725 3236 7212 3120 7577  329 7891 4838 1124 2856 \n",
            " \"2\"  \"1\"  \"1\"  \"2\"  \"2\"  \"2\"  \"2\"  \"2\"  \"2\"  \"2\"  \"1\"  \"2\"  \"2\"  \"2\"  \"2\"  \"2\" \n",
            "4505 2146 5672 6492 7727 5001 7900 6543 3638 7707 2573 6459 3274 5643 7554 5362 \n",
            " \"2\"  \"2\"  \"2\"  \"2\"  \"2\"  \"2\"  \"2\"  \"2\"  \"1\"  \"2\"  \"2\"  \"2\"  \"2\"  \"2\"  \"2\"  \"2\" \n",
            "2729 4980 6744 2093 6381 7582 4667 8025 3467 2130 7602 4666 6900 1474 4458 1130 \n",
            " \"2\"  \"2\"  \"2\"  \"2\"  \"2\"  \"1\"  \"2\"  \"2\"  \"1\"  \"2\"  \"2\"  \"2\"  \"2\"  \"1\"  \"2\"  \"1\" \n",
            "5270 6357 3930 3941 2773 6489 7791  698 5101 6419  686  429 5136 2402 2694 7691 \n",
            " \"2\"  \"2\"  \"2\"  \"2\"  \"2\"  \"2\"  \"1\"  \"2\"  \"2\"  \"2\"  \"2\"  \"2\"  \"2\"  \"2\"  \"2\"  \"2\" \n",
            "5880 3425 6624 2391 7526 4827 2329 5041 7266 2561 8052 7442 3664  799  737 4247 \n",
            " \"2\"  \"1\"  \"2\"  \"1\"  \"2\"  \"2\"  \"1\"  \"2\"  \"2\"  \"2\"  \"1\"  \"2\"  \"2\"  \"2\"  \"2\"  \"2\" \n",
            "2183 1049 3129 7676 1847 2221 3056 7464 4543 3555  323 3181  631 5516 4777 2366 \n",
            " \"2\"  \"2\"  \"1\"  \"2\"  \"2\"  \"1\"  \"2\"  \"1\"  \"2\"  \"2\"  \"2\"  \"1\"  \"1\"  \"2\"  \"2\"  \"2\" \n",
            "1167 2231 4298  884 6164 3993 4108 2176  556 7654 3737 3413 4920 4134 6601 2907 \n",
            " \"2\"  \"2\"  \"2\"  \"2\"  \"2\"  \"2\"  \"2\"  \"2\"  \"2\"  \"2\"  \"2\"  \"1\"  \"2\"  \"2\"  \"2\"  \"2\" \n",
            "2296  129 8101 2545 7688 6549 7780 3029 8082 5383 6086 3536 6581 5281  716 3512 \n",
            " \"1\"  \"2\"  \"2\"  \"2\"  \"2\"  \"2\"  \"1\"  \"2\"  \"2\"  \"2\"  \"2\"  \"2\"  \"2\"  \"2\"  \"2\"  \"2\" \n",
            "6758 7518 2775 4211 1912 2387 5043 5486  726 5604 5267  337  738 1766 2937 6813 \n",
            " \"2\"  \"2\"  \"2\"  \"2\"  \"2\"  \"2\"  \"2\"  \"2\"  \"2\"  \"2\"  \"2\"  \"2\"  \"2\"  \"2\"  \"2\"  \"2\" \n",
            "3920 7309 5126  412 3282 7980 1747 5262 2332 5780 7349 3748 3445 4053 7576 5545 \n",
            " \"2\"  \"2\"  \"2\"  \"2\"  \"2\"  \"2\"  \"1\"  \"2\"  \"2\"  \"2\"  \"2\"  \"2\"  \"2\"  \"2\"  \"2\"  \"2\" \n",
            "2759 7536 5689 1925 1030 3799 2572  968 3943 4574 4864 1372  572 6990  366  720 \n",
            " \"2\"  \"2\"  \"2\"  \"2\"  \"1\"  \"1\"  \"2\"  \"2\"  \"2\"  \"2\"  \"2\"  \"1\"  \"2\"  \"2\"  \"2\"  \"2\" \n",
            "2423 2599 6040 2730 6992 5796 7485 5912 3432 4677 2002 4102 1141 2645 6355 2446 \n",
            " \"2\"  \"2\"  \"2\"  \"2\"  \"2\"  \"2\"  \"2\"  \"2\"  \"2\"  \"2\"  \"2\"  \"2\"  \"1\"  \"2\"  \"2\"  \"2\" \n",
            "6676 4676 2462 3892 2506 4292 1174 4603 5718 7359 1342 7977 7425  114 7860 7580 \n",
            " \"2\"  \"2\"  \"2\"  \"2\"  \"2\"  \"2\"  \"2\"  \"2\"  \"2\"  \"1\"  \"2\"  \"2\"  \"2\"  \"2\"  \"2\"  \"2\" \n",
            "3335 2051 3099   45 8065 4326 3520 6213 5070 5129  498  418 6584 6500 6027 2151 \n",
            " \"2\"  \"2\"  \"2\"  \"2\"  \"2\"  \"2\"  \"2\"  \"2\"  \"2\"  \"2\"  \"1\"  \"2\"  \"2\"  \"2\"  \"2\"  \"2\" \n",
            "7677 1459 2070 5183 4587 3947 1844 1182  761 3986 7701 5085 1020 1537 2642 1825 \n",
            " \"2\"  \"2\"  \"2\"  \"2\"  \"2\"  \"2\"  \"2\"  \"1\"  \"2\"  \"2\"  \"2\"  \"2\"  \"2\"  \"2\"  \"2\"  \"2\" \n",
            "1157 3106 3911 6083 1224 1789 5822 3651 1524 6609 7816 1941 3185 5905 3675 1337 \n",
            " \"1\"  \"2\"  \"2\"  \"2\"  \"2\"  \"2\"  \"2\"  \"2\"  \"2\"  \"2\"  \"2\"  \"2\"  \"2\"  \"2\"  \"1\"  \"1\" \n",
            "5525 7753 4045  541 1154 6693 5600 7918 1618  827 1081  654 6017 1757 3755 4444 \n",
            " \"2\"  \"1\"  \"2\"  \"2\"  \"2\"  \"2\"  \"2\"  \"2\"  \"1\"  \"2\"  \"1\"  \"2\"  \"2\"  \"1\"  \"2\"  \"2\" \n",
            "7843 7565 6478  593 1045 2693 2222 7897 7287 1264 8089 5452 1469 4331 7888 1776 \n",
            " \"2\"  \"2\"  \"2\"  \"2\"  \"2\"  \"1\"  \"2\"  \"2\"  \"2\"  \"2\"  \"2\"  \"2\"  \"1\"  \"2\"  \"1\"  \"1\" \n",
            " 255 2987  198  640 7889 1711 2584 1567 7853 2855 5815 1147 3745 1406 5416 6845 \n",
            " \"2\"  \"2\"  \"2\"  \"2\"  \"2\"  \"2\"  \"2\"  \"2\"  \"2\"  \"2\"  \"2\"  \"2\"  \"2\"  \"2\"  \"2\"  \"2\" \n",
            " 590 7036 6882 5882 3895 5504 6193 4533 2020 5919 2963 7182 4828 2142  142 6216 \n",
            " \"2\"  \"2\"  \"2\"  \"2\"  \"2\"  \"2\"  \"2\"  \"2\"  \"1\"  \"2\"  \"2\"  \"2\"  \"2\"  \"2\"  \"2\"  \"2\" \n",
            "3665  386 7372  552 7079 1069 5962 4387  407 8108 5152 6071 4285 2993 4297 5767 \n",
            " \"2\"  \"2\"  \"2\"  \"2\"  \"2\"  \"2\"  \"2\"  \"2\"  \"2\"  \"2\"  \"2\"  \"2\"  \"2\"  \"2\"  \"2\"  \"2\" \n",
            "1799 6741 4942 1133  394 6411 2037 5369 5400 1994  745 2819 6378 7388 1115 4197 \n",
            " \"2\"  \"2\"  \"2\"  \"2\"  \"2\"  \"2\"  \"2\"  \"2\"  \"2\"  \"2\"  \"1\"  \"1\"  \"2\"  \"2\"  \"1\"  \"2\" \n",
            "1222  772 5381 7444 4088  790 4950 1087 5811 3576 2149 7979 1884 2027  942 4735 \n",
            " \"2\"  \"2\"  \"2\"  \"1\"  \"1\"  \"2\"  \"2\"  \"2\"  \"2\"  \"2\"  \"1\"  \"2\"  \"2\"  \"2\"  \"2\"  \"1\" \n",
            "6507 5014 7255 4966 1058 4803  728 4214 1100 2953 3835 2283 3265 4971 3525 3528 \n",
            " \"2\"  \"2\"  \"2\"  \"2\"  \"2\"  \"2\"  \"2\"  \"2\"  \"2\"  \"2\"  \"2\"  \"2\"  \"2\"  \"2\"  \"1\"  \"2\" \n",
            "2582 4811 1602 6343 5917 1393 6560 1664   28 3294 3702 7973 5830 1990 4618 2103 \n",
            " \"2\"  \"2\"  \"2\"  \"2\"  \"2\"  \"2\"  \"2\"  \"2\"  \"2\"  \"2\"  \"2\"  \"1\"  \"2\"  \"2\"  \"2\"  \"1\" \n",
            "4119 6840 1926 3298 1200 7332 3945 7789  929 3639 5330 7585 7084 6408 6146 1897 \n",
            " \"2\"  \"2\"  \"2\"  \"2\"  \"2\"  \"2\"  \"2\"  \"2\"  \"2\"  \"2\"  \"2\"  \"2\"  \"2\"  \"2\"  \"2\"  \"1\" \n",
            "3601 2587 5176 7949 1744 6538 1324 1929 3923 5344 4779  124 5224 6669 2132 6012 \n",
            " \"2\"  \"2\"  \"2\"  \"2\"  \"2\"  \"2\"  \"2\"  \"2\"  \"2\"  \"2\"  \"2\"  \"1\"  \"2\"  \"2\"  \"1\"  \"2\" \n",
            "1685 2534 1788 5772 5612 6765 3626 4614 4596 5142  889 3898 6393 7919  450 6261 \n",
            " \"2\"  \"2\"  \"2\"  \"2\"  \"2\"  \"2\"  \"2\"  \"2\"  \"2\"  \"2\"  \"2\"  \"2\"  \"2\"  \"1\"  \"2\"  \"2\" \n",
            "1013 2858 6824 2546 2023 2826 3290 6541 1591 6065 4414 6093 6616 7812 3046 2083 \n",
            " \"1\"  \"2\"  \"2\"  \"2\"  \"1\"  \"2\"  \"2\"  \"2\"  \"1\"  \"2\"  \"2\"  \"2\"  \"2\"  \"2\"  \"2\"  \"2\" \n",
            "7434 5635 1560 1111 1187 5166 7214  531 7956  308 5586 1910 7076 8106 3384  457 \n",
            " \"2\"  \"2\"  \"2\"  \"2\"  \"1\"  \"2\"  \"2\"  \"2\"  \"2\"  \"2\"  \"2\"  \"2\"  \"2\"  \"2\"  \"2\"  \"2\" \n",
            "7613 2483 2938 5931 6969  900 7416  752 1513 7797 3243 5651 2831 2019  164 2680 \n",
            " \"2\"  \"2\"  \"2\"  \"2\"  \"2\"  \"2\"  \"1\"  \"2\"  \"1\"  \"2\"  \"2\"  \"2\"  \"2\"  \"2\"  \"2\"  \"2\" \n",
            "7575  463 7784 4290  634  560 4994 6232 2989 1607 4551 4430 8073 7337 7667 5307 \n",
            " \"2\"  \"2\"  \"1\"  \"2\"  \"1\"  \"2\"  \"2\"  \"2\"  \"1\"  \"1\"  \"2\"  \"2\"  \"2\"  \"2\"  \"2\"  \"2\" \n",
            " 587 1387 2355 3924 6948 1578 3765 1510 3342 6973 5652 2303 1668 3275 3853 3465 \n",
            " \"2\"  \"1\"  \"2\"  \"2\"  \"2\"  \"2\"  \"2\"  \"2\"  \"2\"  \"2\"  \"2\"  \"1\"  \"2\"  \"2\"  \"2\"  \"2\" \n",
            "4793 6625 1137 5562 5226 2961 1495 5478 7247 2364  320 7141 8124 1456 3957 3269 \n",
            " \"2\"  \"2\"  \"2\"  \"2\"  \"2\"  \"2\"  \"1\"  \"2\"  \"2\"  \"2\"  \"2\"  \"2\"  \"2\"  \"2\"  \"2\"  \"2\" \n",
            " 789 1622 6223 1367 5279 5238 6775 6011 6173 2075 4756 6613 6151 5047 1500 5530 \n",
            " \"2\"  \"2\"  \"2\"  \"1\"  \"1\"  \"2\"  \"1\"  \"2\"  \"2\"  \"2\"  \"2\"  \"2\"  \"2\"  \"2\"  \"1\"  \"2\" \n",
            "4193 4695 1541 5831 6963 5038 5868  613 3915 1807 2713 2964 4499 2526 2442  666 \n",
            " \"2\"  \"2\"  \"2\"  \"2\"  \"2\"  \"2\"  \"2\"  \"1\"  \"1\"  \"2\"  \"2\"  \"2\"  \"2\"  \"2\"  \"2\"  \"2\" \n",
            "5103 5655  326 1562 4996 1012 5157 7715 4097 4126 2619 4577 6361 1892 4115 2834 \n",
            " \"2\"  \"2\"  \"2\"  \"2\"  \"2\"  \"1\"  \"2\"  \"2\"  \"2\"  \"2\"  \"1\"  \"2\"  \"2\"  \"2\"  \"2\"  \"2\" \n",
            "7352 6430 2807  381 6597 7914 6754 7895 2194 3580 5660  922 1993 6817    3 1852 \n",
            " \"2\"  \"2\"  \"2\"  \"2\"  \"2\"  \"2\"  \"2\"  \"2\"  \"2\"  \"2\"  \"2\"  \"2\"  \"1\"  \"2\"  \"2\"  \"2\" \n",
            "3731 6039 7307 3592 7310 7698 7912 3356 6911  630 7196 5269 6300  513 2426 7630 \n",
            " \"1\"  \"2\"  \"2\"  \"2\"  \"2\"  \"2\"  \"2\"  \"2\"  \"2\"  \"2\"  \"1\"  \"2\"  \"2\"  \"2\"  \"2\"  \"2\" \n",
            "3150 5783 3032 2701 6714 2829 5222 5143 2880 1477 7020 1327 4982   10 4337 2883 \n",
            " \"2\"  \"2\"  \"1\"  \"2\"  \"2\"  \"2\"  \"2\"  \"2\"  \"2\"  \"2\"  \"2\"  \"2\"  \"2\"  \"2\"  \"2\"  \"2\" \n",
            "6776 2199 2206 1080  648 1804 3721 1552  667 2897 1003 6256 4093 1036 7380  595 \n",
            " \"2\"  \"2\"  \"1\"  \"2\"  \"2\"  \"2\"  \"2\"  \"2\"  \"1\"  \"2\"  \"1\"  \"2\"  \"2\"  \"2\"  \"2\"  \"2\" \n",
            "6557 5603 6717 1099 5122 7313 5809 7478 5881 6075 1649 7996 5251 6176 2910  646 \n",
            " \"2\"  \"2\"  \"2\"  \"2\"  \"2\"  \"2\"  \"2\"  \"2\"  \"2\"  \"2\"  \"2\"  \"2\"  \"2\"  \"2\"  \"2\"  \"2\" \n",
            "6699 3810 4935 3738 2247 7237 5106 6458 4967 1047 5996 1140 3483 7855 3248 4025 \n",
            " \"2\"  \"2\"  \"2\"  \"2\"  \"2\"  \"2\"  \"2\"  \"2\"  \"2\"  \"2\"  \"2\"  \"2\"  \"2\"  \"2\"  \"2\"  \"2\" \n",
            "1559  943 4064 3118  505 5523 3960 2067  559 1214 4586 2699 7499 6195 6729 3145 \n",
            " \"1\"  \"2\"  \"2\"  \"2\"  \"2\"  \"2\"  \"2\"  \"2\"  \"2\"  \"2\"  \"2\"  \"1\"  \"2\"  \"1\"  \"2\"  \"2\" \n",
            "2900 6567 5719  324 1848 3307 3789 6120 6112 3277 7757 1640 7633 2479 1988 3614 \n",
            " \"2\"  \"2\"  \"2\"  \"2\"  \"2\"  \"2\"  \"2\"  \"2\"  \"2\"  \"2\"  \"2\"  \"2\"  \"2\"  \"2\"  \"2\"  \"2\" \n",
            "1916 3980 1139 5907 5265 1819 5328 4698 3259 4900 1183  257 2891 8066 1195 2381 \n",
            " \"1\"  \"1\"  \"1\"  \"2\"  \"2\"  \"2\"  \"2\"  \"2\"  \"2\"  \"2\"  \"2\"  \"2\"  \"1\"  \"2\"  \"2\"  \"2\" \n",
            "2753  995 3216  446  897  348 7306 4901 4562 4835  701 4997 2611 4251 5526 5048 \n",
            " \"2\"  \"2\"  \"1\"  \"1\"  \"2\"  \"2\"  \"1\"  \"2\"  \"2\"  \"2\"  \"2\"  \"2\"  \"2\"  \"2\"  \"2\"  \"2\" \n",
            "3368 3357  930 6094 5316  759 3215 4509  428 5625  289 3060 4975 3561 7787 4480 \n",
            " \"2\"  \"1\"  \"2\"  \"2\"  \"2\"  \"2\"  \"2\"  \"2\"  \"2\"  \"2\"  \"2\"  \"2\"  \"2\"  \"2\"  \"2\"  \"2\" \n",
            "5100   54 5964 4013  251 5327 5290 6515 5567 2838 5277 3564  680 7983 4643 3024 \n",
            " \"2\"  \"2\"  \"2\"  \"2\"  \"1\"  \"2\"  \"2\"  \"2\"  \"2\"  \"2\"  \"2\"  \"2\"  \"2\"  \"2\"  \"2\"  \"2\" \n",
            "2541  855 2781 4790 2139  749 1575 8037 4112 5978 3529  783  713  350 1008 5814 \n",
            " \"2\"  \"2\"  \"2\"  \"2\"  \"2\"  \"2\"  \"2\"  \"2\"  \"2\"  \"2\"  \"2\"  \"2\"  \"2\"  \"2\"  \"2\"  \"2\" \n",
            " 544 3699  140 7253 5455  674 4954 2353 6602 1492 7717  408 5910 4979 2514 6487 \n",
            " \"1\"  \"2\"  \"1\"  \"2\"  \"2\"  \"2\"  \"2\"  \"2\"  \"2\"  \"2\"  \"2\"  \"2\"  \"2\"  \"2\"  \"2\"  \"2\" \n",
            "6871 5589 4382  831 7476 6637 2521 3574 4847 7840 6577 2134 5159 2588  983 1318 \n",
            " \"2\"  \"2\"  \"2\"  \"2\"  \"2\"  \"2\"  \"2\"  \"2\"  \"2\"  \"2\"  \"2\"  \"2\"  \"2\"  \"2\"  \"1\"  \"2\" \n",
            "6185 2012 5938 5787 7056 6985 3692 6044 7230 5959  835 3956 4705 6142 5243 7906 \n",
            " \"2\"  \"2\"  \"2\"  \"2\"  \"2\"  \"1\"  \"1\"  \"2\"  \"2\"  \"2\"  \"2\"  \"2\"  \"2\"  \"2\"  \"2\"  \"2\" \n",
            "4739 3285 7778 5536  632 5449 2801  204  998 5223 7131 1037 6371 3320 7321 6592 \n",
            " \"2\"  \"2\"  \"2\"  \"2\"  \"2\"  \"2\"  \"2\"  \"2\"  \"2\"  \"2\"  \"2\"  \"2\"  \"2\"  \"2\"  \"2\"  \"2\" \n",
            "7598 6651 4150 7114 3453 1285 3796 6808 5428 7270 2453 6271 7994 1652 4020 6480 \n",
            " \"1\"  \"2\"  \"2\"  \"2\"  \"2\"  \"2\"  \"2\"  \"2\"  \"2\"  \"2\"  \"1\"  \"2\"  \"2\"  \"1\"  \"2\"  \"2\" \n",
            "3565 2259 5613 7971 1054 1414 7278 1940 6368 3914 7802 6328 7632 1484 4650 5661 \n",
            " \"2\"  \"2\"  \"2\"  \"2\"  \"1\"  \"1\"  \"2\"  \"2\"  \"2\"  \"2\"  \"2\"  \"2\"  \"2\"  \"1\"  \"2\"  \"2\" \n",
            "7811 2884 2161  813 1071 3718 7593 4425 4454 1315 1979 5435 5740 8109 3902 2411 \n",
            " \"1\"  \"2\"  \"2\"  \"2\"  \"1\"  \"2\"  \"2\"  \"2\"  \"2\"  \"2\"  \"2\"  \"2\"  \"2\"  \"2\"  \"2\"  \"2\" \n",
            " 175 4749 5844 1763 1519 4209 1235  608 1127 3036 1104 2916 5582  347 1334 6350 \n",
            " \"1\"  \"2\"  \"2\"  \"1\"  \"2\"  \"2\"  \"1\"  \"2\"  \"1\"  \"2\"  \"2\"  \"2\"  \"2\"  \"2\"  \"1\"  \"2\" \n",
            " 589 4067 3189 5611 7923 1900 4318 4352 7366 6483  616 7775 8057 1889 4135 7109 \n",
            " \"2\"  \"2\"  \"2\"  \"1\"  \"2\"  \"2\"  \"2\"  \"2\"  \"2\"  \"2\"  \"2\"  \"2\"  \"2\"  \"2\"  \"2\"  \"2\" \n",
            "1621 6345 3103 7174 3729 3743 2669 2421 3781 6363 8046 6585 3492 4921  174 5727 \n",
            " \"2\"  \"2\"  \"2\"  \"1\"  \"2\"  \"2\"  \"2\"  \"2\"  \"2\"  \"2\"  \"2\"  \"2\"  \"2\"  \"2\"  \"2\"  \"1\" \n",
            "2644  689 7142 7861 7364 3817 8008   18 3308 1378 7969 7776 5575 3577 2119  782 \n",
            " \"2\"  \"2\"  \"2\"  \"2\"  \"2\"  \"2\"  \"2\"  \"2\"  \"2\"  \"1\"  \"2\"  \"2\"  \"2\"  \"2\"  \"2\"  \"2\" \n",
            "7233 4721 2230  652 3252  290 3451 3672 7570 1572 4931 6810 5007 3001 4012 7587 \n",
            " \"2\"  \"2\"  \"2\"  \"2\"  \"2\"  \"2\"  \"2\"  \"1\"  \"2\"  \"1\"  \"2\"  \"2\"  \"2\"  \"2\"  \"2\"  \"2\" \n",
            "3962 7223 7115 7740 3230 6821 \n",
            " \"1\"  \"2\"  \"2\"  \"2\"  \"2\"  \"2\" \n"
          ]
        }
      ]
    },
    {
      "cell_type": "code",
      "metadata": {
        "id": "95V_n3gUD-Q0"
      },
      "source": [
        "glm_cfm1_tr=confusionMatrix(table(trdf[, which(names(trdf)==\"class\")], glm_pred1_tr)) # Confusion Matrix for train data"
      ],
      "id": "95V_n3gUD-Q0",
      "execution_count": 19,
      "outputs": []
    },
    {
      "cell_type": "code",
      "metadata": {
        "colab": {
          "base_uri": "https://localhost:8080/",
          "height": 493
        },
        "id": "_z3pcSKRF52u",
        "outputId": "abcf209f-fecd-4d54-c6a7-340d2897941b"
      },
      "source": [
        "print(\"Learning Phase Confusion Matrix\")\n",
        "glm_cfm1_tr"
      ],
      "id": "_z3pcSKRF52u",
      "execution_count": 20,
      "outputs": [
        {
          "output_type": "stream",
          "name": "stdout",
          "text": [
            "[1] \"Learning Phase Confusion Matrix\"\n"
          ]
        },
        {
          "output_type": "display_data",
          "data": {
            "text/plain": [
              "Confusion Matrix and Statistics\n",
              "\n",
              "   glm_pred1_tr\n",
              "       1    2\n",
              "  1  628 2313\n",
              "  2   22 2723\n",
              "                                          \n",
              "               Accuracy : 0.5893          \n",
              "                 95% CI : (0.5764, 0.6022)\n",
              "    No Information Rate : 0.8857          \n",
              "    P-Value [Acc > NIR] : 1               \n",
              "                                          \n",
              "                  Kappa : 0.2             \n",
              "                                          \n",
              " Mcnemar's Test P-Value : <2e-16          \n",
              "                                          \n",
              "            Sensitivity : 0.9662          \n",
              "            Specificity : 0.5407          \n",
              "         Pos Pred Value : 0.2135          \n",
              "         Neg Pred Value : 0.9920          \n",
              "             Prevalence : 0.1143          \n",
              "         Detection Rate : 0.1104          \n",
              "   Detection Prevalence : 0.5172          \n",
              "      Balanced Accuracy : 0.7534          \n",
              "                                          \n",
              "       'Positive' Class : 1               \n",
              "                                          "
            ]
          },
          "metadata": {}
        }
      ]
    },
    {
      "cell_type": "code",
      "metadata": {
        "id": "HkOfuyPnGAX0"
      },
      "source": [
        "glm_acc1_tr=round(glm_cfm1_tr$overall[[\"Accuracy\"]],4) # Accuracy of predictions with train data"
      ],
      "id": "HkOfuyPnGAX0",
      "execution_count": 21,
      "outputs": []
    },
    {
      "cell_type": "code",
      "metadata": {
        "colab": {
          "base_uri": "https://localhost:8080/"
        },
        "id": "2P_eZcXAGBql",
        "outputId": "29a89b01-57c0-4ced-f787-473d0aef39de"
      },
      "source": [
        "print(paste(\"Classification accuracy of learning phase =\",glm_acc1_tr))"
      ],
      "id": "2P_eZcXAGBql",
      "execution_count": 22,
      "outputs": [
        {
          "output_type": "stream",
          "name": "stdout",
          "text": [
            "[1] \"Classification accuracy of learning phase = 0.5893\"\n"
          ]
        }
      ]
    },
    {
      "cell_type": "code",
      "metadata": {
        "id": "o6O8LczXGEoc"
      },
      "source": [
        "# Predict using the test data (Generalization Phase)\n",
        "glm_pred1_tst_=predict(glm_model1,tstdf[, -which(names(tstdf)==\"class\")], type=\"response\")\n",
        "# glm_pred1_tr_ will the predicted values from 0 to 1(can be any value, decimal also) as it is a binomial distribution. \n",
        "# To make the glm_pred1_tr_ in 1 and 0, using the below if loop.\n",
        "glm_pred1_tst = ifelse(glm_pred1_tst_ > 1, \"2\", \"1\")"
      ],
      "id": "o6O8LczXGEoc",
      "execution_count": 23,
      "outputs": []
    },
    {
      "cell_type": "code",
      "metadata": {
        "id": "ecqybGv-GOkz"
      },
      "source": [
        "glm_cfm1_tst=confusionMatrix(table(tstdf[, which(names(tstdf)==\"class\")], glm_pred1_tst)) # Confusion Matrix for test data"
      ],
      "id": "ecqybGv-GOkz",
      "execution_count": 24,
      "outputs": []
    },
    {
      "cell_type": "code",
      "metadata": {
        "colab": {
          "base_uri": "https://localhost:8080/",
          "height": 493
        },
        "id": "mhJmld26GRwX",
        "outputId": "7f4bd466-8d2d-448f-b658-792c6d57d6b7"
      },
      "source": [
        "print(\"Generalization Phase Confusion Matrix\")\n",
        "glm_cfm1_tst"
      ],
      "id": "mhJmld26GRwX",
      "execution_count": 25,
      "outputs": [
        {
          "output_type": "stream",
          "name": "stdout",
          "text": [
            "[1] \"Generalization Phase Confusion Matrix\"\n"
          ]
        },
        {
          "output_type": "display_data",
          "data": {
            "text/plain": [
              "Confusion Matrix and Statistics\n",
              "\n",
              "   glm_pred1_tst\n",
              "       1    2\n",
              "  1  253 1014\n",
              "  2   10 1161\n",
              "                                          \n",
              "               Accuracy : 0.58            \n",
              "                 95% CI : (0.5601, 0.5997)\n",
              "    No Information Rate : 0.8921          \n",
              "    P-Value [Acc > NIR] : 1               \n",
              "                                          \n",
              "                  Kappa : 0.1851          \n",
              "                                          \n",
              " Mcnemar's Test P-Value : <2e-16          \n",
              "                                          \n",
              "            Sensitivity : 0.9620          \n",
              "            Specificity : 0.5338          \n",
              "         Pos Pred Value : 0.1997          \n",
              "         Neg Pred Value : 0.9915          \n",
              "             Prevalence : 0.1079          \n",
              "         Detection Rate : 0.1038          \n",
              "   Detection Prevalence : 0.5197          \n",
              "      Balanced Accuracy : 0.7479          \n",
              "                                          \n",
              "       'Positive' Class : 1               \n",
              "                                          "
            ]
          },
          "metadata": {}
        }
      ]
    },
    {
      "cell_type": "code",
      "metadata": {
        "id": "tGKgaq44GZFF"
      },
      "source": [
        "glm_acc1_tst=round(glm_cfm1_tst$overall[[\"Accuracy\"]],4) # Accuracy of predictions with test data"
      ],
      "id": "tGKgaq44GZFF",
      "execution_count": 26,
      "outputs": []
    },
    {
      "cell_type": "code",
      "metadata": {
        "colab": {
          "base_uri": "https://localhost:8080/"
        },
        "id": "h5fZ4YTsGbT1",
        "outputId": "de7d2f5d-dd40-4b5b-a0fc-f04c58d12fe8"
      },
      "source": [
        "print(paste(\"Classification accuracy of generalization phase =\",glm_acc1_tst))"
      ],
      "id": "h5fZ4YTsGbT1",
      "execution_count": 27,
      "outputs": [
        {
          "output_type": "stream",
          "name": "stdout",
          "text": [
            "[1] \"Classification accuracy of generalization phase = 0.58\"\n"
          ]
        }
      ]
    },
    {
      "cell_type": "code",
      "metadata": {
        "id": "xO9UaRuGGdrV"
      },
      "source": [
        "# Check for over-fitting. Criteria: Accuracy change from train to test > 25%\n",
        "glm_model1_isOF=abs((glm_acc1_tr-glm_acc1_tst)/glm_acc1_tr)"
      ],
      "id": "xO9UaRuGGdrV",
      "execution_count": 28,
      "outputs": []
    },
    {
      "cell_type": "code",
      "metadata": {
        "id": "7R2n03kgGh6y"
      },
      "source": [
        "glm_model1_isOF=round(glm_model1_isOF,4)"
      ],
      "id": "7R2n03kgGh6y",
      "execution_count": 29,
      "outputs": []
    },
    {
      "cell_type": "code",
      "metadata": {
        "colab": {
          "base_uri": "https://localhost:8080/"
        },
        "id": "4557ccAtGkTU",
        "outputId": "3061e5fb-9218-4b75-ea11-f5d62cf5e4bd"
      },
      "source": [
        "print(paste(\"Accuracy drop from training data to test data is\",glm_model1_isOF*100,\"%\"))"
      ],
      "id": "4557ccAtGkTU",
      "execution_count": 30,
      "outputs": [
        {
          "output_type": "stream",
          "name": "stdout",
          "text": [
            "[1] \"Accuracy drop from training data to test data is 1.58 %\"\n"
          ]
        }
      ]
    },
    {
      "cell_type": "code",
      "metadata": {
        "colab": {
          "base_uri": "https://localhost:8080/"
        },
        "id": "D4qzV0kdGm5e",
        "outputId": "35484c2b-259e-4c9d-e513-c175973062a6"
      },
      "source": [
        "if(glm_model1_isOF>0.25) print(\"Model is over-fitting\") else print(\"Model is not over-fitting\")"
      ],
      "id": "D4qzV0kdGm5e",
      "execution_count": 31,
      "outputs": [
        {
          "output_type": "stream",
          "name": "stdout",
          "text": [
            "[1] \"Model is not over-fitting\"\n"
          ]
        }
      ]
    },
    {
      "cell_type": "code",
      "metadata": {
        "id": "uIcKR3P-Gqx4"
      },
      "source": [
        "glm_PM1_tr=glm_cfm1_tr$byClass[c(\"Balanced Accuracy\", \"Precision\", \"Sensitivity\", \"Specificity\", \"Recall\")]"
      ],
      "id": "uIcKR3P-Gqx4",
      "execution_count": 32,
      "outputs": []
    },
    {
      "cell_type": "code",
      "metadata": {
        "colab": {
          "base_uri": "https://localhost:8080/",
          "height": 68
        },
        "id": "-4GhG4_XGuDp",
        "outputId": "f5fd845b-5dd4-43cf-9081-74f8bc196f47"
      },
      "source": [
        "print(\"Logistic-Regression Learning-Phase Performance Parameters:\")\n",
        "glm_PM1_tr"
      ],
      "id": "-4GhG4_XGuDp",
      "execution_count": 33,
      "outputs": [
        {
          "output_type": "stream",
          "name": "stdout",
          "text": [
            "[1] \"Logistic-Regression Learning-Phase Performance Parameters:\"\n"
          ]
        },
        {
          "output_type": "display_data",
          "data": {
            "text/html": [
              "<style>\n",
              ".dl-inline {width: auto; margin:0; padding: 0}\n",
              ".dl-inline>dt, .dl-inline>dd {float: none; width: auto; display: inline-block}\n",
              ".dl-inline>dt::after {content: \":\\0020\"; padding-right: .5ex}\n",
              ".dl-inline>dt:not(:first-of-type) {padding-left: .5ex}\n",
              "</style><dl class=dl-inline><dt>Balanced Accuracy</dt><dd>0.753430378200037</dd><dt>Precision</dt><dd>0.213532811968718</dd><dt>Sensitivity</dt><dd>0.966153846153846</dd><dt>Specificity</dt><dd>0.540706910246227</dd><dt>Recall</dt><dd>0.966153846153846</dd></dl>\n"
            ],
            "text/markdown": "Balanced Accuracy\n:   0.753430378200037Precision\n:   0.213532811968718Sensitivity\n:   0.966153846153846Specificity\n:   0.540706910246227Recall\n:   0.966153846153846\n\n",
            "text/latex": "\\begin{description*}\n\\item[Balanced Accuracy] 0.753430378200037\n\\item[Precision] 0.213532811968718\n\\item[Sensitivity] 0.966153846153846\n\\item[Specificity] 0.540706910246227\n\\item[Recall] 0.966153846153846\n\\end{description*}\n",
            "text/plain": [
              "Balanced Accuracy         Precision       Sensitivity       Specificity \n",
              "        0.7534304         0.2135328         0.9661538         0.5407069 \n",
              "           Recall \n",
              "        0.9661538 "
            ]
          },
          "metadata": {}
        }
      ]
    },
    {
      "cell_type": "code",
      "metadata": {
        "id": "KX38B7b3Gzh8"
      },
      "source": [
        "glm_prob1_tr=predict(glm_model1, trdf[,-which(names(trdf)==\"class\")], type=\"response\")"
      ],
      "id": "KX38B7b3Gzh8",
      "execution_count": 34,
      "outputs": []
    },
    {
      "cell_type": "code",
      "metadata": {
        "colab": {
          "base_uri": "https://localhost:8080/"
        },
        "id": "A0JEbbn7oIEQ",
        "outputId": "96bf12f0-f08c-46ed-e576-1e95828642aa"
      },
      "source": [
        "require(pROC)"
      ],
      "id": "A0JEbbn7oIEQ",
      "execution_count": 35,
      "outputs": [
        {
          "output_type": "stream",
          "name": "stderr",
          "text": [
            "Loading required package: pROC\n",
            "\n",
            "Type 'citation(\"pROC\")' for a citation.\n",
            "\n",
            "\n",
            "Attaching package: ‘pROC’\n",
            "\n",
            "\n",
            "The following objects are masked from ‘package:stats’:\n",
            "\n",
            "    cov, smooth, var\n",
            "\n",
            "\n"
          ]
        }
      ]
    },
    {
      "cell_type": "code",
      "metadata": {
        "colab": {
          "base_uri": "https://localhost:8080/"
        },
        "id": "uKTzFWwoG4KR",
        "outputId": "155ad8d0-7599-49ca-9013-18e53f0e6b6b"
      },
      "source": [
        "glm_AUC1_tr = roc(trdf[,which(names(trdf)==\"class\")],glm_prob1_tr)"
      ],
      "id": "uKTzFWwoG4KR",
      "execution_count": 36,
      "outputs": [
        {
          "output_type": "stream",
          "name": "stderr",
          "text": [
            "Setting levels: control = 1, case = 2\n",
            "\n",
            "Setting direction: controls < cases\n",
            "\n"
          ]
        }
      ]
    },
    {
      "cell_type": "code",
      "metadata": {
        "colab": {
          "base_uri": "https://localhost:8080/"
        },
        "id": "HNWNYNoZG8ev",
        "outputId": "5cbb43a5-6a26-4177-c2c7-b38cb3c4a8a3"
      },
      "source": [
        "print(paste(\"Logistic-Regression Learning-Phase AUC:\",round(glm_AUC1_tr$auc,4)))"
      ],
      "id": "HNWNYNoZG8ev",
      "execution_count": 37,
      "outputs": [
        {
          "output_type": "stream",
          "name": "stdout",
          "text": [
            "[1] \"Logistic-Regression Learning-Phase AUC: 0.9552\"\n"
          ]
        }
      ]
    },
    {
      "cell_type": "code",
      "metadata": {
        "colab": {
          "base_uri": "https://localhost:8080/",
          "height": 437
        },
        "id": "sr4tewbVHAUq",
        "outputId": "a998ad56-7aa2-4bcd-c0f7-f9500129a772"
      },
      "source": [
        "# ROC curves\n",
        "plot.roc(glm_AUC1_tr)"
      ],
      "id": "sr4tewbVHAUq",
      "execution_count": 38,
      "outputs": [
        {
          "output_type": "display_data",
          "data": {
            "text/plain": [
              "plot without title"
            ],
            "image/png": "[encoded data removed]"
          },
          "metadata": {
            "image/png": {
              "width": 420,
              "height": 420
            }
          }
        }
      ]
    },
    {
      "cell_type": "code",
      "metadata": {
        "id": "KoeScBvrHFaV"
      },
      "source": [
        "# Generalization Phase\n",
        "glm_PM1_tst=glm_cfm1_tst$byClass[c(\"Balanced Accuracy\", \"Precision\", \"Sensitivity\", \"Specificity\", \"Recall\")]"
      ],
      "id": "KoeScBvrHFaV",
      "execution_count": 39,
      "outputs": []
    },
    {
      "cell_type": "code",
      "metadata": {
        "colab": {
          "base_uri": "https://localhost:8080/",
          "height": 68
        },
        "id": "i71aQubDHIvh",
        "outputId": "02ec7553-7e0a-457d-c280-1089e9d833d8"
      },
      "source": [
        "print(\"Logistic-Regression Generalization-Phase Performance Parameters:\")\n",
        "glm_PM1_tst"
      ],
      "id": "i71aQubDHIvh",
      "execution_count": 40,
      "outputs": [
        {
          "output_type": "stream",
          "name": "stdout",
          "text": [
            "[1] \"Logistic-Regression Generalization-Phase Performance Parameters:\"\n"
          ]
        },
        {
          "output_type": "display_data",
          "data": {
            "text/html": [
              "<style>\n",
              ".dl-inline {width: auto; margin:0; padding: 0}\n",
              ".dl-inline>dt, .dl-inline>dd {float: none; width: auto; display: inline-block}\n",
              ".dl-inline>dt::after {content: \":\\0020\"; padding-right: .5ex}\n",
              ".dl-inline>dt:not(:first-of-type) {padding-left: .5ex}\n",
              "</style><dl class=dl-inline><dt>Balanced Accuracy</dt><dd>0.747885144880031</dd><dt>Precision</dt><dd>0.199684293606946</dd><dt>Sensitivity</dt><dd>0.961977186311787</dd><dt>Specificity</dt><dd>0.533793103448276</dd><dt>Recall</dt><dd>0.961977186311787</dd></dl>\n"
            ],
            "text/markdown": "Balanced Accuracy\n:   0.747885144880031Precision\n:   0.199684293606946Sensitivity\n:   0.961977186311787Specificity\n:   0.533793103448276Recall\n:   0.961977186311787\n\n",
            "text/latex": "\\begin{description*}\n\\item[Balanced Accuracy] 0.747885144880031\n\\item[Precision] 0.199684293606946\n\\item[Sensitivity] 0.961977186311787\n\\item[Specificity] 0.533793103448276\n\\item[Recall] 0.961977186311787\n\\end{description*}\n",
            "text/plain": [
              "Balanced Accuracy         Precision       Sensitivity       Specificity \n",
              "        0.7478851         0.1996843         0.9619772         0.5337931 \n",
              "           Recall \n",
              "        0.9619772 "
            ]
          },
          "metadata": {}
        }
      ]
    },
    {
      "cell_type": "code",
      "metadata": {
        "id": "8WmtVg-wHMWa"
      },
      "source": [
        "glm_prob1_tst=predict(glm_model1, tstdf[,-which(names(tstdf)==\"class\")], type=\"response\")"
      ],
      "id": "8WmtVg-wHMWa",
      "execution_count": 41,
      "outputs": []
    },
    {
      "cell_type": "code",
      "metadata": {
        "colab": {
          "base_uri": "https://localhost:8080/"
        },
        "id": "ky2nwRTPHQ5D",
        "outputId": "6b6956c6-c641-4dad-ee9b-d0382600e3e0"
      },
      "source": [
        "glm_AUC1_tst=roc(tstdf[, which(names(tstdf)==\"class\")], glm_prob1_tst)"
      ],
      "id": "ky2nwRTPHQ5D",
      "execution_count": 42,
      "outputs": [
        {
          "output_type": "stream",
          "name": "stderr",
          "text": [
            "Setting levels: control = 1, case = 2\n",
            "\n",
            "Setting direction: controls < cases\n",
            "\n"
          ]
        }
      ]
    },
    {
      "cell_type": "code",
      "metadata": {
        "colab": {
          "base_uri": "https://localhost:8080/"
        },
        "id": "et_Itc6EHVhu",
        "outputId": "fdf273fa-9aa8-4344-d346-c6d36546db43"
      },
      "source": [
        "print(paste(\"Logistic-Regression Generalization-Phase AUC:\", round(glm_AUC1_tst$auc,4)))"
      ],
      "id": "et_Itc6EHVhu",
      "execution_count": 43,
      "outputs": [
        {
          "output_type": "stream",
          "name": "stdout",
          "text": [
            "[1] \"Logistic-Regression Generalization-Phase AUC: 0.9555\"\n"
          ]
        }
      ]
    },
    {
      "cell_type": "code",
      "metadata": {
        "colab": {
          "base_uri": "https://localhost:8080/",
          "height": 437
        },
        "id": "ZTyGTW4wHlP4",
        "outputId": "b619cb82-f581-4ba6-d6b2-dd327d1c75d3"
      },
      "source": [
        "# ROC curves\n",
        "plot.roc(glm_AUC1_tst)"
      ],
      "id": "ZTyGTW4wHlP4",
      "execution_count": 44,
      "outputs": [
        {
          "output_type": "display_data",
          "data": {
            "text/plain": [
              "plot without title"
            ],
            "image/png": "[encoded data removed]"
          },
          "metadata": {
            "image/png": {
              "width": 420,
              "height": 420
            }
          }
        }
      ]
    },
    {
      "cell_type": "code",
      "metadata": {
        "colab": {
          "base_uri": "https://localhost:8080/",
          "height": 476
        },
        "id": "nfAa82-6Ho1a",
        "outputId": "3454f818-30dd-45ef-97ad-0e2d0443b1f3"
      },
      "source": [
        "glm_cfm1_tst"
      ],
      "id": "nfAa82-6Ho1a",
      "execution_count": 45,
      "outputs": [
        {
          "output_type": "display_data",
          "data": {
            "text/plain": [
              "Confusion Matrix and Statistics\n",
              "\n",
              "   glm_pred1_tst\n",
              "       1    2\n",
              "  1  253 1014\n",
              "  2   10 1161\n",
              "                                          \n",
              "               Accuracy : 0.58            \n",
              "                 95% CI : (0.5601, 0.5997)\n",
              "    No Information Rate : 0.8921          \n",
              "    P-Value [Acc > NIR] : 1               \n",
              "                                          \n",
              "                  Kappa : 0.1851          \n",
              "                                          \n",
              " Mcnemar's Test P-Value : <2e-16          \n",
              "                                          \n",
              "            Sensitivity : 0.9620          \n",
              "            Specificity : 0.5338          \n",
              "         Pos Pred Value : 0.1997          \n",
              "         Neg Pred Value : 0.9915          \n",
              "             Prevalence : 0.1079          \n",
              "         Detection Rate : 0.1038          \n",
              "   Detection Prevalence : 0.5197          \n",
              "      Balanced Accuracy : 0.7479          \n",
              "                                          \n",
              "       'Positive' Class : 1               \n",
              "                                          "
            ]
          },
          "metadata": {}
        }
      ]
    },
    {
      "cell_type": "code",
      "metadata": {
        "id": "-v8ShnodHxiY"
      },
      "source": [
        "glm_varEst30=varEst(varEst_trdf, varEst_tstdf, 30, type=\"glm\") # Variance estimation using 30% of the data\n",
        "glm_varEst60=varEst(varEst_trdf, varEst_tstdf, 60, type=\"glm\") # Variance estimation using 60% of the data\n",
        "glm_varEst100=varEst(varEst_trdf, varEst_tstdf, 100, type=\"glm\") # Variance estimation using 100% of the data"
      ],
      "id": "-v8ShnodHxiY",
      "execution_count": 46,
      "outputs": []
    },
    {
      "cell_type": "code",
      "metadata": {
        "colab": {
          "base_uri": "https://localhost:8080/",
          "height": 113
        },
        "id": "jnL2tFF2KjkB",
        "outputId": "3ad681a7-306d-480e-b934-ade77d8330e9"
      },
      "source": [
        "print(\"Logistic-Regression Variance Estimation using 30% of data:\")\n",
        "glm_varEst30"
      ],
      "id": "jnL2tFF2KjkB",
      "execution_count": 47,
      "outputs": [
        {
          "output_type": "stream",
          "name": "stdout",
          "text": [
            "[1] \"Logistic-Regression Variance Estimation using 30% of data:\"\n"
          ]
        },
        {
          "output_type": "display_data",
          "data": {
            "text/html": [
              "<table class=\"dataframe\">\n",
              "<caption>A matrix: 2 × 1 of type dbl</caption>\n",
              "<tbody>\n",
              "\t<tr><th scope=row>Mean of Accuracies</th><td>0</td></tr>\n",
              "\t<tr><th scope=row>Variance of Accuracies</th><td>0</td></tr>\n",
              "</tbody>\n",
              "</table>\n"
            ],
            "text/markdown": "\nA matrix: 2 × 1 of type dbl\n\n| Mean of Accuracies | 0 |\n| Variance of Accuracies | 0 |\n\n",
            "text/latex": "A matrix: 2 × 1 of type dbl\n\\begin{tabular}{r|l}\n\tMean of Accuracies & 0\\\\\n\tVariance of Accuracies & 0\\\\\n\\end{tabular}\n",
            "text/plain": [
              "                       [,1]\n",
              "Mean of Accuracies     0   \n",
              "Variance of Accuracies 0   "
            ]
          },
          "metadata": {}
        }
      ]
    },
    {
      "cell_type": "code",
      "metadata": {
        "colab": {
          "base_uri": "https://localhost:8080/",
          "height": 113
        },
        "id": "oM8tiFzqKnpN",
        "outputId": "215d1a41-56b4-4583-d9b1-0e5fd692f89b"
      },
      "source": [
        "print(\"Logistic-Regression Variance Estimation using 60% of data:\")\n",
        "glm_varEst60"
      ],
      "id": "oM8tiFzqKnpN",
      "execution_count": 48,
      "outputs": [
        {
          "output_type": "stream",
          "name": "stdout",
          "text": [
            "[1] \"Logistic-Regression Variance Estimation using 60% of data:\"\n"
          ]
        },
        {
          "output_type": "display_data",
          "data": {
            "text/html": [
              "<table class=\"dataframe\">\n",
              "<caption>A matrix: 2 × 1 of type dbl</caption>\n",
              "<tbody>\n",
              "\t<tr><th scope=row>Mean of Accuracies</th><td>0</td></tr>\n",
              "\t<tr><th scope=row>Variance of Accuracies</th><td>0</td></tr>\n",
              "</tbody>\n",
              "</table>\n"
            ],
            "text/markdown": "\nA matrix: 2 × 1 of type dbl\n\n| Mean of Accuracies | 0 |\n| Variance of Accuracies | 0 |\n\n",
            "text/latex": "A matrix: 2 × 1 of type dbl\n\\begin{tabular}{r|l}\n\tMean of Accuracies & 0\\\\\n\tVariance of Accuracies & 0\\\\\n\\end{tabular}\n",
            "text/plain": [
              "                       [,1]\n",
              "Mean of Accuracies     0   \n",
              "Variance of Accuracies 0   "
            ]
          },
          "metadata": {}
        }
      ]
    },
    {
      "cell_type": "code",
      "metadata": {
        "id": "RBc72j7oKrT1",
        "colab": {
          "base_uri": "https://localhost:8080/",
          "height": 113
        },
        "outputId": "c537d2e5-8453-4702-c4f2-b6ea16becd62"
      },
      "source": [
        "print(\"Logistic-Regression Variance Estimation using 100% of data:\")\n",
        "glm_varEst100"
      ],
      "id": "RBc72j7oKrT1",
      "execution_count": 49,
      "outputs": [
        {
          "output_type": "stream",
          "name": "stdout",
          "text": [
            "[1] \"Logistic-Regression Variance Estimation using 100% of data:\"\n"
          ]
        },
        {
          "output_type": "display_data",
          "data": {
            "text/html": [
              "<table class=\"dataframe\">\n",
              "<caption>A matrix: 2 × 1 of type dbl</caption>\n",
              "<tbody>\n",
              "\t<tr><th scope=row>Mean of Accuracies</th><td>0</td></tr>\n",
              "\t<tr><th scope=row>Variance of Accuracies</th><td>0</td></tr>\n",
              "</tbody>\n",
              "</table>\n"
            ],
            "text/markdown": "\nA matrix: 2 × 1 of type dbl\n\n| Mean of Accuracies | 0 |\n| Variance of Accuracies | 0 |\n\n",
            "text/latex": "A matrix: 2 × 1 of type dbl\n\\begin{tabular}{r|l}\n\tMean of Accuracies & 0\\\\\n\tVariance of Accuracies & 0\\\\\n\\end{tabular}\n",
            "text/plain": [
              "                       [,1]\n",
              "Mean of Accuracies     0   \n",
              "Variance of Accuracies 0   "
            ]
          },
          "metadata": {}
        }
      ]
    },
    {
      "cell_type": "markdown",
      "metadata": {
        "id": "ddUBElANQ8vH"
      },
      "source": [
        "**SVM**"
      ],
      "id": "ddUBElANQ8vH"
    },
    {
      "cell_type": "code",
      "metadata": {
        "colab": {
          "base_uri": "https://localhost:8080/"
        },
        "id": "XLsQkph1RNhF",
        "outputId": "53712bf1-c736-4ba8-ad62-889f97b9b02a"
      },
      "source": [
        "require(e1071)"
      ],
      "id": "XLsQkph1RNhF",
      "execution_count": 50,
      "outputs": [
        {
          "output_type": "stream",
          "name": "stderr",
          "text": [
            "Loading required package: e1071\n",
            "\n"
          ]
        }
      ]
    },
    {
      "cell_type": "code",
      "metadata": {
        "id": "hW2SGHN2Q-42"
      },
      "source": [
        "svm_model1 = svm(class~., data = trdf,method = \"svmLinear\")"
      ],
      "id": "hW2SGHN2Q-42",
      "execution_count": 51,
      "outputs": []
    },
    {
      "cell_type": "code",
      "metadata": {
        "colab": {
          "base_uri": "https://localhost:8080/"
        },
        "id": "9MlnovJlRPjE",
        "outputId": "e476f14a-4cd1-481c-8adc-518b3daa3c4b"
      },
      "source": [
        "print(svm_model1)"
      ],
      "id": "9MlnovJlRPjE",
      "execution_count": 52,
      "outputs": [
        {
          "output_type": "stream",
          "name": "stdout",
          "text": [
            "\n",
            "Call:\n",
            "svm(formula = class ~ ., data = trdf, method = \"svmLinear\")\n",
            "\n",
            "\n",
            "Parameters:\n",
            "   SVM-Type:  eps-regression \n",
            " SVM-Kernel:  radial \n",
            "       cost:  1 \n",
            "      gamma:  0.05555556 \n",
            "    epsilon:  0.1 \n",
            "\n",
            "\n",
            "Number of Support Vectors:  454\n",
            "\n"
          ]
        }
      ]
    },
    {
      "cell_type": "code",
      "metadata": {
        "id": "vFfEkDbARZX_"
      },
      "source": [
        "# Predict using train data (Learning Phase)\n",
        "svm_pred1_tr=predict(svm_model1, trdf[, -which(names(trdf)==\"class\")])\n",
        "svm_pred1_tr1 = ifelse(svm_pred1_tr > 1, \"2\", \"1\")"
      ],
      "id": "vFfEkDbARZX_",
      "execution_count": 53,
      "outputs": []
    },
    {
      "cell_type": "markdown",
      "metadata": {
        "id": "G70dG2edSpYh"
      },
      "source": [
        "Since this is a binomial distribution and I have 2 values for class variable - \"1\" and \"2\", so I would like to round off the value to 2 if the svm_pred1_tr is greater than 1."
      ],
      "id": "G70dG2edSpYh"
    },
    {
      "cell_type": "code",
      "metadata": {
        "id": "zGQ33ezRRvpK"
      },
      "source": [
        "svm_cfm1_tr=confusionMatrix(table(trdf$class,svm_pred1_tr1)) # Confusion Matrix for train data\n"
      ],
      "id": "zGQ33ezRRvpK",
      "execution_count": 54,
      "outputs": []
    },
    {
      "cell_type": "code",
      "metadata": {
        "colab": {
          "base_uri": "https://localhost:8080/",
          "height": 493
        },
        "id": "MCyXCYjhTPIh",
        "outputId": "a10717b9-bcc5-4985-dd43-5310f5195fba"
      },
      "source": [
        "print(\"SVM Learning Phase Confusion Matrix\")\n",
        "svm_cfm1_tr"
      ],
      "id": "MCyXCYjhTPIh",
      "execution_count": 55,
      "outputs": [
        {
          "output_type": "stream",
          "name": "stdout",
          "text": [
            "[1] \"SVM Learning Phase Confusion Matrix\"\n"
          ]
        },
        {
          "output_type": "display_data",
          "data": {
            "text/plain": [
              "Confusion Matrix and Statistics\n",
              "\n",
              "   svm_pred1_tr1\n",
              "       1    2\n",
              "  1  787 2154\n",
              "  2    0 2745\n",
              "                                          \n",
              "               Accuracy : 0.6212          \n",
              "                 95% CI : (0.6084, 0.6338)\n",
              "    No Information Rate : 0.8616          \n",
              "    P-Value [Acc > NIR] : 1               \n",
              "                                          \n",
              "                  Kappa : 0.2608          \n",
              "                                          \n",
              " Mcnemar's Test P-Value : <2e-16          \n",
              "                                          \n",
              "            Sensitivity : 1.0000          \n",
              "            Specificity : 0.5603          \n",
              "         Pos Pred Value : 0.2676          \n",
              "         Neg Pred Value : 1.0000          \n",
              "             Prevalence : 0.1384          \n",
              "         Detection Rate : 0.1384          \n",
              "   Detection Prevalence : 0.5172          \n",
              "      Balanced Accuracy : 0.7802          \n",
              "                                          \n",
              "       'Positive' Class : 1               \n",
              "                                          "
            ]
          },
          "metadata": {}
        }
      ]
    },
    {
      "cell_type": "code",
      "metadata": {
        "id": "uYWxq-HuTZmk"
      },
      "source": [
        "svm_acc1_tr=round(svm_cfm1_tr$overall[[\"Accuracy\"]],4)"
      ],
      "id": "uYWxq-HuTZmk",
      "execution_count": 56,
      "outputs": []
    },
    {
      "cell_type": "code",
      "metadata": {
        "colab": {
          "base_uri": "https://localhost:8080/"
        },
        "id": "liipObnaTrXT",
        "outputId": "5b3d7131-3723-4c88-a7aa-ee15751ef8e1"
      },
      "source": [
        "print(paste(\"SVM Learning Phase Accuracy =\",svm_acc1_tr))"
      ],
      "id": "liipObnaTrXT",
      "execution_count": 57,
      "outputs": [
        {
          "output_type": "stream",
          "name": "stdout",
          "text": [
            "[1] \"SVM Learning Phase Accuracy = 0.6212\"\n"
          ]
        }
      ]
    },
    {
      "cell_type": "code",
      "metadata": {
        "id": "F8oiai90TvQE"
      },
      "source": [
        "# Predict using test data (Generalization Phase)\n",
        "svm_pred1_tst=predict(svm_model1, tstdf[, -which(names(tstdf)==\"class\")], type=\"class\")\n",
        "svm_pred1_tst1 = ifelse(svm_pred1_tst > 1, \"2\", \"1\")"
      ],
      "id": "F8oiai90TvQE",
      "execution_count": 58,
      "outputs": []
    },
    {
      "cell_type": "code",
      "metadata": {
        "id": "5ZlJXYSQT6pJ"
      },
      "source": [
        "svm_cfm1_tst=confusionMatrix(table(tstdf[, which(names(tstdf)==\"class\")], svm_pred1_tst1)) # Confusion Matrix for test data\n"
      ],
      "id": "5ZlJXYSQT6pJ",
      "execution_count": 59,
      "outputs": []
    },
    {
      "cell_type": "code",
      "metadata": {
        "colab": {
          "base_uri": "https://localhost:8080/",
          "height": 493
        },
        "id": "bO6NeDrPUAVc",
        "outputId": "f6cfe853-3a44-4c4c-ef4f-ce735282725b"
      },
      "source": [
        "print(\"SVM Generalization Phase Confusion Matrix\")\n",
        "svm_cfm1_tst"
      ],
      "id": "bO6NeDrPUAVc",
      "execution_count": 60,
      "outputs": [
        {
          "output_type": "stream",
          "name": "stdout",
          "text": [
            "[1] \"SVM Generalization Phase Confusion Matrix\"\n"
          ]
        },
        {
          "output_type": "display_data",
          "data": {
            "text/plain": [
              "Confusion Matrix and Statistics\n",
              "\n",
              "   svm_pred1_tst1\n",
              "       1    2\n",
              "  1  357  910\n",
              "  2    0 1171\n",
              "                                         \n",
              "               Accuracy : 0.6267         \n",
              "                 95% CI : (0.6072, 0.646)\n",
              "    No Information Rate : 0.8536         \n",
              "    P-Value [Acc > NIR] : 1              \n",
              "                                         \n",
              "                  Kappa : 0.2737         \n",
              "                                         \n",
              " Mcnemar's Test P-Value : <2e-16         \n",
              "                                         \n",
              "            Sensitivity : 1.0000         \n",
              "            Specificity : 0.5627         \n",
              "         Pos Pred Value : 0.2818         \n",
              "         Neg Pred Value : 1.0000         \n",
              "             Prevalence : 0.1464         \n",
              "         Detection Rate : 0.1464         \n",
              "   Detection Prevalence : 0.5197         \n",
              "      Balanced Accuracy : 0.7814         \n",
              "                                         \n",
              "       'Positive' Class : 1              \n",
              "                                         "
            ]
          },
          "metadata": {}
        }
      ]
    },
    {
      "cell_type": "code",
      "metadata": {
        "id": "bgpfUT4nUGs1"
      },
      "source": [
        "svm_acc1_tst=round(svm_cfm1_tst$overall[[\"Accuracy\"]],4) # Accuracy "
      ],
      "id": "bgpfUT4nUGs1",
      "execution_count": 61,
      "outputs": []
    },
    {
      "cell_type": "code",
      "metadata": {
        "colab": {
          "base_uri": "https://localhost:8080/"
        },
        "id": "sfcn_FOUUKgO",
        "outputId": "068b3305-14ca-411d-c8bc-ad3464024f6a"
      },
      "source": [
        "print(paste(\"SVM Generalization Phase Accuracy =\",svm_acc1_tst))"
      ],
      "id": "sfcn_FOUUKgO",
      "execution_count": 62,
      "outputs": [
        {
          "output_type": "stream",
          "name": "stdout",
          "text": [
            "[1] \"SVM Generalization Phase Accuracy = 0.6267\"\n"
          ]
        }
      ]
    },
    {
      "cell_type": "code",
      "metadata": {
        "colab": {
          "base_uri": "https://localhost:8080/"
        },
        "id": "KFgaqzf8UMT4",
        "outputId": "7359fca1-c98e-4279-a35b-c8b706001007"
      },
      "source": [
        "# Check for over-fitting. Criteria: Accuracy change from train to test > 25%\n",
        "svm_model1_isOF=abs((svm_acc1_tr-svm_acc1_tst)/svm_acc1_tr)\n",
        "svm_model1_isOF=round(svm_model1_isOF,4)\n",
        "print(paste(\"Accuracy drop from training data to test data is\",svm_model1_isOF*100,\"%\"))"
      ],
      "id": "KFgaqzf8UMT4",
      "execution_count": 63,
      "outputs": [
        {
          "output_type": "stream",
          "name": "stdout",
          "text": [
            "[1] \"Accuracy drop from training data to test data is 0.89 %\"\n"
          ]
        }
      ]
    },
    {
      "cell_type": "code",
      "metadata": {
        "colab": {
          "base_uri": "https://localhost:8080/"
        },
        "id": "bg3vCPj9UbAA",
        "outputId": "e6f9ecac-d704-405c-d0e2-c328efffd51e"
      },
      "source": [
        "if(svm_model1_isOF>0.25) print(\"Model is over-fitting\") else print(\"Model is not over-fitting\")"
      ],
      "id": "bg3vCPj9UbAA",
      "execution_count": 64,
      "outputs": [
        {
          "output_type": "stream",
          "name": "stdout",
          "text": [
            "[1] \"Model is not over-fitting\"\n"
          ]
        }
      ]
    },
    {
      "cell_type": "code",
      "metadata": {
        "id": "b2_sAsL7Uk08"
      },
      "source": [
        "svm_PM1_tr=svm_cfm1_tr$byClass[c(\"Balanced Accuracy\", \"Precision\", \"Sensitivity\", \"Specificity\", \"Recall\")]\n"
      ],
      "id": "b2_sAsL7Uk08",
      "execution_count": 65,
      "outputs": []
    },
    {
      "cell_type": "code",
      "metadata": {
        "colab": {
          "base_uri": "https://localhost:8080/",
          "height": 51
        },
        "id": "ZLmNv9myUnxM",
        "outputId": "85aa7725-65f9-4df4-c8ec-fa7ae70e7876"
      },
      "source": [
        "print(\"SVM Learning-Phase Performance Parameters:\")\n",
        "svm_PM1_tr"
      ],
      "id": "ZLmNv9myUnxM",
      "execution_count": 66,
      "outputs": [
        {
          "output_type": "stream",
          "name": "stdout",
          "text": [
            "[1] \"SVM Learning-Phase Performance Parameters:\"\n"
          ]
        },
        {
          "output_type": "display_data",
          "data": {
            "text/html": [
              "<style>\n",
              ".dl-inline {width: auto; margin:0; padding: 0}\n",
              ".dl-inline>dt, .dl-inline>dd {float: none; width: auto; display: inline-block}\n",
              ".dl-inline>dt::after {content: \":\\0020\"; padding-right: .5ex}\n",
              ".dl-inline>dt:not(:first-of-type) {padding-left: .5ex}\n",
              "</style><dl class=dl-inline><dt>Balanced Accuracy</dt><dd>0.780159216166565</dd><dt>Precision</dt><dd>0.267596055763346</dd><dt>Sensitivity</dt><dd>1</dd><dt>Specificity</dt><dd>0.560318432333129</dd><dt>Recall</dt><dd>1</dd></dl>\n"
            ],
            "text/markdown": "Balanced Accuracy\n:   0.780159216166565Precision\n:   0.267596055763346Sensitivity\n:   1Specificity\n:   0.560318432333129Recall\n:   1\n\n",
            "text/latex": "\\begin{description*}\n\\item[Balanced Accuracy] 0.780159216166565\n\\item[Precision] 0.267596055763346\n\\item[Sensitivity] 1\n\\item[Specificity] 0.560318432333129\n\\item[Recall] 1\n\\end{description*}\n",
            "text/plain": [
              "Balanced Accuracy         Precision       Sensitivity       Specificity \n",
              "        0.7801592         0.2675961         1.0000000         0.5603184 \n",
              "           Recall \n",
              "        1.0000000 "
            ]
          },
          "metadata": {}
        }
      ]
    },
    {
      "cell_type": "code",
      "metadata": {
        "id": "JZwcIS6DUs8K"
      },
      "source": [
        "svm_prob1_tr=predict(svm_model1, trdf[, -which(names(trdf)==\"class\")],)"
      ],
      "id": "JZwcIS6DUs8K",
      "execution_count": 67,
      "outputs": []
    },
    {
      "cell_type": "code",
      "metadata": {
        "colab": {
          "base_uri": "https://localhost:8080/"
        },
        "id": "Yu8_vaRmUw41",
        "outputId": "f7c11b75-fcec-4e6c-c8ec-74568898affa"
      },
      "source": [
        "svm_AUC1_tr=roc(trdf[, which(names(trdf)==\"class\")], svm_prob1_tr)"
      ],
      "id": "Yu8_vaRmUw41",
      "execution_count": 68,
      "outputs": [
        {
          "output_type": "stream",
          "name": "stderr",
          "text": [
            "Setting levels: control = 1, case = 2\n",
            "\n",
            "Setting direction: controls < cases\n",
            "\n"
          ]
        }
      ]
    },
    {
      "cell_type": "code",
      "metadata": {
        "colab": {
          "base_uri": "https://localhost:8080/"
        },
        "id": "oJwBiUSdVG8K",
        "outputId": "b5ba5273-159d-4955-fb48-8e036e659fed"
      },
      "source": [
        "print(paste(\"SVM Learning-Phase AUC:\", round(svm_AUC1_tr$auc, 4)))"
      ],
      "id": "oJwBiUSdVG8K",
      "execution_count": 69,
      "outputs": [
        {
          "output_type": "stream",
          "name": "stdout",
          "text": [
            "[1] \"SVM Learning-Phase AUC: 1\"\n"
          ]
        }
      ]
    },
    {
      "cell_type": "code",
      "metadata": {
        "colab": {
          "base_uri": "https://localhost:8080/",
          "height": 437
        },
        "id": "WT_4KBVxVLWC",
        "outputId": "e8aeb2a6-5c8c-4bd6-dcf5-37eaf7ac133d"
      },
      "source": [
        "plot.roc(svm_AUC1_tr)"
      ],
      "id": "WT_4KBVxVLWC",
      "execution_count": 70,
      "outputs": [
        {
          "output_type": "display_data",
          "data": {
            "text/plain": [
              "plot without title"
            ],
            "image/png": "[encoded data removed]"
          },
          "metadata": {
            "image/png": {
              "width": 420,
              "height": 420
            }
          }
        }
      ]
    },
    {
      "cell_type": "code",
      "metadata": {
        "id": "NxoWRFvbVQTV"
      },
      "source": [
        "svm_PM1_tst=svm_cfm1_tst$byClass[c(\"Balanced Accuracy\", \"Precision\", \"Sensitivity\", \"Specificity\", \"Recall\")]\n"
      ],
      "id": "NxoWRFvbVQTV",
      "execution_count": 71,
      "outputs": []
    },
    {
      "cell_type": "code",
      "metadata": {
        "colab": {
          "base_uri": "https://localhost:8080/",
          "height": 51
        },
        "id": "BLN7T_DFVTl3",
        "outputId": "640deaea-1041-4392-89bd-b0dfd8457b74"
      },
      "source": [
        "print(\"SVM Generalization-Phase Performance Parameters:\")\n",
        "svm_PM1_tst"
      ],
      "id": "BLN7T_DFVTl3",
      "execution_count": 72,
      "outputs": [
        {
          "output_type": "stream",
          "name": "stdout",
          "text": [
            "[1] \"SVM Generalization-Phase Performance Parameters:\"\n"
          ]
        },
        {
          "output_type": "display_data",
          "data": {
            "text/html": [
              "<style>\n",
              ".dl-inline {width: auto; margin:0; padding: 0}\n",
              ".dl-inline>dt, .dl-inline>dd {float: none; width: auto; display: inline-block}\n",
              ".dl-inline>dt::after {content: \":\\0020\"; padding-right: .5ex}\n",
              ".dl-inline>dt:not(:first-of-type) {padding-left: .5ex}\n",
              "</style><dl class=dl-inline><dt>Balanced Accuracy</dt><dd>0.78135511773186</dd><dt>Precision</dt><dd>0.281767955801105</dd><dt>Sensitivity</dt><dd>1</dd><dt>Specificity</dt><dd>0.562710235463719</dd><dt>Recall</dt><dd>1</dd></dl>\n"
            ],
            "text/markdown": "Balanced Accuracy\n:   0.78135511773186Precision\n:   0.281767955801105Sensitivity\n:   1Specificity\n:   0.562710235463719Recall\n:   1\n\n",
            "text/latex": "\\begin{description*}\n\\item[Balanced Accuracy] 0.78135511773186\n\\item[Precision] 0.281767955801105\n\\item[Sensitivity] 1\n\\item[Specificity] 0.562710235463719\n\\item[Recall] 1\n\\end{description*}\n",
            "text/plain": [
              "Balanced Accuracy         Precision       Sensitivity       Specificity \n",
              "        0.7813551         0.2817680         1.0000000         0.5627102 \n",
              "           Recall \n",
              "        1.0000000 "
            ]
          },
          "metadata": {}
        }
      ]
    },
    {
      "cell_type": "code",
      "metadata": {
        "id": "1fcDsLSFVW1J"
      },
      "source": [
        "svm_prob1_tst=predict(svm_model1, tstdf[, -which(names(tstdf)==\"class\")], type=\"raw\")\n",
        "svm_prob1_tst1 = ifelse(svm_prob1_tst > 1, \"2\", \"1\")"
      ],
      "id": "1fcDsLSFVW1J",
      "execution_count": 73,
      "outputs": []
    },
    {
      "cell_type": "code",
      "metadata": {
        "colab": {
          "base_uri": "https://localhost:8080/"
        },
        "id": "PMvg9MryVhwN",
        "outputId": "f09c6d27-0ff8-40c5-99b7-b9a84b70c563"
      },
      "source": [
        "svm_AUC1_tst=roc(tstdf[, which(names(tstdf)==\"class\")],svm_prob1_tst)"
      ],
      "id": "PMvg9MryVhwN",
      "execution_count": 74,
      "outputs": [
        {
          "output_type": "stream",
          "name": "stderr",
          "text": [
            "Setting levels: control = 1, case = 2\n",
            "\n",
            "Setting direction: controls < cases\n",
            "\n"
          ]
        }
      ]
    },
    {
      "cell_type": "code",
      "metadata": {
        "colab": {
          "base_uri": "https://localhost:8080/"
        },
        "id": "VqxIo-_5VmYA",
        "outputId": "d9e366bf-6eb3-442d-a42e-4d384e9faf54"
      },
      "source": [
        "print(paste(\"SVM Generalization-Phase AUC:\", round(svm_AUC1_tst$auc, 4)))"
      ],
      "id": "VqxIo-_5VmYA",
      "execution_count": 75,
      "outputs": [
        {
          "output_type": "stream",
          "name": "stdout",
          "text": [
            "[1] \"SVM Generalization-Phase AUC: 1\"\n"
          ]
        }
      ]
    },
    {
      "cell_type": "code",
      "metadata": {
        "colab": {
          "base_uri": "https://localhost:8080/",
          "height": 437
        },
        "id": "bTzdLkEjVrFP",
        "outputId": "c8ceeab0-80b9-4176-d971-5969b2e78cf0"
      },
      "source": [
        "# ROC curves - Curve of Sensitivity and Specificity\n",
        "plot.roc(svm_AUC1_tst)"
      ],
      "id": "bTzdLkEjVrFP",
      "execution_count": 76,
      "outputs": [
        {
          "output_type": "display_data",
          "data": {
            "text/plain": [
              "plot without title"
            ],
            "image/png": "[encoded data removed]"
          },
          "metadata": {
            "image/png": {
              "width": 420,
              "height": 420
            }
          }
        }
      ]
    },
    {
      "cell_type": "code",
      "metadata": {
        "colab": {
          "base_uri": "https://localhost:8080/",
          "height": 476
        },
        "id": "NJNGLm_8VzK2",
        "outputId": "36a20394-e3db-403c-977d-af4452dfd0c7"
      },
      "source": [
        "svm_cfm1_tst"
      ],
      "id": "NJNGLm_8VzK2",
      "execution_count": 77,
      "outputs": [
        {
          "output_type": "display_data",
          "data": {
            "text/plain": [
              "Confusion Matrix and Statistics\n",
              "\n",
              "   svm_pred1_tst1\n",
              "       1    2\n",
              "  1  357  910\n",
              "  2    0 1171\n",
              "                                         \n",
              "               Accuracy : 0.6267         \n",
              "                 95% CI : (0.6072, 0.646)\n",
              "    No Information Rate : 0.8536         \n",
              "    P-Value [Acc > NIR] : 1              \n",
              "                                         \n",
              "                  Kappa : 0.2737         \n",
              "                                         \n",
              " Mcnemar's Test P-Value : <2e-16         \n",
              "                                         \n",
              "            Sensitivity : 1.0000         \n",
              "            Specificity : 0.5627         \n",
              "         Pos Pred Value : 0.2818         \n",
              "         Neg Pred Value : 1.0000         \n",
              "             Prevalence : 0.1464         \n",
              "         Detection Rate : 0.1464         \n",
              "   Detection Prevalence : 0.5197         \n",
              "      Balanced Accuracy : 0.7814         \n",
              "                                         \n",
              "       'Positive' Class : 1              \n",
              "                                         "
            ]
          },
          "metadata": {}
        }
      ]
    },
    {
      "cell_type": "code",
      "metadata": {
        "id": "ZqBq_RQiV3lP"
      },
      "source": [
        "# Variance Estimation for SVM"
      ],
      "id": "ZqBq_RQiV3lP",
      "execution_count": 78,
      "outputs": []
    },
    {
      "cell_type": "code",
      "metadata": {
        "id": "kBpxr5V8V6mB"
      },
      "source": [
        "svm_varEst30=varEst(varEst_trdf, varEst_tstdf, 30, type=\"svm\") # Variance estimation using 30% of the data\n"
      ],
      "id": "kBpxr5V8V6mB",
      "execution_count": 79,
      "outputs": []
    },
    {
      "cell_type": "code",
      "metadata": {
        "id": "G4LXBB-9V6i0"
      },
      "source": [
        "svm_varEst60=varEst(varEst_trdf, varEst_tstdf, 60, type=\"svm\") # Variance estimation using 60% of the data\n"
      ],
      "id": "G4LXBB-9V6i0",
      "execution_count": 80,
      "outputs": []
    },
    {
      "cell_type": "code",
      "metadata": {
        "id": "EPh65-ndWajI"
      },
      "source": [
        "svm_varEst100=varEst(varEst_trdf, varEst_tstdf, 100, type=\"svm\") # Variance estimation using 100% of the data\n"
      ],
      "id": "EPh65-ndWajI",
      "execution_count": 81,
      "outputs": []
    },
    {
      "cell_type": "code",
      "metadata": {
        "colab": {
          "base_uri": "https://localhost:8080/",
          "height": 113
        },
        "id": "oee8w3fZWgJY",
        "outputId": "dfb1ff46-8c32-4a50-a3d4-256a19d630e7"
      },
      "source": [
        "print(\"SVM Variance Estimation using 30% of data:\")\n",
        "svm_varEst30"
      ],
      "id": "oee8w3fZWgJY",
      "execution_count": 82,
      "outputs": [
        {
          "output_type": "stream",
          "name": "stdout",
          "text": [
            "[1] \"SVM Variance Estimation using 30% of data:\"\n"
          ]
        },
        {
          "output_type": "display_data",
          "data": {
            "text/html": [
              "<table class=\"dataframe\">\n",
              "<caption>A matrix: 2 × 1 of type dbl</caption>\n",
              "<tbody>\n",
              "\t<tr><th scope=row>Mean of Accuracies</th><td>0.5237</td></tr>\n",
              "\t<tr><th scope=row>Variance of Accuracies</th><td>0.0000</td></tr>\n",
              "</tbody>\n",
              "</table>\n"
            ],
            "text/markdown": "\nA matrix: 2 × 1 of type dbl\n\n| Mean of Accuracies | 0.5237 |\n| Variance of Accuracies | 0.0000 |\n\n",
            "text/latex": "A matrix: 2 × 1 of type dbl\n\\begin{tabular}{r|l}\n\tMean of Accuracies & 0.5237\\\\\n\tVariance of Accuracies & 0.0000\\\\\n\\end{tabular}\n",
            "text/plain": [
              "                       [,1]  \n",
              "Mean of Accuracies     0.5237\n",
              "Variance of Accuracies 0.0000"
            ]
          },
          "metadata": {}
        }
      ]
    },
    {
      "cell_type": "code",
      "metadata": {
        "colab": {
          "base_uri": "https://localhost:8080/",
          "height": 113
        },
        "id": "ioFVDpJrWjbp",
        "outputId": "9f0955e3-c2bd-4b6e-836b-282cd872980c"
      },
      "source": [
        "print(\"SVM Variance Estimation using 60% of data:\")\n",
        "svm_varEst60"
      ],
      "id": "ioFVDpJrWjbp",
      "execution_count": 83,
      "outputs": [
        {
          "output_type": "stream",
          "name": "stdout",
          "text": [
            "[1] \"SVM Variance Estimation using 60% of data:\"\n"
          ]
        },
        {
          "output_type": "display_data",
          "data": {
            "text/html": [
              "<table class=\"dataframe\">\n",
              "<caption>A matrix: 2 × 1 of type dbl</caption>\n",
              "<tbody>\n",
              "\t<tr><th scope=row>Mean of Accuracies</th><td>0.5237</td></tr>\n",
              "\t<tr><th scope=row>Variance of Accuracies</th><td>0.0000</td></tr>\n",
              "</tbody>\n",
              "</table>\n"
            ],
            "text/markdown": "\nA matrix: 2 × 1 of type dbl\n\n| Mean of Accuracies | 0.5237 |\n| Variance of Accuracies | 0.0000 |\n\n",
            "text/latex": "A matrix: 2 × 1 of type dbl\n\\begin{tabular}{r|l}\n\tMean of Accuracies & 0.5237\\\\\n\tVariance of Accuracies & 0.0000\\\\\n\\end{tabular}\n",
            "text/plain": [
              "                       [,1]  \n",
              "Mean of Accuracies     0.5237\n",
              "Variance of Accuracies 0.0000"
            ]
          },
          "metadata": {}
        }
      ]
    },
    {
      "cell_type": "code",
      "metadata": {
        "colab": {
          "base_uri": "https://localhost:8080/",
          "height": 113
        },
        "id": "V9E7Nyq4Wp3i",
        "outputId": "76dde3bd-8c57-4eac-e08a-a70e9e0666e6"
      },
      "source": [
        "print(\"SVM Variance Estimation using 100% of data:\")\n",
        "svm_varEst100"
      ],
      "id": "V9E7Nyq4Wp3i",
      "execution_count": 84,
      "outputs": [
        {
          "output_type": "stream",
          "name": "stdout",
          "text": [
            "[1] \"SVM Variance Estimation using 100% of data:\"\n"
          ]
        },
        {
          "output_type": "display_data",
          "data": {
            "text/html": [
              "<table class=\"dataframe\">\n",
              "<caption>A matrix: 2 × 1 of type dbl</caption>\n",
              "<tbody>\n",
              "\t<tr><th scope=row>Mean of Accuracies</th><td>0.5237</td></tr>\n",
              "\t<tr><th scope=row>Variance of Accuracies</th><td>0.0000</td></tr>\n",
              "</tbody>\n",
              "</table>\n"
            ],
            "text/markdown": "\nA matrix: 2 × 1 of type dbl\n\n| Mean of Accuracies | 0.5237 |\n| Variance of Accuracies | 0.0000 |\n\n",
            "text/latex": "A matrix: 2 × 1 of type dbl\n\\begin{tabular}{r|l}\n\tMean of Accuracies & 0.5237\\\\\n\tVariance of Accuracies & 0.0000\\\\\n\\end{tabular}\n",
            "text/plain": [
              "                       [,1]  \n",
              "Mean of Accuracies     0.5237\n",
              "Variance of Accuracies 0.0000"
            ]
          },
          "metadata": {}
        }
      ]
    },
    {
      "cell_type": "markdown",
      "metadata": {
        "id": "fQzlIW7KYGRL"
      },
      "source": [
        "**Tree Algorithm**"
      ],
      "id": "fQzlIW7KYGRL"
    },
    {
      "cell_type": "code",
      "metadata": {
        "id": "CaTz5KSIYLqN"
      },
      "source": [
        "# As we have many categorical variables, regression tree is an ideal classification tools for such situation.\n",
        "# We’ll use the rpart package."
      ],
      "id": "CaTz5KSIYLqN",
      "execution_count": 85,
      "outputs": []
    },
    {
      "cell_type": "code",
      "metadata": {
        "colab": {
          "base_uri": "https://localhost:8080/"
        },
        "id": "fmZ0HRTEZB0w",
        "outputId": "1b2cf4da-901b-4cf9-e2e2-9a5b6e2f3c50"
      },
      "source": [
        "install.packages(\"rpart.plot\")"
      ],
      "id": "fmZ0HRTEZB0w",
      "execution_count": 86,
      "outputs": [
        {
          "output_type": "stream",
          "name": "stderr",
          "text": [
            "Installing package into ‘/usr/local/lib/R/site-library’\n",
            "(as ‘lib’ is unspecified)\n",
            "\n"
          ]
        }
      ]
    },
    {
      "cell_type": "code",
      "metadata": {
        "id": "BGJJuBHXYVmp"
      },
      "source": [
        "library(rpart)\n",
        "library(rpart.plot)\n",
        "tree_model1 = rpart(class~., data = trdf, method = 'class')\n"
      ],
      "id": "BGJJuBHXYVmp",
      "execution_count": 87,
      "outputs": []
    },
    {
      "cell_type": "code",
      "metadata": {
        "colab": {
          "base_uri": "https://localhost:8080/",
          "height": 437
        },
        "id": "83qL1ybvdH1S",
        "outputId": "3ed7a857-1ad3-4cd2-bd91-c9851bb096be"
      },
      "source": [
        "rpart.plot(tree_model1)"
      ],
      "id": "83qL1ybvdH1S",
      "execution_count": 88,
      "outputs": [
        {
          "output_type": "display_data",
          "data": {
            "text/plain": [
              "plot without title"
            ],
            "image/png": "[encoded data removed]"
          },
          "metadata": {
            "image/png": {
              "width": 420,
              "height": 420
            }
          }
        }
      ]
    },
    {
      "cell_type": "code",
      "metadata": {
        "colab": {
          "base_uri": "https://localhost:8080/"
        },
        "id": "Bbjl7d97cq3f",
        "outputId": "9d24891a-5a3a-4893-fca0-8503ad790cb6"
      },
      "source": [
        "printcp(tree_model1)"
      ],
      "id": "Bbjl7d97cq3f",
      "execution_count": 89,
      "outputs": [
        {
          "output_type": "stream",
          "name": "stdout",
          "text": [
            "\n",
            "Classification tree:\n",
            "rpart(formula = class ~ ., data = trdf, method = \"class\")\n",
            "\n",
            "Variables actually used in tree construction:\n",
            "[1] gill.color             gill.size              odor                  \n",
            "[4] population             spore.print.color      stalk.color.above.ring\n",
            "[7] stalk.shape           \n",
            "\n",
            "Root node error: 2745/5686 = 0.48276\n",
            "\n",
            "n= 5686 \n",
            "\n",
            "        CP nsplit rel error   xerror      xstd\n",
            "1 0.561020      0  1.000000 1.000000 0.0137269\n",
            "2 0.140255      1  0.438980 0.438980 0.0112263\n",
            "3 0.112568      2  0.298725 0.298725 0.0096504\n",
            "4 0.064845      3  0.186157 0.186157 0.0078563\n",
            "5 0.024408      4  0.121311 0.121311 0.0064502\n",
            "6 0.020765      5  0.096903 0.096903 0.0058009\n",
            "7 0.011293      6  0.076138 0.076138 0.0051689\n",
            "8 0.010200      7  0.064845 0.058652 0.0045565\n",
            "9 0.010000      8  0.054645 0.048816 0.0041671\n"
          ]
        }
      ]
    },
    {
      "cell_type": "code",
      "metadata": {
        "id": "IhtUiicBdSK0"
      },
      "source": [
        "# Predict using train data (Learning Phase)\n",
        "tree_pred1_tr=predict(tree_model1, trdf[, -which(names(trdf)==\"class\")],type=\"class\")"
      ],
      "id": "IhtUiicBdSK0",
      "execution_count": 90,
      "outputs": []
    },
    {
      "cell_type": "code",
      "metadata": {
        "id": "f2t-P1rhdYYw"
      },
      "source": [
        "tree_cfm1_tr=confusionMatrix(table(trdf[, which(names(trdf)==\"class\")],tree_pred1_tr)) # Confusion Matrix for train data\n"
      ],
      "id": "f2t-P1rhdYYw",
      "execution_count": 91,
      "outputs": []
    },
    {
      "cell_type": "code",
      "metadata": {
        "colab": {
          "base_uri": "https://localhost:8080/",
          "height": 493
        },
        "id": "RH68nvFGddSH",
        "outputId": "23ccc3f0-a268-41e6-bcdf-49eaa768af06"
      },
      "source": [
        "print(\"Tree Learning Phase Confusion Matrix\")\n",
        "tree_cfm1_tr"
      ],
      "id": "RH68nvFGddSH",
      "execution_count": 92,
      "outputs": [
        {
          "output_type": "stream",
          "name": "stdout",
          "text": [
            "[1] \"Tree Learning Phase Confusion Matrix\"\n"
          ]
        },
        {
          "output_type": "display_data",
          "data": {
            "text/plain": [
              "Confusion Matrix and Statistics\n",
              "\n",
              "   tree_pred1_tr\n",
              "       1    2\n",
              "  1 2841  100\n",
              "  2   50 2695\n",
              "                                          \n",
              "               Accuracy : 0.9736          \n",
              "                 95% CI : (0.9691, 0.9776)\n",
              "    No Information Rate : 0.5084          \n",
              "    P-Value [Acc > NIR] : < 2.2e-16       \n",
              "                                          \n",
              "                  Kappa : 0.9472          \n",
              "                                          \n",
              " Mcnemar's Test P-Value : 6.312e-05       \n",
              "                                          \n",
              "            Sensitivity : 0.9827          \n",
              "            Specificity : 0.9642          \n",
              "         Pos Pred Value : 0.9660          \n",
              "         Neg Pred Value : 0.9818          \n",
              "             Prevalence : 0.5084          \n",
              "         Detection Rate : 0.4996          \n",
              "   Detection Prevalence : 0.5172          \n",
              "      Balanced Accuracy : 0.9735          \n",
              "                                          \n",
              "       'Positive' Class : 1               \n",
              "                                          "
            ]
          },
          "metadata": {}
        }
      ]
    },
    {
      "cell_type": "code",
      "metadata": {
        "id": "jHa8xeyxgw2-"
      },
      "source": [
        "tree_acc1_tr=round(tree_cfm1_tr$overall[[\"Accuracy\"]],4) # Accuracy\n"
      ],
      "id": "jHa8xeyxgw2-",
      "execution_count": 93,
      "outputs": []
    },
    {
      "cell_type": "code",
      "metadata": {
        "colab": {
          "base_uri": "https://localhost:8080/"
        },
        "id": "J78xKMz-hEhS",
        "outputId": "d06d47b2-06ab-44de-bf5a-a967d5969502"
      },
      "source": [
        "print(paste(\"Tree Learning Phase Accuracy =\",tree_acc1_tr))\n"
      ],
      "id": "J78xKMz-hEhS",
      "execution_count": 94,
      "outputs": [
        {
          "output_type": "stream",
          "name": "stdout",
          "text": [
            "[1] \"Tree Learning Phase Accuracy = 0.9736\"\n"
          ]
        }
      ]
    },
    {
      "cell_type": "code",
      "metadata": {
        "id": "zo3yo_6BhZnB"
      },
      "source": [
        "tree_pred1_tst=predict(tree_model1, tstdf[, -which(names(trdf)==\"class\")], type = 'class')\n"
      ],
      "id": "zo3yo_6BhZnB",
      "execution_count": 95,
      "outputs": []
    },
    {
      "cell_type": "code",
      "metadata": {
        "id": "Iz0jx3fnhfo6"
      },
      "source": [
        "tree_cfm1_tst=confusionMatrix(table(tstdf[, which(names(tstdf)==\"class\")],tree_pred1_tst)) # Confusion Matrix for test data\n"
      ],
      "id": "Iz0jx3fnhfo6",
      "execution_count": 96,
      "outputs": []
    },
    {
      "cell_type": "code",
      "metadata": {
        "colab": {
          "base_uri": "https://localhost:8080/",
          "height": 493
        },
        "id": "dZYqG6cZhj0i",
        "outputId": "434d917c-2c98-4dd0-d127-b606731cd3e4"
      },
      "source": [
        "print(\"Tree Generalization-Phase Confusion Matrix\")\n",
        "tree_cfm1_tst"
      ],
      "id": "dZYqG6cZhj0i",
      "execution_count": 97,
      "outputs": [
        {
          "output_type": "stream",
          "name": "stdout",
          "text": [
            "[1] \"Tree Generalization-Phase Confusion Matrix\"\n"
          ]
        },
        {
          "output_type": "display_data",
          "data": {
            "text/plain": [
              "Confusion Matrix and Statistics\n",
              "\n",
              "   tree_pred1_tst\n",
              "       1    2\n",
              "  1 1211   56\n",
              "  2   22 1149\n",
              "                                          \n",
              "               Accuracy : 0.968           \n",
              "                 95% CI : (0.9602, 0.9746)\n",
              "    No Information Rate : 0.5057          \n",
              "    P-Value [Acc > NIR] : < 2.2e-16       \n",
              "                                          \n",
              "                  Kappa : 0.936           \n",
              "                                          \n",
              " Mcnemar's Test P-Value : 0.0001866       \n",
              "                                          \n",
              "            Sensitivity : 0.9822          \n",
              "            Specificity : 0.9535          \n",
              "         Pos Pred Value : 0.9558          \n",
              "         Neg Pred Value : 0.9812          \n",
              "             Prevalence : 0.5057          \n",
              "         Detection Rate : 0.4967          \n",
              "   Detection Prevalence : 0.5197          \n",
              "      Balanced Accuracy : 0.9678          \n",
              "                                          \n",
              "       'Positive' Class : 1               \n",
              "                                          "
            ]
          },
          "metadata": {}
        }
      ]
    },
    {
      "cell_type": "code",
      "metadata": {
        "id": "T8gomD2ohnaY"
      },
      "source": [
        "tree_acc1_tst=round(tree_cfm1_tst$overall[[\"Accuracy\"]],4) # Accuracy\n"
      ],
      "id": "T8gomD2ohnaY",
      "execution_count": 98,
      "outputs": []
    },
    {
      "cell_type": "code",
      "metadata": {
        "colab": {
          "base_uri": "https://localhost:8080/"
        },
        "id": "GubVPB8bhpq8",
        "outputId": "3e74a8c9-f02b-4767-9ba2-e6a3c7aadded"
      },
      "source": [
        "print(paste(\"Tree Generalization-Phase Accuracy =\",tree_acc1_tst))\n"
      ],
      "id": "GubVPB8bhpq8",
      "execution_count": 99,
      "outputs": [
        {
          "output_type": "stream",
          "name": "stdout",
          "text": [
            "[1] \"Tree Generalization-Phase Accuracy = 0.968\"\n"
          ]
        }
      ]
    },
    {
      "cell_type": "code",
      "metadata": {
        "colab": {
          "base_uri": "https://localhost:8080/"
        },
        "id": "zc1V24vGhtqe",
        "outputId": "11c10c61-8b7d-40de-881f-77ed953dad2b"
      },
      "source": [
        "# Check for over-fitting. Criteria: Accuracy change from train to test > 25%\n",
        "tree_model1_isOF=abs((tree_acc1_tr-tree_acc1_tst)/tree_acc1_tr)\n",
        "tree_model1_isOF=round(tree_model1_isOF,4)\n",
        "print(paste(\"Accuracy drop from training data to test data is\",tree_model1_isOF*100,\"%\"))"
      ],
      "id": "zc1V24vGhtqe",
      "execution_count": 100,
      "outputs": [
        {
          "output_type": "stream",
          "name": "stdout",
          "text": [
            "[1] \"Accuracy drop from training data to test data is 0.58 %\"\n"
          ]
        }
      ]
    },
    {
      "cell_type": "code",
      "metadata": {
        "colab": {
          "base_uri": "https://localhost:8080/"
        },
        "id": "ohdSeyC-hyLm",
        "outputId": "fb267c9f-674d-458d-9bf3-2a9e23e3c555"
      },
      "source": [
        "if(tree_model1_isOF>0.25) print(\"Model is over-fitting\") else print(\"Model is not over-fitting\")\n"
      ],
      "id": "ohdSeyC-hyLm",
      "execution_count": 101,
      "outputs": [
        {
          "output_type": "stream",
          "name": "stdout",
          "text": [
            "[1] \"Model is not over-fitting\"\n"
          ]
        }
      ]
    },
    {
      "cell_type": "code",
      "metadata": {
        "id": "jC9J9uLfh0Rj"
      },
      "source": [
        "tree_PM1_tr=tree_cfm1_tr$byClass[c(\"Balanced Accuracy\", \"Precision\", \"Sensitivity\", \"Specificity\", \"Recall\")]\n"
      ],
      "id": "jC9J9uLfh0Rj",
      "execution_count": 102,
      "outputs": []
    },
    {
      "cell_type": "code",
      "metadata": {
        "colab": {
          "base_uri": "https://localhost:8080/",
          "height": 68
        },
        "id": "3rAUZPwah4ae",
        "outputId": "ae69ab33-ae9b-4e8c-b355-86837222692f"
      },
      "source": [
        "print(\"Tree Learning-Phase Performance Parameters:\")\n",
        "tree_PM1_tr"
      ],
      "id": "3rAUZPwah4ae",
      "execution_count": 103,
      "outputs": [
        {
          "output_type": "stream",
          "name": "stdout",
          "text": [
            "[1] \"Tree Learning-Phase Performance Parameters:\"\n"
          ]
        },
        {
          "output_type": "display_data",
          "data": {
            "text/html": [
              "<style>\n",
              ".dl-inline {width: auto; margin:0; padding: 0}\n",
              ".dl-inline>dt, .dl-inline>dd {float: none; width: auto; display: inline-block}\n",
              ".dl-inline>dt::after {content: \":\\0020\"; padding-right: .5ex}\n",
              ".dl-inline>dt:not(:first-of-type) {padding-left: .5ex}\n",
              "</style><dl class=dl-inline><dt>Balanced Accuracy</dt><dd>0.973463385536137</dd><dt>Precision</dt><dd>0.965997959877593</dd><dt>Sensitivity</dt><dd>0.982704946385334</dd><dt>Specificity</dt><dd>0.964221824686941</dd><dt>Recall</dt><dd>0.982704946385334</dd></dl>\n"
            ],
            "text/markdown": "Balanced Accuracy\n:   0.973463385536137Precision\n:   0.965997959877593Sensitivity\n:   0.982704946385334Specificity\n:   0.964221824686941Recall\n:   0.982704946385334\n\n",
            "text/latex": "\\begin{description*}\n\\item[Balanced Accuracy] 0.973463385536137\n\\item[Precision] 0.965997959877593\n\\item[Sensitivity] 0.982704946385334\n\\item[Specificity] 0.964221824686941\n\\item[Recall] 0.982704946385334\n\\end{description*}\n",
            "text/plain": [
              "Balanced Accuracy         Precision       Sensitivity       Specificity \n",
              "        0.9734634         0.9659980         0.9827049         0.9642218 \n",
              "           Recall \n",
              "        0.9827049 "
            ]
          },
          "metadata": {}
        }
      ]
    },
    {
      "cell_type": "code",
      "metadata": {
        "id": "2wm5uvAFh6uK"
      },
      "source": [
        "tree_prob1_tr=predict(tree_model1, trdf[, -which(names(trdf)==\"class\")], type = 'prob')\n"
      ],
      "id": "2wm5uvAFh6uK",
      "execution_count": 104,
      "outputs": []
    },
    {
      "cell_type": "code",
      "metadata": {
        "id": "pV8gnsjHh-mn"
      },
      "source": [
        "tree_prob1_tr1 = tree_prob1_tr[,2]\n"
      ],
      "id": "pV8gnsjHh-mn",
      "execution_count": 105,
      "outputs": []
    },
    {
      "cell_type": "code",
      "metadata": {
        "colab": {
          "base_uri": "https://localhost:8080/"
        },
        "id": "DugcsTPXiBrJ",
        "outputId": "408d71f5-7e06-4dbe-9e70-880da7f8de71"
      },
      "source": [
        "tree_AUC1_tr=multiclass.roc(trdf$class, tree_prob1_tr1, percent = TRUE)\n",
        "print(paste(\"tree Learning-Phase AUC:\",round(tree_AUC1_tr$auc,4)))"
      ],
      "id": "DugcsTPXiBrJ",
      "execution_count": 106,
      "outputs": [
        {
          "output_type": "stream",
          "name": "stderr",
          "text": [
            "Setting direction: controls < cases\n",
            "\n"
          ]
        },
        {
          "output_type": "stream",
          "name": "stdout",
          "text": [
            "[1] \"tree Learning-Phase AUC: 98.7602\"\n"
          ]
        }
      ]
    },
    {
      "cell_type": "code",
      "metadata": {
        "id": "yAfXfIxGiPZF"
      },
      "source": [
        "tree_ROC1_tr <- tree_AUC1_tr[['rocs']]\n"
      ],
      "id": "yAfXfIxGiPZF",
      "execution_count": 107,
      "outputs": []
    },
    {
      "cell_type": "code",
      "metadata": {
        "colab": {
          "base_uri": "https://localhost:8080/",
          "height": 437
        },
        "id": "jShkRTzTiVD-",
        "outputId": "5e78c8f5-e6fc-4636-e97f-43bc77e3c0ae"
      },
      "source": [
        "plot.roc(tree_ROC1_tr[[1]])\n"
      ],
      "id": "jShkRTzTiVD-",
      "execution_count": 108,
      "outputs": [
        {
          "output_type": "display_data",
          "data": {
            "text/plain": [
              "plot without title"
            ],
            "image/png": "[encoded data removed]"
          },
          "metadata": {
            "image/png": {
              "width": 420,
              "height": 420
            }
          }
        }
      ]
    },
    {
      "cell_type": "code",
      "metadata": {
        "id": "rZn4y3a9iYrs"
      },
      "source": [
        "tree_PM1_tst=tree_cfm1_tst$byClass[c(\"Balanced Accuracy\", \"Precision\", \"Sensitivity\", \"Specificity\", \"Recall\")]\n"
      ],
      "id": "rZn4y3a9iYrs",
      "execution_count": 109,
      "outputs": []
    },
    {
      "cell_type": "code",
      "metadata": {
        "colab": {
          "base_uri": "https://localhost:8080/",
          "height": 68
        },
        "id": "lGfoCDd1ic5Q",
        "outputId": "a1375a26-e779-4dc6-d17e-271470e38362"
      },
      "source": [
        "print(\"Tree Generalization-Phase Performance Parameters:\")\n",
        "tree_PM1_tst"
      ],
      "id": "lGfoCDd1ic5Q",
      "execution_count": 110,
      "outputs": [
        {
          "output_type": "stream",
          "name": "stdout",
          "text": [
            "[1] \"Tree Generalization-Phase Performance Parameters:\"\n"
          ]
        },
        {
          "output_type": "display_data",
          "data": {
            "text/html": [
              "<style>\n",
              ".dl-inline {width: auto; margin:0; padding: 0}\n",
              ".dl-inline>dt, .dl-inline>dd {float: none; width: auto; display: inline-block}\n",
              ".dl-inline>dt::after {content: \":\\0020\"; padding-right: .5ex}\n",
              ".dl-inline>dt:not(:first-of-type) {padding-left: .5ex}\n",
              "</style><dl class=dl-inline><dt>Balanced Accuracy</dt><dd>0.967842155387965</dd><dt>Precision</dt><dd>0.955801104972376</dd><dt>Sensitivity</dt><dd>0.982157339821573</dd><dt>Specificity</dt><dd>0.953526970954357</dd><dt>Recall</dt><dd>0.982157339821573</dd></dl>\n"
            ],
            "text/markdown": "Balanced Accuracy\n:   0.967842155387965Precision\n:   0.955801104972376Sensitivity\n:   0.982157339821573Specificity\n:   0.953526970954357Recall\n:   0.982157339821573\n\n",
            "text/latex": "\\begin{description*}\n\\item[Balanced Accuracy] 0.967842155387965\n\\item[Precision] 0.955801104972376\n\\item[Sensitivity] 0.982157339821573\n\\item[Specificity] 0.953526970954357\n\\item[Recall] 0.982157339821573\n\\end{description*}\n",
            "text/plain": [
              "Balanced Accuracy         Precision       Sensitivity       Specificity \n",
              "        0.9678422         0.9558011         0.9821573         0.9535270 \n",
              "           Recall \n",
              "        0.9821573 "
            ]
          },
          "metadata": {}
        }
      ]
    },
    {
      "cell_type": "code",
      "metadata": {
        "id": "1MXfWbEGihLw"
      },
      "source": [
        "tree_prob1_tst=predict(tree_model1, tstdf[, -which(names(tstdf)==\"class\")], type = 'prob')"
      ],
      "id": "1MXfWbEGihLw",
      "execution_count": 111,
      "outputs": []
    },
    {
      "cell_type": "code",
      "metadata": {
        "id": "YQ_DqB5Xi3Oc"
      },
      "source": [
        "tree_prob1_tst1 = tree_prob1_tst[,2]"
      ],
      "id": "YQ_DqB5Xi3Oc",
      "execution_count": 112,
      "outputs": []
    },
    {
      "cell_type": "code",
      "metadata": {
        "colab": {
          "base_uri": "https://localhost:8080/"
        },
        "id": "2ee15Rmqi7wJ",
        "outputId": "c3e09fa1-b139-4490-a510-88ac19ed1cec"
      },
      "source": [
        "tree_AUC1_tst=multiclass.roc(tstdf$class, tree_prob1_tst1, percent = TRUE)\n",
        "print(paste(\"tree Generalization-Phase AUC:\",round(tree_AUC1_tst$auc,4)))"
      ],
      "id": "2ee15Rmqi7wJ",
      "execution_count": 113,
      "outputs": [
        {
          "output_type": "stream",
          "name": "stderr",
          "text": [
            "Setting direction: controls < cases\n",
            "\n"
          ]
        },
        {
          "output_type": "stream",
          "name": "stdout",
          "text": [
            "[1] \"tree Generalization-Phase AUC: 98.5677\"\n"
          ]
        }
      ]
    },
    {
      "cell_type": "code",
      "metadata": {
        "id": "1-UWMCxqjBjr"
      },
      "source": [
        "tree_ROC1_tst <- tree_AUC1_tst[['rocs']]"
      ],
      "id": "1-UWMCxqjBjr",
      "execution_count": 114,
      "outputs": []
    },
    {
      "cell_type": "code",
      "metadata": {
        "colab": {
          "base_uri": "https://localhost:8080/",
          "height": 437
        },
        "id": "4Kh5s3Y-jD7O",
        "outputId": "2408f0ff-df57-4837-920b-3f4d6defa27b"
      },
      "source": [
        "plot.roc(tree_ROC1_tst[[1]])"
      ],
      "id": "4Kh5s3Y-jD7O",
      "execution_count": 115,
      "outputs": [
        {
          "output_type": "display_data",
          "data": {
            "text/plain": [
              "plot without title"
            ],
            "image/png": "[encoded data removed]"
          },
          "metadata": {
            "image/png": {
              "width": 420,
              "height": 420
            }
          }
        }
      ]
    },
    {
      "cell_type": "code",
      "metadata": {
        "colab": {
          "base_uri": "https://localhost:8080/",
          "height": 476
        },
        "id": "0g9VI3sgjG4b",
        "outputId": "5fc2f766-1886-4534-acde-9b88847162a1"
      },
      "source": [
        "tree_cfm1_tst"
      ],
      "id": "0g9VI3sgjG4b",
      "execution_count": 116,
      "outputs": [
        {
          "output_type": "display_data",
          "data": {
            "text/plain": [
              "Confusion Matrix and Statistics\n",
              "\n",
              "   tree_pred1_tst\n",
              "       1    2\n",
              "  1 1211   56\n",
              "  2   22 1149\n",
              "                                          \n",
              "               Accuracy : 0.968           \n",
              "                 95% CI : (0.9602, 0.9746)\n",
              "    No Information Rate : 0.5057          \n",
              "    P-Value [Acc > NIR] : < 2.2e-16       \n",
              "                                          \n",
              "                  Kappa : 0.936           \n",
              "                                          \n",
              " Mcnemar's Test P-Value : 0.0001866       \n",
              "                                          \n",
              "            Sensitivity : 0.9822          \n",
              "            Specificity : 0.9535          \n",
              "         Pos Pred Value : 0.9558          \n",
              "         Neg Pred Value : 0.9812          \n",
              "             Prevalence : 0.5057          \n",
              "         Detection Rate : 0.4967          \n",
              "   Detection Prevalence : 0.5197          \n",
              "      Balanced Accuracy : 0.9678          \n",
              "                                          \n",
              "       'Positive' Class : 1               \n",
              "                                          "
            ]
          },
          "metadata": {}
        }
      ]
    },
    {
      "cell_type": "code",
      "metadata": {
        "id": "Ipo0RYVCjdlk"
      },
      "source": [
        "# Variance Extimation for Tree"
      ],
      "id": "Ipo0RYVCjdlk",
      "execution_count": 117,
      "outputs": []
    },
    {
      "cell_type": "code",
      "metadata": {
        "id": "Zua749oVjMvZ"
      },
      "source": [
        "tree_varEst30=varEst(varEst_trdf, varEst_tstdf, 30, type=\"rpart\") # Variance estimation using 30% of the data\n",
        "tree_varEst60=varEst(varEst_trdf, varEst_tstdf, 60, type=\"rpart\") # Variance estimation using 60% of the data\n",
        "tree_varEst100=varEst(varEst_trdf, varEst_tstdf, 100, type=\"rpart\") # Variance estimation using 100% of the data"
      ],
      "id": "Zua749oVjMvZ",
      "execution_count": 118,
      "outputs": []
    },
    {
      "cell_type": "code",
      "metadata": {
        "colab": {
          "base_uri": "https://localhost:8080/",
          "height": 113
        },
        "id": "1nmePjIXkxUq",
        "outputId": "40192375-6870-4c0f-f46c-f529e4220371"
      },
      "source": [
        "print(\"Tree Variance Estimation using 30% of data:\")\n",
        "tree_varEst30"
      ],
      "id": "1nmePjIXkxUq",
      "execution_count": 119,
      "outputs": [
        {
          "output_type": "stream",
          "name": "stdout",
          "text": [
            "[1] \"Tree Variance Estimation using 30% of data:\"\n"
          ]
        },
        {
          "output_type": "display_data",
          "data": {
            "text/html": [
              "<table class=\"dataframe\">\n",
              "<caption>A matrix: 2 × 1 of type dbl</caption>\n",
              "<tbody>\n",
              "\t<tr><th scope=row>Mean of Accuracies</th><td>9.650e-01</td></tr>\n",
              "\t<tr><th scope=row>Variance of Accuracies</th><td>6.963e-05</td></tr>\n",
              "</tbody>\n",
              "</table>\n"
            ],
            "text/markdown": "\nA matrix: 2 × 1 of type dbl\n\n| Mean of Accuracies | 9.650e-01 |\n| Variance of Accuracies | 6.963e-05 |\n\n",
            "text/latex": "A matrix: 2 × 1 of type dbl\n\\begin{tabular}{r|l}\n\tMean of Accuracies & 9.650e-01\\\\\n\tVariance of Accuracies & 6.963e-05\\\\\n\\end{tabular}\n",
            "text/plain": [
              "                       [,1]     \n",
              "Mean of Accuracies     9.650e-01\n",
              "Variance of Accuracies 6.963e-05"
            ]
          },
          "metadata": {}
        }
      ]
    },
    {
      "cell_type": "code",
      "metadata": {
        "colab": {
          "base_uri": "https://localhost:8080/",
          "height": 113
        },
        "id": "w3mvkWGEkz-V",
        "outputId": "b43818a3-f973-4ecb-e935-60949decf468"
      },
      "source": [
        "print(\"Tree Variance Estimation using 60% of data:\")\n",
        "tree_varEst60"
      ],
      "id": "w3mvkWGEkz-V",
      "execution_count": 120,
      "outputs": [
        {
          "output_type": "stream",
          "name": "stdout",
          "text": [
            "[1] \"Tree Variance Estimation using 60% of data:\"\n"
          ]
        },
        {
          "output_type": "display_data",
          "data": {
            "text/html": [
              "<table class=\"dataframe\">\n",
              "<caption>A matrix: 2 × 1 of type dbl</caption>\n",
              "<tbody>\n",
              "\t<tr><th scope=row>Mean of Accuracies</th><td>9.633e-01</td></tr>\n",
              "\t<tr><th scope=row>Variance of Accuracies</th><td>8.405e-05</td></tr>\n",
              "</tbody>\n",
              "</table>\n"
            ],
            "text/markdown": "\nA matrix: 2 × 1 of type dbl\n\n| Mean of Accuracies | 9.633e-01 |\n| Variance of Accuracies | 8.405e-05 |\n\n",
            "text/latex": "A matrix: 2 × 1 of type dbl\n\\begin{tabular}{r|l}\n\tMean of Accuracies & 9.633e-01\\\\\n\tVariance of Accuracies & 8.405e-05\\\\\n\\end{tabular}\n",
            "text/plain": [
              "                       [,1]     \n",
              "Mean of Accuracies     9.633e-01\n",
              "Variance of Accuracies 8.405e-05"
            ]
          },
          "metadata": {}
        }
      ]
    },
    {
      "cell_type": "code",
      "metadata": {
        "colab": {
          "base_uri": "https://localhost:8080/",
          "height": 113
        },
        "id": "xJDofAUBk58J",
        "outputId": "7c44eb4b-e857-4664-8024-4e916b7a0e79"
      },
      "source": [
        "print(\"Tree Variance Estimation using 100% of data:\")\n",
        "tree_varEst100"
      ],
      "id": "xJDofAUBk58J",
      "execution_count": 121,
      "outputs": [
        {
          "output_type": "stream",
          "name": "stdout",
          "text": [
            "[1] \"Tree Variance Estimation using 100% of data:\"\n"
          ]
        },
        {
          "output_type": "display_data",
          "data": {
            "text/html": [
              "<table class=\"dataframe\">\n",
              "<caption>A matrix: 2 × 1 of type dbl</caption>\n",
              "<tbody>\n",
              "\t<tr><th scope=row>Mean of Accuracies</th><td>0.9772</td></tr>\n",
              "\t<tr><th scope=row>Variance of Accuracies</th><td>0.0000</td></tr>\n",
              "</tbody>\n",
              "</table>\n"
            ],
            "text/markdown": "\nA matrix: 2 × 1 of type dbl\n\n| Mean of Accuracies | 0.9772 |\n| Variance of Accuracies | 0.0000 |\n\n",
            "text/latex": "A matrix: 2 × 1 of type dbl\n\\begin{tabular}{r|l}\n\tMean of Accuracies & 0.9772\\\\\n\tVariance of Accuracies & 0.0000\\\\\n\\end{tabular}\n",
            "text/plain": [
              "                       [,1]  \n",
              "Mean of Accuracies     0.9772\n",
              "Variance of Accuracies 0.0000"
            ]
          },
          "metadata": {}
        }
      ]
    },
    {
      "cell_type": "markdown",
      "metadata": {
        "id": "ATpbQHNv6yzP"
      },
      "source": [
        "**KNN - Nearest Neighbour**"
      ],
      "id": "ATpbQHNv6yzP"
    },
    {
      "cell_type": "code",
      "metadata": {
        "id": "GBXbPDT063rA"
      },
      "source": [
        "trdf_knn=trdf[, -which(names(trdf)==\"class\")]"
      ],
      "id": "GBXbPDT063rA",
      "execution_count": 122,
      "outputs": []
    },
    {
      "cell_type": "code",
      "metadata": {
        "id": "9b_YdlN267kw"
      },
      "source": [
        "tstdf_knn=tstdf[, -which(names(trdf)==\"class\")]"
      ],
      "id": "9b_YdlN267kw",
      "execution_count": 123,
      "outputs": []
    },
    {
      "cell_type": "code",
      "metadata": {
        "id": "8jeHX9-S6_Ms"
      },
      "source": [
        "trclass_knn=factor(trdf[, which(names(trdf)==\"class\")])"
      ],
      "id": "8jeHX9-S6_Ms",
      "execution_count": 124,
      "outputs": []
    },
    {
      "cell_type": "code",
      "metadata": {
        "id": "KvhRe42M7LtU"
      },
      "source": [
        "tstclass_knn=factor(tstdf[, which(names(tstdf)==\"class\")])"
      ],
      "id": "KvhRe42M7LtU",
      "execution_count": 125,
      "outputs": []
    },
    {
      "cell_type": "code",
      "metadata": {
        "id": "QLHFyD5y7jmQ"
      },
      "source": [
        "library(class)"
      ],
      "id": "QLHFyD5y7jmQ",
      "execution_count": 126,
      "outputs": []
    },
    {
      "cell_type": "code",
      "metadata": {
        "id": "Qr0wdgWv7Pcj"
      },
      "source": [
        "knn_pred1=knn(trdf_knn,tstdf_knn,trclass_knn, k = 15, prob=TRUE)"
      ],
      "id": "Qr0wdgWv7Pcj",
      "execution_count": 127,
      "outputs": []
    },
    {
      "cell_type": "code",
      "metadata": {
        "id": "qUz4NJRU7oy2"
      },
      "source": [
        "# Predict using test data (Generalization Phase)\n",
        "knn_cfm1_tst=confusionMatrix(table(tstclass_knn,knn_pred1)) # Confusion Matrix for test data"
      ],
      "id": "qUz4NJRU7oy2",
      "execution_count": 128,
      "outputs": []
    },
    {
      "cell_type": "code",
      "metadata": {
        "colab": {
          "base_uri": "https://localhost:8080/",
          "height": 476
        },
        "id": "_cvQbryU7rZG",
        "outputId": "f3c174f5-4b77-4185-fdf6-88a618d549d2"
      },
      "source": [
        "knn_cfm1_tst"
      ],
      "id": "_cvQbryU7rZG",
      "execution_count": 129,
      "outputs": [
        {
          "output_type": "display_data",
          "data": {
            "text/plain": [
              "Confusion Matrix and Statistics\n",
              "\n",
              "            knn_pred1\n",
              "tstclass_knn    1    2\n",
              "           1 1264    3\n",
              "           2   12 1159\n",
              "                                          \n",
              "               Accuracy : 0.9938          \n",
              "                 95% CI : (0.9899, 0.9966)\n",
              "    No Information Rate : 0.5234          \n",
              "    P-Value [Acc > NIR] : < 2e-16         \n",
              "                                          \n",
              "                  Kappa : 0.9877          \n",
              "                                          \n",
              " Mcnemar's Test P-Value : 0.03887         \n",
              "                                          \n",
              "            Sensitivity : 0.9906          \n",
              "            Specificity : 0.9974          \n",
              "         Pos Pred Value : 0.9976          \n",
              "         Neg Pred Value : 0.9898          \n",
              "             Prevalence : 0.5234          \n",
              "         Detection Rate : 0.5185          \n",
              "   Detection Prevalence : 0.5197          \n",
              "      Balanced Accuracy : 0.9940          \n",
              "                                          \n",
              "       'Positive' Class : 1               \n",
              "                                          "
            ]
          },
          "metadata": {}
        }
      ]
    },
    {
      "cell_type": "code",
      "metadata": {
        "id": "xRVxnGxF7tdM"
      },
      "source": [
        "knn_acc1_tst=round(knn_cfm1_tst$overall[[\"Accuracy\"]],4) # Accuracy of predictions with test data"
      ],
      "id": "xRVxnGxF7tdM",
      "execution_count": 130,
      "outputs": []
    },
    {
      "cell_type": "code",
      "metadata": {
        "colab": {
          "base_uri": "https://localhost:8080/"
        },
        "id": "RkL8h5ls7zi4",
        "outputId": "e844ac4a-7d25-45ce-bfec-809847b989f8"
      },
      "source": [
        "print(paste(\"kNN Generalization Phase Accuracy =\",knn_acc1_tst))"
      ],
      "id": "RkL8h5ls7zi4",
      "execution_count": 131,
      "outputs": [
        {
          "output_type": "stream",
          "name": "stdout",
          "text": [
            "[1] \"kNN Generalization Phase Accuracy = 0.9938\"\n"
          ]
        }
      ]
    },
    {
      "cell_type": "code",
      "metadata": {
        "id": "dgWYVidY72dP"
      },
      "source": [
        "knn_PM1_tst=knn_cfm1_tst$byClass[c(\"Balanced Accuracy\", \"Precision\", \"Sensitivity\", \"Specificity\", \"Recall\")]"
      ],
      "id": "dgWYVidY72dP",
      "execution_count": 132,
      "outputs": []
    },
    {
      "cell_type": "code",
      "metadata": {
        "colab": {
          "base_uri": "https://localhost:8080/",
          "height": 68
        },
        "id": "OlwI33pJ7zfM",
        "outputId": "ed076d1c-449b-421d-b58b-94e8094a956f"
      },
      "source": [
        "print(\"kNN Generalization-Phase Performance Parameters:\")\n",
        "knn_PM1_tst"
      ],
      "id": "OlwI33pJ7zfM",
      "execution_count": 133,
      "outputs": [
        {
          "output_type": "stream",
          "name": "stdout",
          "text": [
            "[1] \"kNN Generalization-Phase Performance Parameters:\"\n"
          ]
        },
        {
          "output_type": "display_data",
          "data": {
            "text/html": [
              "<style>\n",
              ".dl-inline {width: auto; margin:0; padding: 0}\n",
              ".dl-inline>dt, .dl-inline>dd {float: none; width: auto; display: inline-block}\n",
              ".dl-inline>dt::after {content: \":\\0020\"; padding-right: .5ex}\n",
              ".dl-inline>dt:not(:first-of-type) {padding-left: .5ex}\n",
              "</style><dl class=dl-inline><dt>Balanced Accuracy</dt><dd>0.994006927845731</dd><dt>Precision</dt><dd>0.997632202052092</dd><dt>Sensitivity</dt><dd>0.990595611285266</dd><dt>Specificity</dt><dd>0.997418244406196</dd><dt>Recall</dt><dd>0.990595611285266</dd></dl>\n"
            ],
            "text/markdown": "Balanced Accuracy\n:   0.994006927845731Precision\n:   0.997632202052092Sensitivity\n:   0.990595611285266Specificity\n:   0.997418244406196Recall\n:   0.990595611285266\n\n",
            "text/latex": "\\begin{description*}\n\\item[Balanced Accuracy] 0.994006927845731\n\\item[Precision] 0.997632202052092\n\\item[Sensitivity] 0.990595611285266\n\\item[Specificity] 0.997418244406196\n\\item[Recall] 0.990595611285266\n\\end{description*}\n",
            "text/plain": [
              "Balanced Accuracy         Precision       Sensitivity       Specificity \n",
              "        0.9940069         0.9976322         0.9905956         0.9974182 \n",
              "           Recall \n",
              "        0.9905956 "
            ]
          },
          "metadata": {}
        }
      ]
    },
    {
      "cell_type": "code",
      "metadata": {
        "id": "O-AxsY_o7-4d"
      },
      "source": [
        "knn_prob1_tst=attr(knn_pred1,\"prob\")"
      ],
      "id": "O-AxsY_o7-4d",
      "execution_count": 134,
      "outputs": []
    },
    {
      "cell_type": "code",
      "metadata": {
        "colab": {
          "base_uri": "https://localhost:8080/"
        },
        "id": "EPJq-pn78BYw",
        "outputId": "ca879992-fb84-4ae5-9730-fe08e4533f75"
      },
      "source": [
        "knn_AUC1_tst=multiclass.roc(tstclass_knn, as.ordered(knn_pred1))"
      ],
      "id": "EPJq-pn78BYw",
      "execution_count": 135,
      "outputs": [
        {
          "output_type": "stream",
          "name": "stderr",
          "text": [
            "Setting direction: controls < cases\n",
            "\n"
          ]
        }
      ]
    },
    {
      "cell_type": "code",
      "metadata": {
        "colab": {
          "base_uri": "https://localhost:8080/"
        },
        "id": "gmZlWyOt8iUf",
        "outputId": "77bfb088-6206-4886-858c-ada801674c9e"
      },
      "source": [
        "print(paste(\"kNN Generalization-Phase AUC:\",round(knn_AUC1_tst$auc,4)))"
      ],
      "id": "gmZlWyOt8iUf",
      "execution_count": 136,
      "outputs": [
        {
          "output_type": "stream",
          "name": "stdout",
          "text": [
            "[1] \"kNN Generalization-Phase AUC: 0.9937\"\n"
          ]
        }
      ]
    },
    {
      "cell_type": "code",
      "metadata": {
        "colab": {
          "base_uri": "https://localhost:8080/",
          "height": 437
        },
        "id": "JCHkgFon8nry",
        "outputId": "b6679070-23f7-4cf3-f945-360e7cd393dc"
      },
      "source": [
        "# ROC curves\n",
        "knn_ROC1_tst=knn_AUC1_tst$rocs\n",
        "plot.roc(knn_ROC1_tst[[1]], col=1)"
      ],
      "id": "JCHkgFon8nry",
      "execution_count": 137,
      "outputs": [
        {
          "output_type": "display_data",
          "data": {
            "text/plain": [
              "plot without title"
            ],
            "image/png": "[encoded data removed]"
          },
          "metadata": {
            "image/png": {
              "width": 420,
              "height": 420
            }
          }
        }
      ]
    },
    {
      "cell_type": "code",
      "metadata": {
        "colab": {
          "base_uri": "https://localhost:8080/",
          "height": 476
        },
        "id": "NestOte78q90",
        "outputId": "44f1989c-4046-4f3b-b09b-ac5bd09149dc"
      },
      "source": [
        "knn_cfm1_tst"
      ],
      "id": "NestOte78q90",
      "execution_count": 138,
      "outputs": [
        {
          "output_type": "display_data",
          "data": {
            "text/plain": [
              "Confusion Matrix and Statistics\n",
              "\n",
              "            knn_pred1\n",
              "tstclass_knn    1    2\n",
              "           1 1264    3\n",
              "           2   12 1159\n",
              "                                          \n",
              "               Accuracy : 0.9938          \n",
              "                 95% CI : (0.9899, 0.9966)\n",
              "    No Information Rate : 0.5234          \n",
              "    P-Value [Acc > NIR] : < 2e-16         \n",
              "                                          \n",
              "                  Kappa : 0.9877          \n",
              "                                          \n",
              " Mcnemar's Test P-Value : 0.03887         \n",
              "                                          \n",
              "            Sensitivity : 0.9906          \n",
              "            Specificity : 0.9974          \n",
              "         Pos Pred Value : 0.9976          \n",
              "         Neg Pred Value : 0.9898          \n",
              "             Prevalence : 0.5234          \n",
              "         Detection Rate : 0.5185          \n",
              "   Detection Prevalence : 0.5197          \n",
              "      Balanced Accuracy : 0.9940          \n",
              "                                          \n",
              "       'Positive' Class : 1               \n",
              "                                          "
            ]
          },
          "metadata": {}
        }
      ]
    },
    {
      "cell_type": "code",
      "metadata": {
        "id": "HDN1ZDDU8vco"
      },
      "source": [
        "# Variance Estimation\n",
        "knn_varEst30=varEst(varEst_trdf, varEst_tstdf, 30, type=\"knn\") # 30% of data\n",
        "knn_varEst60=varEst(varEst_trdf, varEst_tstdf, 60, type=\"knn\") # 60% of data\n",
        "knn_varEst100=varEst(varEst_trdf, varEst_tstdf, 100, type=\"knn\") # 100% of data"
      ],
      "id": "HDN1ZDDU8vco",
      "execution_count": 139,
      "outputs": []
    },
    {
      "cell_type": "code",
      "metadata": {
        "colab": {
          "base_uri": "https://localhost:8080/",
          "height": 113
        },
        "id": "bgY8EIF28zFO",
        "outputId": "f02004f3-1ef6-4de1-8030-ed76d97f9536"
      },
      "source": [
        "print(\"kNN Variance Estimation using 30% of data:\")\n",
        "knn_varEst30"
      ],
      "id": "bgY8EIF28zFO",
      "execution_count": 140,
      "outputs": [
        {
          "output_type": "stream",
          "name": "stdout",
          "text": [
            "[1] \"kNN Variance Estimation using 30% of data:\"\n"
          ]
        },
        {
          "output_type": "display_data",
          "data": {
            "text/html": [
              "<table class=\"dataframe\">\n",
              "<caption>A matrix: 2 × 1 of type dbl</caption>\n",
              "<tbody>\n",
              "\t<tr><th scope=row>Mean of Accuracies</th><td>0.9543000</td></tr>\n",
              "\t<tr><th scope=row>Variance of Accuracies</th><td>0.0000405</td></tr>\n",
              "</tbody>\n",
              "</table>\n"
            ],
            "text/markdown": "\nA matrix: 2 × 1 of type dbl\n\n| Mean of Accuracies | 0.9543000 |\n| Variance of Accuracies | 0.0000405 |\n\n",
            "text/latex": "A matrix: 2 × 1 of type dbl\n\\begin{tabular}{r|l}\n\tMean of Accuracies & 0.9543000\\\\\n\tVariance of Accuracies & 0.0000405\\\\\n\\end{tabular}\n",
            "text/plain": [
              "                       [,1]     \n",
              "Mean of Accuracies     0.9543000\n",
              "Variance of Accuracies 0.0000405"
            ]
          },
          "metadata": {}
        }
      ]
    },
    {
      "cell_type": "code",
      "metadata": {
        "colab": {
          "base_uri": "https://localhost:8080/",
          "height": 113
        },
        "id": "gyDLKSMF82py",
        "outputId": "56388e0a-94c1-4a36-8ed2-be2e41abc0dd"
      },
      "source": [
        "print(\"kNN Variance Estimation using 60% of data:\")\n",
        "knn_varEst60"
      ],
      "id": "gyDLKSMF82py",
      "execution_count": 141,
      "outputs": [
        {
          "output_type": "stream",
          "name": "stdout",
          "text": [
            "[1] \"kNN Variance Estimation using 60% of data:\"\n"
          ]
        },
        {
          "output_type": "display_data",
          "data": {
            "text/html": [
              "<table class=\"dataframe\">\n",
              "<caption>A matrix: 2 × 1 of type dbl</caption>\n",
              "<tbody>\n",
              "\t<tr><th scope=row>Mean of Accuracies</th><td>9.761e-01</td></tr>\n",
              "\t<tr><th scope=row>Variance of Accuracies</th><td>9.060e-06</td></tr>\n",
              "</tbody>\n",
              "</table>\n"
            ],
            "text/markdown": "\nA matrix: 2 × 1 of type dbl\n\n| Mean of Accuracies | 9.761e-01 |\n| Variance of Accuracies | 9.060e-06 |\n\n",
            "text/latex": "A matrix: 2 × 1 of type dbl\n\\begin{tabular}{r|l}\n\tMean of Accuracies & 9.761e-01\\\\\n\tVariance of Accuracies & 9.060e-06\\\\\n\\end{tabular}\n",
            "text/plain": [
              "                       [,1]     \n",
              "Mean of Accuracies     9.761e-01\n",
              "Variance of Accuracies 9.060e-06"
            ]
          },
          "metadata": {}
        }
      ]
    },
    {
      "cell_type": "code",
      "metadata": {
        "colab": {
          "base_uri": "https://localhost:8080/",
          "height": 113
        },
        "id": "f2RDIvN785UL",
        "outputId": "c2d50494-74be-4476-bfcc-90111100bca4"
      },
      "source": [
        "print(\"kNN Variance Estimation using 100% of data:\")\n",
        "knn_varEst100"
      ],
      "id": "f2RDIvN785UL",
      "execution_count": 142,
      "outputs": [
        {
          "output_type": "stream",
          "name": "stdout",
          "text": [
            "[1] \"kNN Variance Estimation using 100% of data:\"\n"
          ]
        },
        {
          "output_type": "display_data",
          "data": {
            "text/html": [
              "<table class=\"dataframe\">\n",
              "<caption>A matrix: 2 × 1 of type dbl</caption>\n",
              "<tbody>\n",
              "\t<tr><th scope=row>Mean of Accuracies</th><td>9.889e-01</td></tr>\n",
              "\t<tr><th scope=row>Variance of Accuracies</th><td>7.207e-07</td></tr>\n",
              "</tbody>\n",
              "</table>\n"
            ],
            "text/markdown": "\nA matrix: 2 × 1 of type dbl\n\n| Mean of Accuracies | 9.889e-01 |\n| Variance of Accuracies | 7.207e-07 |\n\n",
            "text/latex": "A matrix: 2 × 1 of type dbl\n\\begin{tabular}{r|l}\n\tMean of Accuracies & 9.889e-01\\\\\n\tVariance of Accuracies & 7.207e-07\\\\\n\\end{tabular}\n",
            "text/plain": [
              "                       [,1]     \n",
              "Mean of Accuracies     9.889e-01\n",
              "Variance of Accuracies 7.207e-07"
            ]
          },
          "metadata": {}
        }
      ]
    },
    {
      "cell_type": "markdown",
      "metadata": {
        "id": "fbRSnyOOV8RH"
      },
      "source": [
        "![image.png](data:image/png;base64,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)"
      ],
      "id": "fbRSnyOOV8RH"
    },
    {
      "cell_type": "markdown",
      "metadata": {
        "id": "sj6jAPZ7n11q"
      },
      "source": [
        "Variance tells you the degree of spread in your data set. The more spread the data, the larger the variance is in relation to the mean. As we can see the variance value is highest in SVM algorithm in relation to mean."
      ],
      "id": "sj6jAPZ7n11q"
    },
    {
      "cell_type": "markdown",
      "metadata": {
        "id": "eVxH5j1ctN8U"
      },
      "source": [
        "***Conclusion:***\n",
        "If we only look at sensitivity(recall) and specificity then sensitivity is a measure of the proportion of actual positive cases that got predicted as positive (or true positive). Sensitivity is also termed as Recall. The higher value of sensitivity would mean higher value of true positive and lower value of false negative. The lower value of sensitivity would mean lower value of true positive and higher value of false negative. While Sensitivity measure is used to determine the proportion of actual positive cases, which got predicted correctly, Specificity measure is used to determine the proportion of actual negative cases, which got predicted correctly.Sensitivity and Specificity measures are used to plot the ROC curve. And, Area under ROC curve (AUC) is used to determine the model performance. For health related problems, models with high sensitivity will be desired. SVM is the model with high sensitivity(recall) and low specificity. But when we consider AUC then.\n",
        "\n",
        "Comparing AUC's and Accuracy of all the Algorithms, the best algorithm to predict would be KNN as it has 99% accuracy as well as 2nd highest AUC. AUC is a better parameter to judge the completeness or viability of prediction as it is not hindered by the number of input variables used for training. Even if there was a 50% reduction or addition of test data, the AUC wouldn't change much as it is independent of the number of values given to the model.\n",
        "\n",
        "Hence, taking into consideration both the parameters, KNN would be the most suitable one."
      ],
      "id": "eVxH5j1ctN8U"
    }
  ]
}